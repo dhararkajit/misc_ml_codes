{
 "cells": [
  {
   "cell_type": "markdown",
   "metadata": {},
   "source": [
    "<center>\n",
    "<img src=\"../../img/ods_stickers.jpg\">\n",
    "## Open Machine Learning Course\n",
    "<center>Author: [Yury Kashnitsky](https://www.linkedin.com/in/festline). Translated and edited by [Christina Butsko](https://www.linkedin.com/in/christinabutsko/), [Nerses Bagiyan](https://www.linkedin.com/in/nersesbagiyan/), [Yulia Klimushina](https://www.linkedin.com/in/yuliya-klimushina-7168a9139), and [Yuanyuan Pao](https://www.linkedin.com/in/yuanyuanpao/).\n",
    "\n",
    "This material is subject to the terms and conditions of the license [Creative Commons CC BY-NC-SA 4.0](https://creativecommons.org/licenses/by-nc-sa/4.0/). Free use is permitted for any non-comercial purpose with an obligatory indication of the names of the authors and of the source."
   ]
  },
  {
   "cell_type": "markdown",
   "metadata": {},
   "source": [
    "# <center>Topic 4. Linear Classification and Regression\n",
    "## <center> Part 3. An Illustrative Example of Logistic Regression Regularization"
   ]
  },
  {
   "cell_type": "markdown",
   "metadata": {},
   "source": [
    "In the first article, we demonstrated how polynomial features allow linear models to build nonlinear separating surfaces. Let's now show this visually.\n",
    "\n",
    "Let's see how regularization affects the quality of classification on a dataset on microchip testing from Andrew Ng's course on machine learning. We will use logistic regression with polynomial features and vary the regularization parameter $C$. First, we will see how regularization affects the separating border of the classifier and intuitively recognize under- and overfitting. Then, we will choose the regularization parameter to be numerically close to the optimal value via (`cross-validation`) and (`GridSearch`)."
   ]
  },
  {
   "cell_type": "code",
   "execution_count": 1,
   "metadata": {},
   "outputs": [],
   "source": [
    "# we don't like warnings\n",
    "# you can comment the following 2 lines if you'd like to\n",
    "import warnings\n",
    "warnings.filterwarnings('ignore')\n",
    "\n",
    "%matplotlib inline\n",
    "from matplotlib import pyplot as plt\n",
    "import seaborn as sns\n",
    "\n",
    "import numpy as np\n",
    "import pandas as pd\n",
    "from sklearn.preprocessing import PolynomialFeatures\n",
    "from sklearn.linear_model import LogisticRegression, LogisticRegressionCV\n",
    "from sklearn.model_selection import cross_val_score, StratifiedKFold\n",
    "from sklearn.model_selection import GridSearchCV"
   ]
  },
  {
   "cell_type": "markdown",
   "metadata": {},
   "source": [
    "Let's load the data using `read_csv` from the `pandas` library. In this dataset on 118 microchips (objects), there are results for two tests of quality control (two numerical variables) and information whether the microchip went into production. Variables are already centered, meaning that the column values have had their own mean values subtracted. Thus, the \"average\" microchip corresponds to a zero value in the test results.  "
   ]
  },
  {
   "cell_type": "code",
   "execution_count": 2,
   "metadata": {},
   "outputs": [
    {
     "name": "stdout",
     "output_type": "stream",
     "text": [
      "<class 'pandas.core.frame.DataFrame'>\n",
      "RangeIndex: 118 entries, 0 to 117\n",
      "Data columns (total 3 columns):\n",
      "test1       118 non-null float64\n",
      "test2       118 non-null float64\n",
      "released    118 non-null int64\n",
      "dtypes: float64(2), int64(1)\n",
      "memory usage: 2.8 KB\n"
     ]
    }
   ],
   "source": [
    "# loading data\n",
    "data = pd.read_csv('../../data/microchip_tests.txt',\n",
    "                   header=None, names = ('test1','test2','released'))\n",
    "# getting some info about dataframe\n",
    "data.info()"
   ]
  },
  {
   "cell_type": "markdown",
   "metadata": {},
   "source": [
    "Let's inspect at the first and last 5 lines."
   ]
  },
  {
   "cell_type": "code",
   "execution_count": 3,
   "metadata": {},
   "outputs": [
    {
     "data": {
      "text/html": [
       "<div>\n",
       "<style scoped>\n",
       "    .dataframe tbody tr th:only-of-type {\n",
       "        vertical-align: middle;\n",
       "    }\n",
       "\n",
       "    .dataframe tbody tr th {\n",
       "        vertical-align: top;\n",
       "    }\n",
       "\n",
       "    .dataframe thead th {\n",
       "        text-align: right;\n",
       "    }\n",
       "</style>\n",
       "<table border=\"1\" class=\"dataframe\">\n",
       "  <thead>\n",
       "    <tr style=\"text-align: right;\">\n",
       "      <th></th>\n",
       "      <th>test1</th>\n",
       "      <th>test2</th>\n",
       "      <th>released</th>\n",
       "    </tr>\n",
       "  </thead>\n",
       "  <tbody>\n",
       "    <tr>\n",
       "      <th>0</th>\n",
       "      <td>0.051267</td>\n",
       "      <td>0.69956</td>\n",
       "      <td>1</td>\n",
       "    </tr>\n",
       "    <tr>\n",
       "      <th>1</th>\n",
       "      <td>-0.092742</td>\n",
       "      <td>0.68494</td>\n",
       "      <td>1</td>\n",
       "    </tr>\n",
       "    <tr>\n",
       "      <th>2</th>\n",
       "      <td>-0.213710</td>\n",
       "      <td>0.69225</td>\n",
       "      <td>1</td>\n",
       "    </tr>\n",
       "    <tr>\n",
       "      <th>3</th>\n",
       "      <td>-0.375000</td>\n",
       "      <td>0.50219</td>\n",
       "      <td>1</td>\n",
       "    </tr>\n",
       "    <tr>\n",
       "      <th>4</th>\n",
       "      <td>-0.513250</td>\n",
       "      <td>0.46564</td>\n",
       "      <td>1</td>\n",
       "    </tr>\n",
       "  </tbody>\n",
       "</table>\n",
       "</div>"
      ],
      "text/plain": [
       "      test1    test2  released\n",
       "0  0.051267  0.69956         1\n",
       "1 -0.092742  0.68494         1\n",
       "2 -0.213710  0.69225         1\n",
       "3 -0.375000  0.50219         1\n",
       "4 -0.513250  0.46564         1"
      ]
     },
     "execution_count": 3,
     "metadata": {},
     "output_type": "execute_result"
    }
   ],
   "source": [
    "data.head(5)"
   ]
  },
  {
   "cell_type": "code",
   "execution_count": 4,
   "metadata": {},
   "outputs": [
    {
     "data": {
      "text/html": [
       "<div>\n",
       "<style scoped>\n",
       "    .dataframe tbody tr th:only-of-type {\n",
       "        vertical-align: middle;\n",
       "    }\n",
       "\n",
       "    .dataframe tbody tr th {\n",
       "        vertical-align: top;\n",
       "    }\n",
       "\n",
       "    .dataframe thead th {\n",
       "        text-align: right;\n",
       "    }\n",
       "</style>\n",
       "<table border=\"1\" class=\"dataframe\">\n",
       "  <thead>\n",
       "    <tr style=\"text-align: right;\">\n",
       "      <th></th>\n",
       "      <th>test1</th>\n",
       "      <th>test2</th>\n",
       "      <th>released</th>\n",
       "    </tr>\n",
       "  </thead>\n",
       "  <tbody>\n",
       "    <tr>\n",
       "      <th>113</th>\n",
       "      <td>-0.720620</td>\n",
       "      <td>0.538740</td>\n",
       "      <td>0</td>\n",
       "    </tr>\n",
       "    <tr>\n",
       "      <th>114</th>\n",
       "      <td>-0.593890</td>\n",
       "      <td>0.494880</td>\n",
       "      <td>0</td>\n",
       "    </tr>\n",
       "    <tr>\n",
       "      <th>115</th>\n",
       "      <td>-0.484450</td>\n",
       "      <td>0.999270</td>\n",
       "      <td>0</td>\n",
       "    </tr>\n",
       "    <tr>\n",
       "      <th>116</th>\n",
       "      <td>-0.006336</td>\n",
       "      <td>0.999270</td>\n",
       "      <td>0</td>\n",
       "    </tr>\n",
       "    <tr>\n",
       "      <th>117</th>\n",
       "      <td>0.632650</td>\n",
       "      <td>-0.030612</td>\n",
       "      <td>0</td>\n",
       "    </tr>\n",
       "  </tbody>\n",
       "</table>\n",
       "</div>"
      ],
      "text/plain": [
       "        test1     test2  released\n",
       "113 -0.720620  0.538740         0\n",
       "114 -0.593890  0.494880         0\n",
       "115 -0.484450  0.999270         0\n",
       "116 -0.006336  0.999270         0\n",
       "117  0.632650 -0.030612         0"
      ]
     },
     "execution_count": 4,
     "metadata": {},
     "output_type": "execute_result"
    }
   ],
   "source": [
    "data.tail(5)"
   ]
  },
  {
   "cell_type": "markdown",
   "metadata": {},
   "source": [
    "Now we should save the training set and the target class labels in separate NumPy arrays."
   ]
  },
  {
   "cell_type": "code",
   "execution_count": 5,
   "metadata": {},
   "outputs": [],
   "source": [
    "X = data.iloc[:,:2].values\n",
    "y = data.iloc[:,2].values"
   ]
  },
  {
   "cell_type": "markdown",
   "metadata": {},
   "source": [
    "As an intermediate step, we can plot the data. Orange points correspond to defective chips, blue to normal ones."
   ]
  },
  {
   "cell_type": "code",
   "execution_count": 6,
   "metadata": {},
   "outputs": [
    {
     "data": {
      "image/png": "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\n",
      "text/plain": [
       "<matplotlib.figure.Figure at 0x20fa41f2748>"
      ]
     },
     "metadata": {},
     "output_type": "display_data"
    }
   ],
   "source": [
    "plt.scatter(X[y == 1, 0], X[y == 1, 1], c='blue', label='Released')\n",
    "plt.scatter(X[y == 0, 0], X[y == 0, 1], c='orange', label='Faulty')\n",
    "plt.xlabel(\"Test 1\")\n",
    "plt.ylabel(\"Test 2\")\n",
    "plt.title('2 tests of microchips. Logit with C=1')\n",
    "plt.legend();"
   ]
  },
  {
   "cell_type": "markdown",
   "metadata": {},
   "source": [
    "Let's define a function to display the separating curve of the classifier."
   ]
  },
  {
   "cell_type": "code",
   "execution_count": 7,
   "metadata": {},
   "outputs": [],
   "source": [
    "def plot_boundary(clf, X, y, grid_step=.01, poly_featurizer=None):\n",
    "    x_min, x_max = X[:, 0].min() - .1, X[:, 0].max() + .1\n",
    "    y_min, y_max = X[:, 1].min() - .1, X[:, 1].max() + .1\n",
    "    xx, yy = np.meshgrid(np.arange(x_min, x_max, grid_step),\n",
    "                         np.arange(y_min, y_max, grid_step))\n",
    "\n",
    "\n",
    "    # to every point from [x_min, m_max]x[y_min, y_max]\n",
    "    # we put in correspondence its own color\n",
    "    Z = clf.predict(poly_featurizer.transform(np.c_[xx.ravel(), yy.ravel()]))\n",
    "    Z = Z.reshape(xx.shape)\n",
    "    plt.contour(xx, yy, Z, cmap=plt.cm.Paired)"
   ]
  },
  {
   "cell_type": "markdown",
   "metadata": {},
   "source": [
    "We define the following polynomial features of degree $d$ for two variables $x_1$ and $x_2$:\n",
    "\n",
    "$$\\large \\{x_1^d, x_1^{d-1}x_2, \\ldots x_2^d\\} =  \\{x_1^ix_2^j\\}_{i+j=d, i,j \\in \\mathbb{N}}$$\n",
    "\n",
    "For example, for $d=3$, this will be the following features:\n",
    "\n",
    "$$\\large 1, x_1, x_2,  x_1^2, x_1x_2, x_2^2, x_1^3, x_1^2x_2, x_1x_2^2, x_2^3$$\n",
    "\n",
    "Drawing a Pythagorean Triangle would show how many of these features there will be for $d=4,5...$ and so on.\n",
    "The number of such features is exponentially large, and it can be costly to build polynomial features of large degree (e.g $d=10$) for 100 variables. More importantly, it's not needed. \n"
   ]
  },
  {
   "cell_type": "markdown",
   "metadata": {},
   "source": [
    "We will use `sklearn`'s implementation of logistic regression. So, we create an object that will add polynomial features up to degree 7 to matrix $X$."
   ]
  },
  {
   "cell_type": "code",
   "execution_count": 8,
   "metadata": {},
   "outputs": [],
   "source": [
    "poly = PolynomialFeatures(degree=7)\n",
    "X_poly = poly.fit_transform(X)"
   ]
  },
  {
   "cell_type": "code",
   "execution_count": 9,
   "metadata": {},
   "outputs": [
    {
     "data": {
      "text/plain": [
       "(118, 36)"
      ]
     },
     "execution_count": 9,
     "metadata": {},
     "output_type": "execute_result"
    }
   ],
   "source": [
    "X_poly.shape"
   ]
  },
  {
   "cell_type": "markdown",
   "metadata": {},
   "source": [
    "Let's train logistic regression with regularization parameter $C = 10^{-2}$."
   ]
  },
  {
   "cell_type": "code",
   "execution_count": 10,
   "metadata": {},
   "outputs": [
    {
     "name": "stdout",
     "output_type": "stream",
     "text": [
      "Accuracy on training set: 0.627\n"
     ]
    },
    {
     "data": {
      "image/png": "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\n",
      "text/plain": [
       "<matplotlib.figure.Figure at 0x20fa42469e8>"
      ]
     },
     "metadata": {},
     "output_type": "display_data"
    }
   ],
   "source": [
    "C = 1e-2\n",
    "logit = LogisticRegression(C=C, random_state=17)\n",
    "logit.fit(X_poly, y)\n",
    "\n",
    "plot_boundary(logit, X, y, grid_step=.01, poly_featurizer=poly)\n",
    "\n",
    "plt.scatter(X[y == 1, 0], X[y == 1, 1], c='blue', label='Released')\n",
    "plt.scatter(X[y == 0, 0], X[y == 0, 1], c='orange', label='Faulty')\n",
    "plt.xlabel(\"Test 1\")\n",
    "plt.ylabel(\"Test 2\")\n",
    "plt.title('2 tests of microchips. Logit with C=%s' % C)\n",
    "plt.legend();\n",
    "\n",
    "print(\"Accuracy on training set:\", \n",
    "      round(logit.score(X_poly, y), 3))"
   ]
  },
  {
   "cell_type": "markdown",
   "metadata": {},
   "source": [
    "We could now try increasing $C$ to 1. In doing this, we weaken regularization, and the solution can now have greater values (in absolute value) of model weights than previously. Now the accuracy of the classifier on the training set improves to 0.831."
   ]
  },
  {
   "cell_type": "code",
   "execution_count": 11,
   "metadata": {},
   "outputs": [
    {
     "name": "stdout",
     "output_type": "stream",
     "text": [
      "Accuracy on training set: 0.831\n"
     ]
    },
    {
     "data": {
      "image/png": "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\n",
      "text/plain": [
       "<matplotlib.figure.Figure at 0x20fa5346160>"
      ]
     },
     "metadata": {},
     "output_type": "display_data"
    }
   ],
   "source": [
    "C = 1\n",
    "logit = LogisticRegression(C=C, random_state=17)\n",
    "logit.fit(X_poly, y)\n",
    "\n",
    "plot_boundary(logit, X, y, grid_step=.005, poly_featurizer=poly)\n",
    "\n",
    "plt.scatter(X[y == 1, 0], X[y == 1, 1], c='blue', label='Released')\n",
    "plt.scatter(X[y == 0, 0], X[y == 0, 1], c='orange', label='Faulty')\n",
    "plt.xlabel(\"Test 1\")\n",
    "plt.ylabel(\"Test 2\")\n",
    "plt.title('2 tests of microchips. Logit with C=%s' % C)\n",
    "plt.legend();\n",
    "\n",
    "print(\"Accuracy on training set:\", \n",
    "      round(logit.score(X_poly, y), 3))"
   ]
  },
  {
   "cell_type": "markdown",
   "metadata": {},
   "source": [
    "Then, why don't we increase $C$ even more - up to 10,000? Now, regularization is clearly not strong enough, and we see overfitting. Note that, with $C$=1 and a \"smooth\" boundary, the share of correct answers on the training set is not much lower than here. But one can easily imagine how our second model will work much better on new data."
   ]
  },
  {
   "cell_type": "code",
   "execution_count": 12,
   "metadata": {},
   "outputs": [
    {
     "name": "stdout",
     "output_type": "stream",
     "text": [
      "Accuracy on training set: 0.873\n"
     ]
    },
    {
     "data": {
      "image/png": "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\n",
      "text/plain": [
       "<matplotlib.figure.Figure at 0x20fa53462b0>"
      ]
     },
     "metadata": {},
     "output_type": "display_data"
    }
   ],
   "source": [
    "C = 1e4\n",
    "logit = LogisticRegression(C=C, random_state=17)\n",
    "logit.fit(X_poly, y)\n",
    "\n",
    "plot_boundary(logit, X, y, grid_step=.005, poly_featurizer=poly)\n",
    "\n",
    "plt.scatter(X[y == 1, 0], X[y == 1, 1], c='blue', label='Released')\n",
    "plt.scatter(X[y == 0, 0], X[y == 0, 1], c='orange', label='Faulty')\n",
    "plt.xlabel(\"Test 1\")\n",
    "plt.ylabel(\"Test 2\")\n",
    "plt.title('2 tests of microchips. Logit with C=%s' % C)\n",
    "plt.legend();\n",
    "\n",
    "print(\"Accuracy on training set:\", \n",
    "      round(logit.score(X_poly, y), 3))"
   ]
  },
  {
   "cell_type": "markdown",
   "metadata": {},
   "source": [
    "To discuss the results, let's rewrite the function that is optimized in logistic regression with the form:\n",
    "\n",
    "$$\\large J(X,y,w) = \\mathcal{L} + \\frac{1}{C}||w||^2,$$\n",
    "\n",
    "where\n",
    "\n",
    "- $\\mathcal{L}$ is the logistic loss function summed over the entire dataset\n",
    "- $C$ is the reverse regularization coefficient (the very same $C$ from `sklearn`'s implementation of `LogisticRegression`)"
   ]
  },
  {
   "cell_type": "markdown",
   "metadata": {},
   "source": [
    "**Subtotals**:\n",
    "- the larger the parameter $C$, the more complex the relationships in the data that the model can recover (intuitively $C$ corresponds to the \"complexity\" of the model - model capacity)\n",
    "- if regularization is too strong i.e. the values of $C$ are small, the solution to the problem of minimizing the logistic loss function may be the one where many of the weights are too small or zeroed. The model is also not sufficiently \"penalized\" for errors (i.e. in the function $J$, the sum of the squares of the weights \"outweighs\", and the error $\\mathcal{L}$ can be relatively large). In this case, the model will underfit as we saw in our first case.\n",
    "- on the contrary, if regularization is too weak i.e. the values of $C$ are large, a vector $w$ with high absolute value components can become the solution to the optimization problem. In this case, $\\mathcal{L}$ has a greater contribution to the optimized functional $J$. Loosely speaking, the model is too \"afraid\" to be mistaken on the objects from the training set and will therefore overfit as we saw in the third case.\n",
    "- logistic regression will not \"understand\" (or \"learn\") what value of $C$ to choose as it does with the weights $w$. That is to say, it can not be determined by solving the optimization problem in logistic regression. We have seen a similar situation before -- a decision tree can not \"learn\" what depth limit to choose during the training process. Therefore, $C$ is the a model hyperparameter that is tuned on cross-validation; so is the max_depth in a tree."
   ]
  },
  {
   "cell_type": "markdown",
   "metadata": {},
   "source": [
    "**Regularization parameter tuning**"
   ]
  },
  {
   "cell_type": "markdown",
   "metadata": {},
   "source": [
    "Using this example, let's identify the optimal value of the regularization parameter $C$. This can be done using `LogisticRegressionCV` - a grid search of parameters followed by cross-validation. This class is designed specifically for logistic regression (effective algorithms with well-known search parameters). For an arbitrary model, use `GridSearchCV`, `RandomizedSearchCV`, or special algorithms for hyperparameter optimization such as the one implemented in `hyperopt`."
   ]
  },
  {
   "cell_type": "code",
   "execution_count": 13,
   "metadata": {},
   "outputs": [
    {
     "name": "stderr",
     "output_type": "stream",
     "text": [
      "[Parallel(n_jobs=-1)]: Done   5 out of   5 | elapsed:   16.9s finished\n"
     ]
    },
    {
     "data": {
      "text/plain": [
       "LogisticRegressionCV(Cs=array([  1.00000e-02,   1.02334e-02, ...,   9.77192e+02,   1.00000e+03]),\n",
       "           class_weight=None,\n",
       "           cv=StratifiedKFold(n_splits=5, random_state=17, shuffle=True),\n",
       "           dual=False, fit_intercept=True, intercept_scaling=1.0,\n",
       "           max_iter=100, multi_class='ovr', n_jobs=-1, penalty='l2',\n",
       "           random_state=None, refit=True, scoring=None, solver='lbfgs',\n",
       "           tol=0.0001, verbose=1)"
      ]
     },
     "execution_count": 13,
     "metadata": {},
     "output_type": "execute_result"
    }
   ],
   "source": [
    "skf = StratifiedKFold(n_splits=5, shuffle=True, random_state=17)\n",
    "\n",
    "c_values = np.logspace(-2, 3, 500)\n",
    "\n",
    "logit_searcher = LogisticRegressionCV(Cs=c_values, cv=skf, verbose=1, n_jobs=-1)\n",
    "logit_searcher.fit(X_poly, y)"
   ]
  },
  {
   "cell_type": "code",
   "execution_count": 14,
   "metadata": {},
   "outputs": [
    {
     "data": {
      "text/plain": [
       "array([ 198.8827857])"
      ]
     },
     "execution_count": 14,
     "metadata": {},
     "output_type": "execute_result"
    }
   ],
   "source": [
    "logit_searcher.C_"
   ]
  },
  {
   "cell_type": "markdown",
   "metadata": {},
   "source": [
    "To see how the quality of the model (percentage of correct responses on the training and validation sets) varies with the hyperparameter $C$, we can plot the graph. "
   ]
  },
  {
   "cell_type": "code",
   "execution_count": 15,
   "metadata": {},
   "outputs": [
    {
     "data": {
      "image/png": "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\n",
      "text/plain": [
       "<matplotlib.figure.Figure at 0x20fa57dc438>"
      ]
     },
     "metadata": {},
     "output_type": "display_data"
    }
   ],
   "source": [
    "plt.plot(c_values, np.mean(logit_searcher.scores_[1], axis=0))\n",
    "plt.xlabel('C')\n",
    "plt.ylabel('Mean CV-accuracy');"
   ]
  },
  {
   "cell_type": "markdown",
   "metadata": {},
   "source": [
    "Finally, select the area with the \"best\" values of $C$."
   ]
  },
  {
   "cell_type": "code",
   "execution_count": 16,
   "metadata": {},
   "outputs": [
    {
     "data": {
      "image/png": "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\n",
      "text/plain": [
       "<matplotlib.figure.Figure at 0x20fa41f2978>"
      ]
     },
     "metadata": {},
     "output_type": "display_data"
    }
   ],
   "source": [
    "plt.plot(c_values, np.mean(logit_searcher.scores_[1], axis=0))\n",
    "plt.xlabel('C')\n",
    "plt.ylabel('Mean CV-accuracy');\n",
    "plt.xlim((0,10));"
   ]
  },
  {
   "cell_type": "markdown",
   "metadata": {},
   "source": [
    "Recall that these curves are called validation curves. Previously, we built them manually, but sklearn has special methods to construct these that we will use going forward."
   ]
  },
  {
<<<<<<< HEAD
   "cell_type": "code",
   "execution_count": null,
   "metadata": {},
   "outputs": [],
   "source": []
=======
   "cell_type": "markdown",
   "metadata": {},
   "source": [
    "### Useful resources\n",
    "- Medium [\"story\"](https://medium.com/open-machine-learning-course/open-machine-learning-course-topic-4-linear-classification-and-regression-44a41b9b5220) based on this notebook\n",
    "- If you read Russian: an [article](https://habrahabr.ru/company/ods/blog/323890/) on Habrahabr with ~ the same material. And a [lecture](https://youtu.be/oTXGQ-_oqvI) on YouTube\n",
    "- A nice and concise overview of linear models is given in the book [“Deep Learning”](http://www.deeplearningbook.org) (I. Goodfellow, Y. Bengio, and A. Courville).\n",
    "- Linear models are covered practically in every ML book. We recommend “Pattern Recognition and Machine Learning” (C. Bishop) and “Machine Learning: A Probabilistic Perspective” (K. Murphy).\n",
    "- If you prefer a thorough overview of linear model from a statistician’s viewpoint, then look at “The elements of statistical learning” (T. Hastie, R. Tibshirani, and J. Friedman).\n",
    "- The book “Machine Learning in Action” (P. Harrington) will walk you through implementations of classic ML algorithms in pure Python.\n",
    "- [Scikit-learn](http://scikit-learn.org/stable/documentation.html) library. These guys work hard on writing really clear documentation.\n",
    "- Scipy 2017 [scikit-learn tutorial](https://github.com/amueller/scipy-2017-sklearn) by Alex Gramfort and Andreas Mueller.\n",
    "- One more [ML course](https://github.com/diefimov/MTH594_MachineLearning) with very good materials.\n",
    "- [Implementations](https://github.com/rushter/MLAlgorithms) of many ML algorithms. Search for linear regression and logistic regression."
   ]
>>>>>>> d76a3633c4e34d4cca9b3efb9855b91b151f92b6
  }
 ],
 "metadata": {
  "anaconda-cloud": {},
  "kernelspec": {
   "display_name": "Python 3",
   "language": "python",
   "name": "python3"
  },
  "language_info": {
   "codemirror_mode": {
    "name": "ipython",
    "version": 3
   },
   "file_extension": ".py",
   "mimetype": "text/x-python",
   "name": "python",
   "nbconvert_exporter": "python",
   "pygments_lexer": "ipython3",
   "version": "3.6.3"
  }
 },
 "nbformat": 4,
 "nbformat_minor": 2
}
