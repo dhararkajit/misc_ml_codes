{
 "cells": [
  {
   "cell_type": "code",
   "execution_count": 1,
   "metadata": {
    "collapsed": true
   },
   "outputs": [],
   "source": [
    "import pandas as pd\n",
    "import os\n",
    "mingw_path = 'C:\\\\mingw-w64\\\\x86_64-5.3.0-posix-seh-rt_v4-rev0\\\\mingw64\\\\bin'\n",
    "\n",
    "os.environ['PATH'] = mingw_path + ';' + os.environ['PATH']"
   ]
  },
  {
   "cell_type": "code",
   "execution_count": 181,
   "metadata": {},
   "outputs": [],
   "source": [
    "import xgboost as xg\n",
    "import datetime\n",
    "import sklearn.preprocessing as pp"
   ]
  },
  {
   "cell_type": "code",
   "execution_count": 56,
   "metadata": {},
   "outputs": [],
   "source": [
    "train = pd.read_csv('CrossSellTarget\\\\Train.csv',)"
   ]
  },
  {
   "cell_type": "code",
   "execution_count": 7,
   "metadata": {},
   "outputs": [
    {
     "name": "stderr",
     "output_type": "stream",
     "text": [
      "C:\\Users\\Arkajit\\Anaconda2\\envs\\TFENV\\lib\\site-packages\\IPython\\core\\interactiveshell.py:2718: DtypeWarning: Columns (8,11,12,13,14,15,16,17,18,19,26,28,29,30,82,83,85,91,269,325,326,327,328) have mixed types. Specify dtype option on import or set low_memory=False.\n",
      "  interactivity=interactivity, compiler=compiler, result=result)\n"
     ]
    }
   ],
   "source": [
    "test = pd.read_csv('CrossSellTarget\\\\Test.csv')"
   ]
  },
  {
   "cell_type": "code",
   "execution_count": 57,
   "metadata": {
    "collapsed": true
   },
   "outputs": [],
   "source": [
    "y_train = train['RESPONDERS']"
   ]
  },
  {
   "cell_type": "code",
   "execution_count": 58,
   "metadata": {
    "collapsed": true
   },
   "outputs": [],
   "source": [
    "train.dropna(axis=1,how='all' ,inplace=True)"
   ]
  },
  {
   "cell_type": "code",
   "execution_count": 8,
   "metadata": {
    "collapsed": true
   },
   "outputs": [],
   "source": [
    "test.dropna(axis=1,how='all',inplace=True)"
   ]
  },
  {
   "cell_type": "code",
   "execution_count": 14,
   "metadata": {},
   "outputs": [
    {
     "data": {
      "text/plain": [
       "323"
      ]
     },
     "execution_count": 14,
     "metadata": {},
     "output_type": "execute_result"
    }
   ],
   "source": [
    "len(train.columns)"
   ]
  },
  {
   "cell_type": "code",
   "execution_count": 15,
   "metadata": {},
   "outputs": [
    {
     "data": {
      "text/plain": [
       "323"
      ]
     },
     "execution_count": 15,
     "metadata": {},
     "output_type": "execute_result"
    }
   ],
   "source": [
    "len(test.columns)"
   ]
  },
  {
   "cell_type": "code",
   "execution_count": 16,
   "metadata": {},
   "outputs": [
    {
     "data": {
      "text/plain": [
       "Index([u'CUSTOMER_ID', u'ACT_TYPE', u'GENDER', u'LEGAL_ENTITY',\n",
       "       u'OCCUP_ALL_NEW', u'AGE', u'N_CASA_MAX_BALANCE_MTD',\n",
       "       u'N_CASA_MIN_BALANCE_MTD', u'BL_TAG', u'TWL_TAG',\n",
       "       ...\n",
       "       u'EOP_MON_03', u'CREDIT_ACT', u'DEBIT_ACT', u'CEL_TAG', u'EL_TAG',\n",
       "       u'AGL_TAG', u'CVL_TAG', u'AL_TAG', u'HL_EMI', u'SCRUB_EMI'],\n",
       "      dtype='object', length=323)"
      ]
     },
     "execution_count": 16,
     "metadata": {},
     "output_type": "execute_result"
    }
   ],
   "source": [
    "train.columns"
   ]
  },
  {
   "cell_type": "code",
   "execution_count": 59,
   "metadata": {},
   "outputs": [
    {
     "name": "stdout",
     "output_type": "stream",
     "text": [
      "BBG_TAG\n",
      "BBG_CLOSED\n",
      "RESPONDERS\n"
     ]
    }
   ],
   "source": [
    "for i in train.columns:\n",
    "    if(i not in test.columns):\n",
    "        print i"
   ]
  },
  {
   "cell_type": "code",
   "execution_count": 60,
   "metadata": {
    "collapsed": true
   },
   "outputs": [],
   "source": [
    "train.drop(['BBG_TAG','BBG_CLOSED','RESPONDERS','ZIP_CODE_FINAL'],axis=1 , inplace=True)\n",
    "test.drop(['ZIP_CODE_FINAL'],axis=1,inplace= True)"
   ]
  },
  {
   "cell_type": "code",
   "execution_count": 62,
   "metadata": {},
   "outputs": [],
   "source": [
    "for i in train.columns:\n",
    "    if len(train[i].astype('category').cat.categories.get_values()) <= 3:\n",
    "        train[i] = train[i].astype('category').cat.codes"
   ]
  },
  {
   "cell_type": "code",
   "execution_count": 67,
   "metadata": {
    "collapsed": true
   },
   "outputs": [],
   "source": [
    "for i in test.columns:\n",
    "    if len(test[i].astype('category').cat.categories.get_values()) <= 3:\n",
    "        test[i] = test[i].astype('category').cat.codes"
   ]
  },
  {
   "cell_type": "code",
   "execution_count": 68,
   "metadata": {
    "collapsed": true
   },
   "outputs": [],
   "source": [
    "dict_train = {}\n",
    "dict_test = {}"
   ]
  },
  {
   "cell_type": "code",
   "execution_count": 169,
   "metadata": {},
   "outputs": [],
   "source": [
    "train['MATURITY_GL_YR'] = train['MATURITY_GL'].apply(lambda x: datetime.datetime.strptime(str(x),'%d%b%Y').year if str(x)  != str(pd.np.nan) else 0 )\n",
    "train['MATURITY_GL_MN'] = train['MATURITY_GL'].apply(lambda x: datetime.datetime.strptime(str(x),'%d%b%Y').month if str(x)  != str(pd.np.nan) else 0 )\n",
    "\n",
    "\n",
    "train['MATURITY_LAP_YR'] = train['MATURITY_LAP'].apply(lambda x: datetime.datetime.strptime(str(x),'%d%b%Y').year if str(x)  != str(pd.np.nan) else 0 )\n",
    "train['MATURITY_LAP_MN'] = train['MATURITY_LAP'].apply(lambda x: datetime.datetime.strptime(str(x),'%d%b%Y').month if str(x)  != str(pd.np.nan) else 0 )\n",
    "\n",
    "\n",
    "train['MATURITY_LAS_YR'] = train['MATURITY_LAS'].apply(lambda x: datetime.datetime.strptime(str(x),'%d%b%Y').year if str(x)  != str(pd.np.nan) else 0 )\n",
    "train['MATURITY_LAS_MN'] = train['MATURITY_LAS'].apply(lambda x: datetime.datetime.strptime(str(x),'%d%b%Y').month if str(x)  != str(pd.np.nan) else 0 )\n",
    "\n",
    "\n",
    "train['CLOSED_DATE_YR'] = train['CLOSED_DATE'].apply(lambda x: datetime.datetime.strptime(str(x),'%d%b%Y').year if str(x)  != str(pd.np.nan) else 0 )\n",
    "train['CLOSED_DATE_MN'] = train['CLOSED_DATE'].apply(lambda x: datetime.datetime.strptime(str(x),'%d%b%Y').month if str(x)  != str(pd.np.nan) else 0 )"
   ]
  },
  {
   "cell_type": "code",
   "execution_count": 174,
   "metadata": {},
   "outputs": [],
   "source": [
    "test['MATURITY_GL_YR'] = test['MATURITY_GL'].apply(lambda x: datetime.datetime.strptime(str(x),'%d%b%Y').year if str(x)  != str(pd.np.nan) else 0 )\n",
    "test['MATURITY_GL_MN'] = test['MATURITY_GL'].apply(lambda x: datetime.datetime.strptime(str(x),'%d%b%Y').month if str(x)  != str(pd.np.nan) else 0 )\n",
    "\n",
    "\n",
    "test['MATURITY_LAP_YR'] = test['MATURITY_LAP'].apply(lambda x: datetime.datetime.strptime(str(x),'%d%b%Y').year if str(x)  != str(pd.np.nan) else 0 )\n",
    "test['MATURITY_LAP_MN'] = test['MATURITY_LAP'].apply(lambda x: datetime.datetime.strptime(str(x),'%d%b%Y').month if str(x)  != str(pd.np.nan) else 0 )\n",
    "\n",
    "\n",
    "test['MATURITY_LAS_YR'] = test['MATURITY_LAS'].apply(lambda x: datetime.datetime.strptime(str(x),'%d%b%Y').year if str(x)  != str(pd.np.nan) else 0 )\n",
    "test['MATURITY_LAS_MN'] = test['MATURITY_LAS'].apply(lambda x: datetime.datetime.strptime(str(x),'%d%b%Y').month if str(x)  != str(pd.np.nan) else 0 )\n",
    "\n",
    "\n",
    "test['CLOSED_DATE_YR'] = test['CLOSED_DATE'].apply(lambda x: datetime.datetime.strptime(str(x),'%d%b%Y').year if str(x)  != str(pd.np.nan) else 0 )\n",
    "test['CLOSED_DATE_MN'] = test['CLOSED_DATE'].apply(lambda x: datetime.datetime.strptime(str(x),'%d%b%Y').month if str(x)  != str(pd.np.nan) else 0 )"
   ]
  },
  {
   "cell_type": "code",
   "execution_count": 176,
   "metadata": {
    "collapsed": true
   },
   "outputs": [],
   "source": [
    "train.drop(['MATURITY_LAS','CLOSED_DATE','MATURITY_LAP','MATURITY_GL'],axis=1,inplace=True)"
   ]
  },
  {
   "cell_type": "code",
   "execution_count": 177,
   "metadata": {
    "collapsed": true
   },
   "outputs": [],
   "source": [
    "test.drop(['MATURITY_LAS','CLOSED_DATE','MATURITY_LAP','MATURITY_GL'],axis=1,inplace=True)"
   ]
  },
  {
   "cell_type": "code",
   "execution_count": 206,
   "metadata": {
    "collapsed": true
   },
   "outputs": [],
   "source": [
    "cat_cols=[#'LEGAL_ENTITY','DESIGNATION_FINAL',\n",
    "          'PA_PQ_TAG','NEFT_CC_CATEGORY','NEFT_DC_CATEGORY','TPT_DC_CATEGORY_MON_01',\n",
    "'TPT_CC_CATEGORY_MON_01','IMPS_CC_CATEGORY_MON_01'\n",
    "    #,'CLOSED_DATE_YR','CLOSED_DATE_MN','MATURITY_LAP_YR','MATURITY_LAP_MN',\n",
    "#'MATURITY_LAS_YR','MATURITY_LAS_MN','MATURITY_GL_YR','MATURITY_GL_MN'\n",
    "]"
   ]
  },
  {
   "cell_type": "code",
   "execution_count": 197,
   "metadata": {},
   "outputs": [
    {
     "name": "stdout",
     "output_type": "stream",
     "text": [
      "PA_PQ_TAG\n",
      "NEFT_CC_CATEGORY\n",
      "NEFT_DC_CATEGORY\n",
      "TPT_DC_CATEGORY_MON_01\n",
      "TPT_CC_CATEGORY_MON_01\n",
      "IMPS_CC_CATEGORY_MON_01\n"
     ]
    }
   ],
   "source": [
    "for i in train.columns:\n",
    "    if (len(train[i].astype('category').cat.categories.get_values()) > 3) & (str(train[i].dtype) == 'object'):\n",
    "        print i"
   ]
  },
  {
   "cell_type": "code",
   "execution_count": 209,
   "metadata": {},
   "outputs": [
    {
     "name": "stdout",
     "output_type": "stream",
     "text": [
      "PA_PQ_TAG\n",
      "NEFT_CC_CATEGORY\n",
      "NEFT_DC_CATEGORY\n",
      "TPT_DC_CATEGORY_MON_01\n",
      "TPT_CC_CATEGORY_MON_01\n",
      "IMPS_CC_CATEGORY_MON_01\n"
     ]
    }
   ],
   "source": [
    "for col in cat_cols:\n",
    "    print col\n",
    "    train[col] = train[col].apply(lambda x: x if str(x)  != str(pd.np.nan) else 0 )\n",
    "    test[col] = test[col].apply(lambda x: x if str(x)  != str(pd.np.nan) else 0 )\n",
    "    data= test[col].append(train[col])\n",
    "    le = pp.LabelEncoder().fit(data)\n",
    "    train[col] = le.transform(train[col])\n",
    "    test[col] = le.transform(test[col])\n",
    "    "
   ]
  },
  {
   "cell_type": "code",
   "execution_count": 223,
   "metadata": {},
   "outputs": [],
   "source": [
    "train.drop(['OCCUP_ALL_NEW'],axis=1,inplace = True)\n",
    "test.drop(['OCCUP_ALL_NEW'],axis=1,inplace = True)"
   ]
  },
  {
   "cell_type": "code",
   "execution_count": 230,
   "metadata": {},
   "outputs": [
    {
     "data": {
      "text/plain": [
       "array([0, 0, 0, ..., 0, 0, 0], dtype=int64)"
      ]
     },
     "execution_count": 230,
     "metadata": {},
     "output_type": "execute_result"
    }
   ],
   "source": [
    "le = pp.LabelEncoder().fit(y_train)\n",
    "y_train = le.transform(y_train)\n",
    "y_train"
   ]
  },
  {
   "cell_type": "code",
   "execution_count": 244,
   "metadata": {},
   "outputs": [],
   "source": [
    "x_train = train.as_matrix()\n",
    "x_test = test.as_matrix()"
   ]
  },
  {
   "cell_type": "code",
   "execution_count": 238,
   "metadata": {},
   "outputs": [
    {
     "name": "stderr",
     "output_type": "stream",
     "text": [
      "C:\\Users\\Arkajit\\Anaconda2\\envs\\TFENV\\lib\\site-packages\\sklearn\\cross_validation.py:41: DeprecationWarning: This module was deprecated in version 0.18 in favor of the model_selection module into which all the refactored classes and functions are moved. Also note that the interface of the new CV iterators are different from that of this module. This module will be removed in 0.20.\n",
      "  \"This module will be removed in 0.20.\", DeprecationWarning)\n",
      "C:\\Users\\Arkajit\\Anaconda2\\envs\\TFENV\\lib\\site-packages\\sklearn\\grid_search.py:42: DeprecationWarning: This module was deprecated in version 0.18 in favor of the model_selection module into which all the refactored classes and functions are moved. This module will be removed in 0.20.\n",
      "  DeprecationWarning)\n"
     ]
    }
   ],
   "source": [
    "from xgboost.sklearn import XGBClassifier\n",
    "from sklearn import cross_validation, metrics   #Additional scklearn functions\n",
    "from sklearn.grid_search import GridSearchCV   #Perforing grid search"
   ]
  },
  {
   "cell_type": "code",
   "execution_count": 242,
   "metadata": {},
   "outputs": [],
   "source": [
    "train.index = train['CUSTOMER_ID']\n",
    "train.drop(['CUSTOMER_ID'],axis=1,inplace=True)"
   ]
  },
  {
   "cell_type": "code",
   "execution_count": 243,
   "metadata": {},
   "outputs": [],
   "source": [
    "test.index = test['CUSTOMER_ID']\n",
    "test.drop(['CUSTOMER_ID'],axis=1,inplace=True)"
   ]
  },
  {
   "cell_type": "code",
   "execution_count": null,
   "metadata": {
    "collapsed": true
   },
   "outputs": [],
   "source": []
  },
  {
   "cell_type": "code",
   "execution_count": null,
   "metadata": {
    "collapsed": true
   },
   "outputs": [],
   "source": []
  }
 ],
 "metadata": {
  "kernelspec": {
   "display_name": "Python 2",
   "language": "python",
   "name": "python2"
  },
  "language_info": {
   "codemirror_mode": {
    "name": "ipython",
    "version": 2
   },
   "file_extension": ".py",
   "mimetype": "text/x-python",
   "name": "python",
   "nbconvert_exporter": "python",
   "pygments_lexer": "ipython2",
   "version": "2.7.13"
  }
 },
 "nbformat": 4,
 "nbformat_minor": 2
}
