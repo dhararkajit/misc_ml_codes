{
 "cells": [
  {
   "cell_type": "code",
   "execution_count": 1,
   "metadata": {
    "collapsed": true
   },
   "outputs": [],
   "source": [
    "import pandas as pd\n",
    "import os\n",
    "#mingw_path = 'C:\\\\mingw-w64\\\\x86_64-5.3.0-posix-seh-rt_v4-rev0\\\\mingw64\\\\bin'\n",
    "\n",
    "#os.environ['PATH'] = mingw_path + ';' + os.environ['PATH']"
   ]
  },
  {
   "cell_type": "code",
   "execution_count": 2,
   "metadata": {
    "collapsed": true
   },
   "outputs": [],
   "source": [
    "#import xgboost as xg\n",
    "import datetime\n",
    "import sklearn.preprocessing as pp"
   ]
  },
  {
   "cell_type": "code",
   "execution_count": 238,
   "metadata": {},
   "outputs": [
    {
     "name": "stderr",
     "output_type": "stream",
     "text": [
      "C:\\Continuum\\Anaconda2\\envs\\TFENV\\lib\\site-packages\\IPython\\core\\interactiveshell.py:2717: DtypeWarning: Columns (8,11,12,13,14,15,16,17,18,19,21,23,26,28,29,30,32,82,83,85,91,269,325,326,327,328) have mixed types. Specify dtype option on import or set low_memory=False.\n",
      "  interactivity=interactivity, compiler=compiler, result=result)\n"
     ]
    }
   ],
   "source": [
    "train = pd.read_csv('CrossSellTarget\\\\Train.csv')"
   ]
  },
  {
   "cell_type": "code",
   "execution_count": 239,
   "metadata": {},
   "outputs": [
    {
     "name": "stderr",
     "output_type": "stream",
     "text": [
      "C:\\Continuum\\Anaconda2\\envs\\TFENV\\lib\\site-packages\\IPython\\core\\interactiveshell.py:2717: DtypeWarning: Columns (8,11,12,13,14,15,16,17,18,19,26,28,29,30,82,83,85,91,269,325,326,327,328) have mixed types. Specify dtype option on import or set low_memory=False.\n",
      "  interactivity=interactivity, compiler=compiler, result=result)\n"
     ]
    }
   ],
   "source": [
    "test = pd.read_csv('CrossSellTarget\\\\Test.csv')"
   ]
  },
  {
   "cell_type": "code",
   "execution_count": 148,
   "metadata": {},
   "outputs": [
    {
     "data": {
      "text/plain": [
       "array(['SALARIED'], dtype=object)"
      ]
     },
     "execution_count": 148,
     "metadata": {},
     "output_type": "execute_result"
    }
   ],
   "source": [
    "train['OCCUP_ALL_NEW'].unique()"
   ]
  },
  {
   "cell_type": "code",
   "execution_count": 240,
   "metadata": {
    "collapsed": true
   },
   "outputs": [],
   "source": [
    "def missing_values_table(df): \n",
    "        mis_val = df.isnull().sum()\n",
    "        mis_val_percent = 100 * df.isnull().sum()/len(df)\n",
    "        mis_val_table = pd.concat([mis_val, mis_val_percent], axis=1)\n",
    "        mis_val_table_ren_columns = mis_val_table.rename(\n",
    "        columns = {0 : 'Missing Values', 1 : '% of Total Values'})\n",
    "        return mis_val_table_ren_columns "
   ]
  },
  {
   "cell_type": "code",
   "execution_count": 241,
   "metadata": {
    "collapsed": true
   },
   "outputs": [],
   "source": [
    "mis_val_table_ren_columns = missing_values_table(train)"
   ]
  },
  {
   "cell_type": "code",
   "execution_count": 242,
   "metadata": {
    "collapsed": true
   },
   "outputs": [],
   "source": [
    "nan_col = list(mis_val_table_ren_columns[mis_val_table_ren_columns['% of Total Values']> 90].index)"
   ]
  },
  {
   "cell_type": "code",
   "execution_count": 243,
   "metadata": {},
   "outputs": [],
   "source": [
    "for col in train.columns.values:\n",
    "    if(len(train[col].unique()) == 1):\n",
    "        nan_col.append(col)"
   ]
  },
  {
   "cell_type": "code",
   "execution_count": 245,
   "metadata": {
    "scrolled": false
   },
   "outputs": [
    {
     "data": {
      "text/plain": [
       "213"
      ]
     },
     "execution_count": 245,
     "metadata": {},
     "output_type": "execute_result"
    }
   ],
   "source": [
    "len(nan_col)"
   ]
  },
  {
   "cell_type": "code",
   "execution_count": 244,
   "metadata": {
    "collapsed": true
   },
   "outputs": [],
   "source": [
    "train.drop(nan_col,axis=1 , inplace=True)\n",
    "test.drop(nan_col,axis=1 , inplace=True)"
   ]
  },
  {
   "cell_type": "code",
   "execution_count": 171,
   "metadata": {
    "scrolled": true
   },
   "outputs": [],
   "source": [
    "train.to_csv('train_pruned.csv')\n",
    "test.to_csv('test_pruned.csv')"
   ]
  },
  {
   "cell_type": "code",
   "execution_count": 187,
   "metadata": {},
   "outputs": [
    {
     "data": {
      "text/plain": [
       "'C:\\\\Continuum\\\\Anaconda2\\\\envs\\\\TFENV\\\\CrossSellTarget\\\\PrunedDS.zip'"
      ]
     },
     "execution_count": 187,
     "metadata": {},
     "output_type": "execute_result"
    }
   ],
   "source": [
    "shutil.make_archive(\"CrossSellTarget\\\\PrunedDS\", \"zip\", \"CrossSellTarget\\\\PrunedDS\")"
   ]
  },
  {
   "cell_type": "code",
   "execution_count": 246,
   "metadata": {
    "collapsed": true
   },
   "outputs": [],
   "source": [
    "y_train = train['RESPONDERS']\n",
    "train.drop(['RESPONDERS'],axis=1,inplace=True)"
   ]
  },
  {
   "cell_type": "code",
   "execution_count": 6,
   "metadata": {
    "collapsed": true
   },
   "outputs": [],
   "source": [
    "train.dropna(axis=1,how='all' ,inplace=True)"
   ]
  },
  {
   "cell_type": "code",
   "execution_count": 7,
   "metadata": {
    "collapsed": true
   },
   "outputs": [],
   "source": [
    "test.dropna(axis=1,how='all',inplace=True)"
   ]
  },
  {
   "cell_type": "code",
   "execution_count": 247,
   "metadata": {},
   "outputs": [
    {
     "data": {
      "text/plain": [
       "126"
      ]
     },
     "execution_count": 247,
     "metadata": {},
     "output_type": "execute_result"
    }
   ],
   "source": [
    "len(train.columns)"
   ]
  },
  {
   "cell_type": "code",
   "execution_count": 248,
   "metadata": {},
   "outputs": [
    {
     "data": {
      "text/plain": [
       "126"
      ]
     },
     "execution_count": 248,
     "metadata": {},
     "output_type": "execute_result"
    }
   ],
   "source": [
    "len(test.columns)"
   ]
  },
  {
   "cell_type": "code",
   "execution_count": 249,
   "metadata": {},
   "outputs": [],
   "source": [
    "for i in train.columns:\n",
    "    if(i not in test.columns):\n",
    "        print (i)"
   ]
  },
  {
   "cell_type": "code",
   "execution_count": 181,
   "metadata": {
    "collapsed": true
   },
   "outputs": [],
   "source": [
    "train.drop(['ZIP_CODE_FINAL'],axis=1 , inplace=True)\n",
    "test.drop(['ZIP_CODE_FINAL'],axis=1,inplace= True)"
   ]
  },
  {
   "cell_type": "code",
   "execution_count": 250,
   "metadata": {
    "collapsed": true
   },
   "outputs": [],
   "source": [
    "for i in train.columns:\n",
    "    if len(train[i].astype('category').cat.categories.get_values()) <= 3:\n",
    "        train[i] = train[i].astype('category').cat.codes"
   ]
  },
  {
   "cell_type": "code",
   "execution_count": 251,
   "metadata": {
    "collapsed": true
   },
   "outputs": [],
   "source": [
    "for i in test.columns:\n",
    "    if len(test[i].astype('category').cat.categories.get_values()) <= 3:\n",
    "        test[i] = test[i].astype('category').cat.codes"
   ]
  },
  {
   "cell_type": "code",
   "execution_count": 17,
   "metadata": {
    "collapsed": true
   },
   "outputs": [],
   "source": [
    "train['MATURITY_GL_YR'] = train['MATURITY_GL'].apply(lambda x: datetime.datetime.strptime(str(x),'%d%b%Y').year if str(x)  != str(pd.np.nan) else -1 )\n",
    "train['MATURITY_GL_MN'] = train['MATURITY_GL'].apply(lambda x: datetime.datetime.strptime(str(x),'%d%b%Y').month if str(x)  != str(pd.np.nan) else -1 )\n",
    "\n",
    "\n",
    "train['MATURITY_LAP_YR'] = train['MATURITY_LAP'].apply(lambda x: datetime.datetime.strptime(str(x),'%d%b%Y').year if str(x)  != str(pd.np.nan) else -1 )\n",
    "train['MATURITY_LAP_MN'] = train['MATURITY_LAP'].apply(lambda x: datetime.datetime.strptime(str(x),'%d%b%Y').month if str(x)  != str(pd.np.nan) else -1 )\n",
    "\n",
    "\n",
    "train['MATURITY_LAS_YR'] = train['MATURITY_LAS'].apply(lambda x: datetime.datetime.strptime(str(x),'%d%b%Y').year if str(x)  != str(pd.np.nan) else -1 )\n",
    "train['MATURITY_LAS_MN'] = train['MATURITY_LAS'].apply(lambda x: datetime.datetime.strptime(str(x),'%d%b%Y').month if str(x)  != str(pd.np.nan) else -1 )\n",
    "\n",
    "\n",
    "train['CLOSED_DATE_YR'] = train['CLOSED_DATE'].apply(lambda x: datetime.datetime.strptime(str(x),'%d%b%Y').year if str(x)  != str(pd.np.nan) else -1 )\n",
    "train['CLOSED_DATE_MN'] = train['CLOSED_DATE'].apply(lambda x: datetime.datetime.strptime(str(x),'%d%b%Y').month if str(x)  != str(pd.np.nan) else -1 )"
   ]
  },
  {
   "cell_type": "code",
   "execution_count": 18,
   "metadata": {
    "collapsed": true
   },
   "outputs": [],
   "source": [
    "test['MATURITY_GL_YR'] = test['MATURITY_GL'].apply(lambda x: datetime.datetime.strptime(str(x),'%d%b%Y').year if str(x)  != str(pd.np.nan) else -1 )\n",
    "test['MATURITY_GL_MN'] = test['MATURITY_GL'].apply(lambda x: datetime.datetime.strptime(str(x),'%d%b%Y').month if str(x)  != str(pd.np.nan) else -1 )\n",
    "\n",
    "\n",
    "test['MATURITY_LAP_YR'] = test['MATURITY_LAP'].apply(lambda x: datetime.datetime.strptime(str(x),'%d%b%Y').year if str(x)  != str(pd.np.nan) else -1 )\n",
    "test['MATURITY_LAP_MN'] = test['MATURITY_LAP'].apply(lambda x: datetime.datetime.strptime(str(x),'%d%b%Y').month if str(x)  != str(pd.np.nan) else -1 )\n",
    "\n",
    "\n",
    "test['MATURITY_LAS_YR'] = test['MATURITY_LAS'].apply(lambda x: datetime.datetime.strptime(str(x),'%d%b%Y').year if str(x)  != str(pd.np.nan) else -1 )\n",
    "test['MATURITY_LAS_MN'] = test['MATURITY_LAS'].apply(lambda x: datetime.datetime.strptime(str(x),'%d%b%Y').month if str(x)  != str(pd.np.nan) else -1 )\n",
    "\n",
    "\n",
    "test['CLOSED_DATE_YR'] = test['CLOSED_DATE'].apply(lambda x: datetime.datetime.strptime(str(x),'%d%b%Y').year if str(x)  != str(pd.np.nan) else -1 )\n",
    "test['CLOSED_DATE_MN'] = test['CLOSED_DATE'].apply(lambda x: datetime.datetime.strptime(str(x),'%d%b%Y').month if str(x)  != str(pd.np.nan) else -1 )"
   ]
  },
  {
   "cell_type": "code",
   "execution_count": null,
   "metadata": {},
   "outputs": [],
   "source": [
    "train.drop(['MATURITY_LAS','CLOSED_DATE','MATURITY_LAP','MATURITY_GL'],axis=1,inplace=True)\n",
    "test.drop(['MATURITY_LAS','CLOSED_DATE','MATURITY_LAP','MATURITY_GL'],axis=1,inplace=True)"
   ]
  },
  {
   "cell_type": "code",
   "execution_count": 254,
   "metadata": {
    "collapsed": true
   },
   "outputs": [],
   "source": [
    "cat_cols=['LEGAL_ENTITY','DESIGNATION_FINAL',\n",
    "          'PA_PQ_TAG','NEFT_CC_CATEGORY','NEFT_DC_CATEGORY','TPT_DC_CATEGORY_MON_01',\n",
    "'TPT_CC_CATEGORY_MON_01','IMPS_CC_CATEGORY_MON_01'\n",
    "    #,'CLOSED_DATE_YR','CLOSED_DATE_MN','MATURITY_LAP_YR','MATURITY_LAP_MN',\n",
    "#'MATURITY_LAS_YR','MATURITY_LAS_MN','MATURITY_GL_YR','MATURITY_GL_MN'\n",
    "]"
   ]
  },
  {
   "cell_type": "code",
   "execution_count": 253,
   "metadata": {},
   "outputs": [
    {
     "name": "stdout",
     "output_type": "stream",
     "text": [
      "LEGAL_ENTITY\n",
      "DESIGNATION_FINAL\n",
      "PA_PQ_TAG\n",
      "NEFT_CC_CATEGORY\n",
      "NEFT_DC_CATEGORY\n",
      "TPT_DC_CATEGORY_MON_01\n",
      "TPT_CC_CATEGORY_MON_01\n",
      "IMPS_CC_CATEGORY_MON_01\n",
      "ZIP_CODE_FINAL\n"
     ]
    }
   ],
   "source": [
    "for i in train.columns:\n",
    "    if (len(train[i].astype('category').cat.categories.get_values()) > 3) & (str(train[i].dtype) == 'object'):\n",
    "        print (i)"
   ]
  },
  {
   "cell_type": "code",
   "execution_count": 255,
   "metadata": {},
   "outputs": [
    {
     "name": "stdout",
     "output_type": "stream",
     "text": [
      "LEGAL_ENTITY\n",
      "DESIGNATION_FINAL\n",
      "PA_PQ_TAG\n",
      "NEFT_CC_CATEGORY\n",
      "NEFT_DC_CATEGORY\n",
      "TPT_DC_CATEGORY_MON_01\n",
      "TPT_CC_CATEGORY_MON_01\n",
      "IMPS_CC_CATEGORY_MON_01\n"
     ]
    }
   ],
   "source": [
    "for col in cat_cols:\n",
    "    print (col)\n",
    "    train[col] = train[col].apply(lambda x: x if str(x)  != str(pd.np.nan) else '-1' )\n",
    "    test[col] = test[col].apply(lambda x: x if str(x)  != str(pd.np.nan) else '-1' )\n",
    "    train[col] = train[col].astype('str')\n",
    "    test[col] = test[col].astype('str')\n",
    "    data= test[col].append(train[col])\n",
    "    data = data.astype('str')\n",
    "    le = pp.LabelEncoder().fit(data)\n",
    "    train[col] = le.transform(train[col])\n",
    "    test[col] = le.transform(test[col])\n",
    "    "
   ]
  },
  {
   "cell_type": "code",
   "execution_count": 261,
   "metadata": {},
   "outputs": [],
   "source": [
    "zip_tr= train['ZIP_CODE_FINAL']\n",
    "zip_ts= test['ZIP_CODE_FINAL']\n",
    "train.drop(['ZIP_CODE_FINAL'] , inplace = True , axis = 1)\n",
    "test.drop(['ZIP_CODE_FINAL'] , inplace = True , axis = 1)"
   ]
  },
  {
   "cell_type": "code",
   "execution_count": 262,
   "metadata": {},
   "outputs": [
    {
     "data": {
      "text/plain": [
       "array([0, 0, 0, ..., 0, 0, 0], dtype=int64)"
      ]
     },
     "execution_count": 262,
     "metadata": {},
     "output_type": "execute_result"
    }
   ],
   "source": [
    "le = pp.LabelEncoder().fit(y_train)\n",
    "y_train = le.transform(y_train)\n",
    "y_train"
   ]
  },
  {
   "cell_type": "code",
   "execution_count": 263,
   "metadata": {},
   "outputs": [
    {
     "name": "stdout",
     "output_type": "stream",
     "text": [
      "CUSTOMER_ID\n",
      "ACT_TYPE\n",
      "GENDER\n",
      "LEGAL_ENTITY\n",
      "AGE\n",
      "N_CASA_MAX_BALANCE_MTD\n",
      "N_CASA_MIN_BALANCE_MTD\n",
      "CC_HOLD_MON_03\n",
      "CC_HOLD_MON_02\n",
      "CC_HOLD_MON_01\n",
      "CC_ACTIVE_MON_03\n",
      "CC_ACTIVE_MON_02\n",
      "CC_ACTIVE_MON_01\n",
      "CC_HOLD\n",
      "CC_ACTIVE\n",
      "DC_HOLD\n",
      "DC_ACTIVE_MON_03\n",
      "DC_ACTIVE_MON_02\n",
      "DC_ACTIVE_MON_01\n",
      "DC_ACTIVE\n",
      "DC_SPEND_MON_03\n",
      "DC_SPEND_MON_02\n",
      "DC_SPEND_MON_01\n",
      "DC_SPEND_MON_04\n",
      "CR_LIMIT\n",
      "STMT_MON_03\n",
      "STMT_MON_02\n",
      "STMT_MON_01\n",
      "COC_ELIGIBLE\n",
      "EOP_BAL_MON_01\n",
      "AMB_MON_04\n",
      "AMB_MON_01\n",
      "AMB_MON_02\n",
      "AMB_MON_03\n",
      "NB_MON_01_CNT\n",
      "NB_MON_02_CNT\n",
      "NB_MON_03_CNT\n",
      "CC_TXN_MON_01\n",
      "CC_SPEND_MON_06\n",
      "CC_TXN_MON_06\n",
      "CC_TXN_MON_03\n",
      "CC_TXN_MON_02\n",
      "CC_TXN_MON_04\n",
      "CC_SPEND_MON_05\n",
      "CC_TXN_MON_05\n",
      "DC_TXN_MON_04\n",
      "DC_TXN_MON_01\n",
      "DC_SPEND_MON_06\n",
      "DC_TXN_MON_06\n",
      "DC_SPEND_MON_05\n",
      "DC_TXN_MON_05\n",
      "DC_TXN_MON_03\n",
      "DC_TXN_MON_02\n",
      "DC_SPEND_MON_04_GRC\n",
      "DC_SPEND_MON_04_RST\n",
      "FINANCE_MON_01\n",
      "JOBS_MON_01\n",
      "LIFESTYLE_MON_01\n",
      "INMON_01KET_MON_01\n",
      "TRAVEL_MON_01\n",
      "CHANNEL_CLICK_DISP\n",
      "DESIGNATION_FINAL\n",
      "TOP14_CITY\n",
      "TOP9_CITY\n",
      "PL2CC_ELIGIBLE\n",
      "D_AMT_L3_MON_06\n",
      "C_AMT_L3_MON_06\n",
      "C_COUNT_L3_MON_06\n",
      "D_COUNT_L3_MON_06\n",
      "MAX_C_AMT_L3_MON_06\n",
      "D_AMT_L3_MON_05\n",
      "C_AMT_L3_MON_05\n",
      "C_COUNT_L3_MON_05\n",
      "D_COUNT_L3_MON_05\n",
      "MAX_C_AMT_L3_MON_05\n",
      "D_AMT_L3_MON_04\n",
      "C_AMT_L3_MON_04\n",
      "C_COUNT_L3_MON_04\n",
      "D_COUNT_L3_MON_04\n",
      "MAX_C_AMT_L3_MON_04\n",
      "D_AMT_L3_MON_03\n",
      "C_AMT_L3_MON_03\n",
      "C_COUNT_L3_MON_03\n",
      "D_COUNT_L3_MON_03\n",
      "MAX_C_AMT_L3_MON_03\n",
      "D_AMT_L3_MON_02\n",
      "C_AMT_L3_MON_02\n",
      "C_COUNT_L3_MON_02\n",
      "D_COUNT_L3_MON_02\n",
      "MAX_C_AMT_L3_MON_02\n",
      "D_AMT_L3_MON_01\n",
      "C_AMT_L3_MON_01\n",
      "C_COUNT_L3_MON_01\n",
      "D_COUNT_L3_MON_01\n",
      "MAX_C_AMT_L3_MON_01\n",
      "PA_PQ_TAG\n",
      "NEFT_CC_AMOUNT\n",
      "NEFT_CC_TXN\n",
      "NEFT_CC_CATEGORY\n",
      "NEFT_DC_AMOUNT\n",
      "NEFT_DC_TXN\n",
      "NEFT_DC_CATEGORY\n",
      "TPT_DC_CATEGORY_MON_01\n",
      "TPT_CC_CATEGORY_MON_01\n",
      "IMPS_CC_CATEGORY_MON_01\n",
      "CRED_NEED_SCORE\n",
      "CARD_AUTOMOBILE_MON_01\n",
      "CARD_HOTEL_MON_01\n",
      "CARD_JEWELLERY_MON_01\n",
      "CARD_RESTAURANT_MON_01\n",
      "CARD_TRAVEL_MON_01\n",
      "CARD_PRSNL_CARE_MON_01\n",
      "CARD_HOBBY_MON_01\n",
      "CARD_HOME_DECOR_MON_01\n",
      "CARD_MEDICAL_MON_01\n",
      "CARD_ENTMNT_MON_01\n",
      "SAL_MON_01\n",
      "SAL_MON_02\n",
      "SAL_MON_03\n",
      "TOP_CORP_TAG\n",
      "EOP_MON_02\n",
      "EOP_MON_03\n",
      "CREDIT_ACT\n",
      "DEBIT_ACT\n",
      "SCRUB_EMI\n"
     ]
    }
   ],
   "source": [
    "for col in train.columns.values:\n",
    "    train[col] = train[col].apply(lambda x: x if str(x) != str(pd.np.nan) else -1)\n",
    "    test[col] = test[col].apply(lambda x: x if str(x) != str(pd.np.nan) else -1)\n",
    "    print (col)"
   ]
  },
  {
   "cell_type": "code",
   "execution_count": 188,
   "metadata": {},
   "outputs": [],
   "source": [
    "#from xgboost.sklearn import XGBClassifier\n",
    "from sklearn import cross_validation, metrics   #Additional scklearn functions\n",
    "from sklearn.grid_search import GridSearchCV   #Perforing grid search"
   ]
  },
  {
   "cell_type": "code",
   "execution_count": 264,
   "metadata": {
    "collapsed": true
   },
   "outputs": [],
   "source": [
    "train.index = train['CUSTOMER_ID']\n",
    "train.drop(['CUSTOMER_ID'],axis=1,inplace=True)"
   ]
  },
  {
   "cell_type": "code",
   "execution_count": 265,
   "metadata": {
    "collapsed": true
   },
   "outputs": [],
   "source": [
    "test.index = test['CUSTOMER_ID']\n",
    "test.drop(['CUSTOMER_ID'],axis=1,inplace=True)"
   ]
  },
  {
   "cell_type": "code",
   "execution_count": 266,
   "metadata": {
    "collapsed": true
   },
   "outputs": [],
   "source": [
    "cor = train.corr()"
   ]
  },
  {
   "cell_type": "code",
   "execution_count": 272,
   "metadata": {},
   "outputs": [
    {
     "name": "stdout",
     "output_type": "stream",
     "text": [
      "1 ['D_AMT_L3_MON_06', 'N_CASA_MAX_BALANCE_MTD'] =>  0.829014096056\n",
      "2 ['C_AMT_L3_MON_06', 'N_CASA_MAX_BALANCE_MTD'] =>  0.830185265317\n",
      "3 ['MAX_C_AMT_L3_MON_06', 'N_CASA_MAX_BALANCE_MTD'] =>  0.833647124703\n",
      "4 ['D_AMT_L3_MON_01', 'N_CASA_MAX_BALANCE_MTD'] =>  0.814700543364\n",
      "5 ['C_AMT_L3_MON_01', 'N_CASA_MAX_BALANCE_MTD'] =>  0.834152782045\n",
      "6 ['MAX_C_AMT_L3_MON_01', 'N_CASA_MAX_BALANCE_MTD'] =>  0.900534805716\n",
      "7 ['NEFT_CC_AMOUNT', 'N_CASA_MAX_BALANCE_MTD'] =>  0.833201381124\n",
      "8 ['CC_HOLD_MON_02', 'CC_HOLD_MON_03'] =>  0.966432097425\n",
      "9 ['CC_HOLD_MON_01', 'CC_HOLD_MON_03'] =>  0.926765221005\n",
      "10 ['CC_HOLD', 'CC_HOLD_MON_03'] =>  0.961387826261\n",
      "11 ['CC_HOLD_MON_01', 'CC_HOLD_MON_02'] =>  0.959511418914\n",
      "12 ['CC_HOLD', 'CC_HOLD_MON_02'] =>  0.96426963006\n",
      "13 ['CC_ACTIVE', 'CC_HOLD_MON_02'] =>  0.805015766607\n",
      "14 ['CC_HOLD', 'CC_HOLD_MON_01'] =>  0.967632601229\n",
      "15 ['CC_ACTIVE', 'CC_HOLD_MON_01'] =>  0.821596284287\n",
      "16 ['CC_ACTIVE_MON_02', 'CC_ACTIVE_MON_03'] =>  0.830637104\n",
      "17 ['CC_ACTIVE_MON_01', 'CC_ACTIVE_MON_03'] =>  0.801837019321\n",
      "18 ['CC_ACTIVE', 'CC_ACTIVE_MON_03'] =>  0.881866581635\n",
      "19 ['CC_ACTIVE_MON_01', 'CC_ACTIVE_MON_02'] =>  0.830614758206\n",
      "20 ['CC_ACTIVE', 'CC_ACTIVE_MON_02'] =>  0.87281983508\n",
      "21 ['CC_ACTIVE', 'CC_ACTIVE_MON_01'] =>  0.900189917184\n",
      "22 ['DC_ACTIVE', 'DC_ACTIVE_MON_03'] =>  0.825899195678\n",
      "23 ['STMT_MON_02', 'STMT_MON_03'] =>  0.838123314225\n",
      "24 ['STMT_MON_01', 'STMT_MON_02'] =>  0.839849952639\n",
      "25 ['COC_ELIGIBLE', 'CRED_NEED_SCORE'] =>  0.808403866996\n",
      "26 ['AMB_MON_01', 'EOP_BAL_MON_01'] =>  0.865781141171\n",
      "27 ['AMB_MON_03', 'AMB_MON_04'] =>  0.869135115436\n",
      "28 ['AMB_MON_01', 'AMB_MON_02'] =>  0.844615309927\n",
      "29 ['AMB_MON_01', 'EOP_MON_02'] =>  0.875750140449\n",
      "30 ['AMB_MON_02', 'AMB_MON_03'] =>  0.862704140084\n",
      "31 ['AMB_MON_02', 'EOP_MON_02'] =>  0.896821042787\n",
      "32 ['AMB_MON_02', 'EOP_MON_03'] =>  0.882791846174\n",
      "33 ['AMB_MON_03', 'EOP_MON_03'] =>  0.895028260052\n",
      "34 ['NB_MON_01_CNT', 'NB_MON_02_CNT'] =>  0.823489624287\n",
      "35 ['NB_MON_02_CNT', 'NB_MON_03_CNT'] =>  0.823277689369\n",
      "36 ['CC_TXN_MON_01', 'CC_TXN_MON_02'] =>  0.840795769127\n",
      "37 ['CC_TXN_MON_02', 'CC_TXN_MON_03'] =>  0.823929214753\n",
      "38 ['CC_TXN_MON_03', 'CC_TXN_MON_04'] =>  0.839312902465\n",
      "39 ['CC_TXN_MON_04', 'CC_TXN_MON_05'] =>  0.829406229914\n",
      "40 ['DC_TXN_MON_04', 'D_COUNT_L3_MON_04'] =>  0.803629991764\n",
      "41 ['DC_TXN_MON_01', 'DC_TXN_MON_02'] =>  0.807479580872\n",
      "42 ['DC_TXN_MON_02', 'DC_TXN_MON_03'] =>  0.802080988034\n",
      "43 ['TOP14_CITY', 'TOP9_CITY'] =>  0.899339622266\n",
      "44 ['C_AMT_L3_MON_06', 'D_AMT_L3_MON_06'] =>  0.998297409331\n",
      "45 ['D_AMT_L3_MON_06', 'MAX_C_AMT_L3_MON_06'] =>  0.991911103527\n",
      "46 ['D_AMT_L3_MON_01', 'D_AMT_L3_MON_06'] =>  0.851384791097\n",
      "47 ['C_AMT_L3_MON_01', 'D_AMT_L3_MON_06'] =>  0.854716687661\n",
      "48 ['D_AMT_L3_MON_06', 'MAX_C_AMT_L3_MON_01'] =>  0.885320923313\n",
      "49 ['D_AMT_L3_MON_06', 'NEFT_CC_AMOUNT'] =>  0.945847328881\n",
      "50 ['C_AMT_L3_MON_06', 'MAX_C_AMT_L3_MON_06'] =>  0.993382422823\n",
      "51 ['C_AMT_L3_MON_06', 'D_AMT_L3_MON_01'] =>  0.851201297103\n",
      "52 ['C_AMT_L3_MON_01', 'C_AMT_L3_MON_06'] =>  0.85428710799\n",
      "53 ['C_AMT_L3_MON_06', 'MAX_C_AMT_L3_MON_01'] =>  0.884509541821\n",
      "54 ['C_AMT_L3_MON_06', 'NEFT_CC_AMOUNT'] =>  0.944879469036\n",
      "55 ['D_COUNT_L3_MON_05', 'D_COUNT_L3_MON_06'] =>  0.815019409403\n",
      "56 ['D_AMT_L3_MON_01', 'MAX_C_AMT_L3_MON_06'] =>  0.818237847637\n",
      "57 ['C_AMT_L3_MON_01', 'MAX_C_AMT_L3_MON_06'] =>  0.82188637809\n",
      "58 ['MAX_C_AMT_L3_MON_01', 'MAX_C_AMT_L3_MON_06'] =>  0.885767389051\n",
      "59 ['MAX_C_AMT_L3_MON_06', 'NEFT_CC_AMOUNT'] =>  0.949092979979\n",
      "60 ['C_AMT_L3_MON_05', 'D_AMT_L3_MON_05'] =>  0.956352812947\n",
      "61 ['D_AMT_L3_MON_04', 'D_AMT_L3_MON_05'] =>  0.812497445813\n",
      "62 ['C_AMT_L3_MON_04', 'D_AMT_L3_MON_05'] =>  0.806158190599\n",
      "63 ['C_AMT_L3_MON_05', 'D_AMT_L3_MON_04'] =>  0.818963702186\n",
      "64 ['D_COUNT_L3_MON_04', 'D_COUNT_L3_MON_05'] =>  0.826514425949\n",
      "65 ['C_AMT_L3_MON_04', 'D_AMT_L3_MON_04'] =>  0.980469442628\n",
      "66 ['D_COUNT_L3_MON_03', 'D_COUNT_L3_MON_04'] =>  0.83979639371\n",
      "67 ['C_AMT_L3_MON_03', 'D_AMT_L3_MON_03'] =>  0.996284964112\n",
      "68 ['D_AMT_L3_MON_03', 'MAX_C_AMT_L3_MON_03'] =>  0.903077661995\n",
      "69 ['C_AMT_L3_MON_03', 'MAX_C_AMT_L3_MON_03'] =>  0.916126450466\n",
      "70 ['D_COUNT_L3_MON_02', 'D_COUNT_L3_MON_03'] =>  0.838680483818\n",
      "71 ['C_AMT_L3_MON_02', 'D_AMT_L3_MON_02'] =>  0.942998114712\n",
      "72 ['D_COUNT_L3_MON_01', 'D_COUNT_L3_MON_02'] =>  0.846092134525\n",
      "73 ['C_AMT_L3_MON_01', 'D_AMT_L3_MON_01'] =>  0.978825884608\n",
      "74 ['D_AMT_L3_MON_01', 'MAX_C_AMT_L3_MON_01'] =>  0.891574365158\n",
      "75 ['D_AMT_L3_MON_01', 'NEFT_CC_AMOUNT'] =>  0.851358743167\n",
      "76 ['C_AMT_L3_MON_01', 'MAX_C_AMT_L3_MON_01'] =>  0.921075411453\n",
      "77 ['C_AMT_L3_MON_01', 'NEFT_CC_AMOUNT'] =>  0.858199474512\n",
      "78 ['MAX_C_AMT_L3_MON_01', 'NEFT_CC_AMOUNT'] =>  0.896903255216\n",
      "79 ['CREDIT_ACT', 'DEBIT_ACT'] =>  0.845139714734\n"
     ]
    }
   ],
   "source": [
    "cols=[]\n",
    "i=0\n",
    "for col in cor.columns.values:\n",
    "    for index in cor[col].index:\n",
    "        if(cor.get_value(index,col) > 0.80 or cor.get_value(index,col) < -0.80) and (index != col ) and sorted((index,col)) not in cols:\n",
    "            i+=1\n",
    "            tpl = (index,col)\n",
    "            cols.append(sorted(tpl))\n",
    "            print ( i,sorted(tpl),'=> ',cor.get_value(index,col))\n",
    "            "
   ]
  },
  {
   "cell_type": "code",
   "execution_count": 273,
   "metadata": {
    "collapsed": true
   },
   "outputs": [],
   "source": [
    "cols_0= [i[0] for i in cols]\n",
    "cols_1= [i[1] for i in cols]"
   ]
  },
  {
   "cell_type": "code",
   "execution_count": 274,
   "metadata": {
    "collapsed": true
   },
   "outputs": [],
   "source": [
    "#cols_0 = list(set(cols_0))\n",
    "cols_0.sort()\n",
    "#cols_1 = list(set(cols_1))\n",
    "cols_1.sort()"
   ]
  },
  {
   "cell_type": "code",
   "execution_count": 275,
   "metadata": {},
   "outputs": [
    {
     "data": {
      "text/plain": [
       "24"
      ]
     },
     "execution_count": 275,
     "metadata": {},
     "output_type": "execute_result"
    }
   ],
   "source": [
    "col_rem=[]\n",
    "for col in cols_0:\n",
    "    if col in cols_1:\n",
    "        col_rem.append(col)\n",
    "col_rem = list(set(col_rem))\n",
    "\n",
    "cols_0 = list(set(cols_0))\n",
    "for col in col_rem:\n",
    "    if col in cols_0:\n",
    "        cols_0.remove(col)\n",
    "len(col_rem)"
   ]
  },
  {
   "cell_type": "code",
   "execution_count": 276,
   "metadata": {},
   "outputs": [],
   "source": [
    "train.drop(col_rem, axis=1,inplace=True)\n",
    "test.drop(col_rem,axis=1,inplace=True)"
   ]
  },
  {
   "cell_type": "code",
   "execution_count": 277,
   "metadata": {},
   "outputs": [
    {
     "data": {
      "text/plain": [
       "18"
      ]
     },
     "execution_count": 277,
     "metadata": {},
     "output_type": "execute_result"
    }
   ],
   "source": [
    "len(cols_0)"
   ]
  },
  {
   "cell_type": "code",
   "execution_count": 278,
   "metadata": {
    "collapsed": true
   },
   "outputs": [],
   "source": [
    "train.drop(cols_0, axis=1,inplace=True)\n",
    "test.drop(cols_0,axis=1,inplace=True)"
   ]
  },
  {
   "cell_type": "code",
   "execution_count": 280,
   "metadata": {},
   "outputs": [
    {
     "data": {
      "text/plain": [
       "(300000, 82)"
      ]
     },
     "execution_count": 280,
     "metadata": {},
     "output_type": "execute_result"
    }
   ],
   "source": [
    "train.shape"
   ]
  },
  {
   "cell_type": "code",
   "execution_count": 281,
   "metadata": {},
   "outputs": [
    {
     "data": {
      "text/plain": [
       "(200000, 82)"
      ]
     },
     "execution_count": 281,
     "metadata": {},
     "output_type": "execute_result"
    }
   ],
   "source": [
    "test.shape"
   ]
  },
  {
   "cell_type": "code",
   "execution_count": null,
   "metadata": {
    "collapsed": true
   },
   "outputs": [],
   "source": []
  },
  {
   "cell_type": "code",
   "execution_count": null,
   "metadata": {
    "collapsed": true
   },
   "outputs": [],
   "source": []
  },
  {
   "cell_type": "code",
   "execution_count": 282,
   "metadata": {
    "collapsed": true
   },
   "outputs": [],
   "source": [
    "from sklearn.decomposition import PCA\n",
    "from sklearn.linear_model import SGDClassifier, LogisticRegression, LogisticRegressionCV\n",
    "from sklearn.ensemble import RandomForestClassifier"
   ]
  },
  {
   "cell_type": "code",
   "execution_count": 283,
   "metadata": {
    "collapsed": true
   },
   "outputs": [],
   "source": [
    "x_train = train.as_matrix()\n",
    "x_test = test.as_matrix()"
   ]
  },
  {
   "cell_type": "code",
   "execution_count": 284,
   "metadata": {
    "collapsed": true
   },
   "outputs": [],
   "source": [
    "pca = PCA(n_components=3)"
   ]
  },
  {
   "cell_type": "code",
   "execution_count": 285,
   "metadata": {},
   "outputs": [
    {
     "data": {
      "text/plain": [
       "PCA(copy=True, iterated_power='auto', n_components=3, random_state=None,\n",
       "  svd_solver='auto', tol=0.0, whiten=False)"
      ]
     },
     "execution_count": 285,
     "metadata": {},
     "output_type": "execute_result"
    }
   ],
   "source": [
    "pca.fit(x_train)"
   ]
  },
  {
   "cell_type": "code",
   "execution_count": 286,
   "metadata": {},
   "outputs": [],
   "source": [
    "score = pca.explained_variance_ratio_\n",
    "V = pca.components_"
   ]
  },
  {
   "cell_type": "code",
   "execution_count": 287,
   "metadata": {
    "collapsed": true
   },
   "outputs": [],
   "source": [
    "x_train_trans = pca.transform(x_train)\n",
    "x_test_trans = pca.transform(x_test)"
   ]
  },
  {
   "cell_type": "code",
   "execution_count": 288,
   "metadata": {},
   "outputs": [],
   "source": [
    "model = LogisticRegression()\n",
    "#model = SGDClassifier()\n",
    "#model = LogisticRegressionCV()\n",
    "#model = RandomForestClassifier(max_features = None , n_jobs=2)"
   ]
  },
  {
   "cell_type": "code",
   "execution_count": 289,
   "metadata": {},
   "outputs": [
    {
     "data": {
      "text/plain": [
       "LogisticRegression(C=1.0, class_weight=None, dual=False, fit_intercept=True,\n",
       "          intercept_scaling=1, max_iter=100, multi_class='ovr', n_jobs=1,\n",
       "          penalty='l2', random_state=None, solver='liblinear', tol=0.0001,\n",
       "          verbose=0, warm_start=False)"
      ]
     },
     "execution_count": 289,
     "metadata": {},
     "output_type": "execute_result"
    }
   ],
   "source": [
    "model.fit(x_train_trans,y_train)\n",
    "#model.fit(x_train,y_train)"
   ]
  },
  {
   "cell_type": "code",
   "execution_count": 290,
   "metadata": {
    "collapsed": true
   },
   "outputs": [],
   "source": [
    "y_pred=model.predict(x_test_trans)\n",
    "#y_pred=model.predict(x_test)"
   ]
  },
  {
   "cell_type": "code",
   "execution_count": 132,
   "metadata": {
    "collapsed": true
   },
   "outputs": [],
   "source": [
    "#y_pred = le.inverse_transform(y_pred)"
   ]
  },
  {
   "cell_type": "code",
   "execution_count": 291,
   "metadata": {
    "collapsed": true
   },
   "outputs": [],
   "source": [
    "y_pred = pd.DataFrame(y_pred,columns=['RESPONDERS'])\n",
    "y_pred.index = test.index"
   ]
  },
  {
   "cell_type": "code",
   "execution_count": 292,
   "metadata": {},
   "outputs": [
    {
     "data": {
      "text/plain": [
       "'C:\\\\Continuum\\\\Anaconda2\\\\envs\\\\TFENV\\\\CrossSellTarget\\\\submission.zip'"
      ]
     },
     "execution_count": 292,
     "metadata": {},
     "output_type": "execute_result"
    }
   ],
   "source": [
    "import shutil\n",
    "y_pred.to_csv('CrossSellTarget\\\\submission\\\\sample_submission.csv')\n",
    "shutil.make_archive(\"CrossSellTarget\\\\submission\", \"zip\", \"CrossSellTarget\\\\submission\")"
   ]
  },
  {
   "cell_type": "code",
   "execution_count": null,
   "metadata": {
    "collapsed": true
   },
   "outputs": [],
   "source": []
  },
  {
   "cell_type": "code",
   "execution_count": null,
   "metadata": {
    "collapsed": true
   },
   "outputs": [],
   "source": []
  }
 ],
 "metadata": {
  "kernelspec": {
   "display_name": "Python 3",
   "language": "python",
   "name": "python3"
  },
  "language_info": {
   "codemirror_mode": {
    "name": "ipython",
    "version": 3
   },
   "file_extension": ".py",
   "mimetype": "text/x-python",
   "name": "python",
   "nbconvert_exporter": "python",
   "pygments_lexer": "ipython3",
   "version": "3.5.3"
  }
 },
 "nbformat": 4,
 "nbformat_minor": 2
}
