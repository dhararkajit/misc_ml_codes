{
 "cells": [
  {
   "cell_type": "code",
   "execution_count": 19,
   "metadata": {
    "collapsed": true
   },
   "outputs": [],
   "source": [
    "import pygame, sys, random, time"
   ]
  },
  {
   "cell_type": "code",
   "execution_count": 37,
   "metadata": {},
   "outputs": [],
   "source": [
    "def game_init():\n",
    "    check_errors = pygame.init()\n",
    "    i=5\n",
    "    if check_errors[1] > 0:\n",
    "        print(\"(!) Had {0} initializing errors, exiting...\".format(check_errors[1]))\n",
    "        sys.exit(-1)\n",
    "    else:\n",
    "        print(\"(+) PyGame successfully initialized!\")\n",
    "    return i"
   ]
  },
  {
   "cell_type": "code",
   "execution_count": 40,
   "metadata": {},
   "outputs": [],
   "source": [
    "def game(): \n",
    "    i=game_init()\n",
    "    red = pygame.Color(255, 0, 0) # gameover\n",
    "    green = pygame.Color(0, 255, 0) #snake\n",
    "    black = pygame.Color(0, 0, 0) #score\n",
    "    white = pygame.Color(255, 255, 255) #background\n",
    "    brown = pygame.Color(165, 42, 42) #food\n",
    "    fpsController = pygame.time.Clock()\n",
    "    playSurface = pygame.display.set_mode((720, 460))\n",
    "    pygame.display.set_caption('Snake game!')\n",
    "    snakePos = [100, 50]\n",
    "    snakeBody = [[100,50], [90,50], [80,50]]\n",
    "    foodPos = [random.randrange(1,72)*10,random.randrange(1,46)*10]\n",
    "    foodSpawn = True\n",
    "    score=0\n",
    "    def showScore(choice=1):\n",
    "        sFont = pygame.font.SysFont('monaco', 24)\n",
    "        Ssurf = sFont.render('Score : {0}'.format(score) , True, black)\n",
    "        Srect = Ssurf.get_rect()\n",
    "        if choice == 1:\n",
    "            Srect.midtop = (80, 10)\n",
    "        else:\n",
    "            Srect.midtop = (360, 120)\n",
    "        playSurface.blit(Ssurf,Srect)\n",
    "    direction = 'RIGHT'\n",
    "    changeto = direction\n",
    "    def gameOver():\n",
    "        myFont = pygame.font.SysFont('monaco', 72)\n",
    "        GOsurf = myFont.render('Game over!', True, red)\n",
    "        GOrect = GOsurf.get_rect()\n",
    "        GOrect.midtop = (360, 15)\n",
    "        playSurface.blit(GOsurf,GOrect)\n",
    "        showScore(0)\n",
    "        pygame.display.flip()\n",
    "\n",
    "        time.sleep(4)\n",
    "        #pygame.quit() #pygame exit\n",
    "        #sys.exit() #console \n",
    "        game()\n",
    "    while True:\n",
    "        for event in pygame.event.get():\n",
    "            if event.type == pygame.QUIT:\n",
    "                pygame.quit()\n",
    "                sys.exit()\n",
    "            elif event.type == pygame.KEYDOWN:\n",
    "                if event.key == pygame.K_RIGHT or event.key == ord('d'):\n",
    "                    changeto = 'RIGHT' \n",
    "                if event.key == pygame.K_LEFT or event.key == ord('a'):\n",
    "                    changeto = 'LEFT' \n",
    "                if event.key == pygame.K_UP or event.key == ord('w'):\n",
    "                    changeto = 'UP' \n",
    "                if event.key == pygame.K_DOWN or event.key == ord('s'):\n",
    "                    changeto = 'DOWN' \n",
    "                if event.key == pygame.K_ESCAPE:\n",
    "                    pygame.event.post(pygame.event.Event(pygame.QUIT))\n",
    "\n",
    "        # validation of direction\n",
    "        if changeto == 'RIGHT' and not direction == 'LEFT':\n",
    "            direction = 'RIGHT'\n",
    "        if changeto == 'LEFT' and not direction == 'RIGHT':\n",
    "            direction = 'LEFT'\n",
    "        if changeto == 'UP' and not direction == 'DOWN':\n",
    "            direction = 'UP'\n",
    "        if changeto == 'DOWN' and not direction == 'UP':\n",
    "            direction = 'DOWN'\n",
    "\n",
    "        # Update snake position [x,y]\n",
    "        if direction == 'RIGHT':\n",
    "            snakePos[0] += 10\n",
    "        if direction == 'LEFT':\n",
    "            snakePos[0] -= 10\n",
    "        if direction == 'UP':\n",
    "            snakePos[1] -= 10\n",
    "        if direction == 'DOWN':\n",
    "            snakePos[1] += 10\n",
    "\n",
    "\n",
    "        # Snake body mechanism\n",
    "        snakeBody.insert(0, list(snakePos))\n",
    "        \n",
    "        if snakePos[0] == foodPos[0] and snakePos[1] == foodPos[1]:\n",
    "            score += 1\n",
    "            foodSpawn = False\n",
    "            i+=1\n",
    "            fpsController.tick(i)\n",
    "        else:\n",
    "            snakeBody.pop()\n",
    "\n",
    "        #Food Spawn\n",
    "        if foodSpawn == False:\n",
    "            foodPos = [random.randrange(1,72)*10,random.randrange(1,46)*10] \n",
    "        foodSpawn = True\n",
    "\n",
    "        #Background\n",
    "        playSurface.fill(white)\n",
    "\n",
    "        #Draw Snake \n",
    "        for pos in snakeBody:\n",
    "            pygame.draw.rect(playSurface, green, pygame.Rect(pos[0],pos[1],10,10))\n",
    "\n",
    "        pygame.draw.rect(playSurface, brown, pygame.Rect(foodPos[0],foodPos[1],10,10))\n",
    "\n",
    "        # Bound\n",
    "        if snakePos[0] > 710 or snakePos[0] < 0:\n",
    "            gameOver()\n",
    "        if snakePos[1] > 450 or snakePos[1] < 0:\n",
    "            gameOver()\n",
    "\n",
    "        # Self hit\n",
    "        for block in snakeBody[1:]:\n",
    "            if snakePos[0] == block[0] and snakePos[1] == block[1]:\n",
    "                gameOver()\n",
    "\n",
    "        #common stuff\n",
    "        showScore()\n",
    "        pygame.display.flip()\n",
    "        fpsController.tick(i)\n",
    "        "
   ]
  },
  {
   "cell_type": "code",
   "execution_count": 41,
   "metadata": {},
   "outputs": [
    {
     "name": "stdout",
     "output_type": "stream",
     "text": [
      "(+) PyGame successfully initialized!\n",
      "(+) PyGame successfully initialized!\n",
      "(+) PyGame successfully initialized!\n",
      "(+) PyGame successfully initialized!\n"
     ]
    },
    {
     "ename": "SystemExit",
     "evalue": "",
     "output_type": "error",
     "traceback": [
      "An exception has occurred, use %tb to see the full traceback.\n",
      "\u001b[1;31mSystemExit\u001b[0m\n"
     ]
    },
    {
     "name": "stderr",
     "output_type": "stream",
     "text": [
      "c:\\users\\work\\anaconda2\\envs\\tfenv\\lib\\site-packages\\IPython\\core\\interactiveshell.py:2870: UserWarning: To exit: use 'exit', 'quit', or Ctrl-D.\n",
      "  warn(\"To exit: use 'exit', 'quit', or Ctrl-D.\", stacklevel=1)\n"
     ]
    }
   ],
   "source": [
    "game()"
   ]
  },
  {
   "cell_type": "code",
   "execution_count": null,
   "metadata": {
    "collapsed": true
   },
   "outputs": [],
   "source": []
  },
  {
   "cell_type": "code",
   "execution_count": null,
   "metadata": {
    "collapsed": true
   },
   "outputs": [],
   "source": []
  },
  {
   "cell_type": "code",
   "execution_count": null,
   "metadata": {
    "collapsed": true
   },
   "outputs": [],
   "source": []
  },
  {
   "cell_type": "code",
   "execution_count": null,
   "metadata": {
    "collapsed": true
   },
   "outputs": [],
   "source": []
  }
 ],
 "metadata": {
  "kernelspec": {
   "display_name": "Python 3",
   "language": "python",
   "name": "python3"
  },
  "language_info": {
   "codemirror_mode": {
    "name": "ipython",
    "version": 3
   },
   "file_extension": ".py",
   "mimetype": "text/x-python",
   "name": "python",
   "nbconvert_exporter": "python",
   "pygments_lexer": "ipython3",
   "version": "3.5.3"
  }
 },
 "nbformat": 4,
 "nbformat_minor": 2
}
