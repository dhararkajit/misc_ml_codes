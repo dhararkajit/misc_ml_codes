{
 "cells": [
  {
   "cell_type": "code",
   "execution_count": 1,
   "metadata": {
    "collapsed": true
   },
   "outputs": [],
   "source": [
    "import pandas as pd\n",
    "import numpy as np\n",
    "import imblearn as imb\n",
    "#pd.set_option('display.max_columns', None)"
   ]
  },
  {
   "cell_type": "code",
   "execution_count": 38,
   "metadata": {},
   "outputs": [
    {
     "name": "stderr",
     "output_type": "stream",
     "text": [
      "C:\\Continuum\\Anaconda2\\envs\\TFENV\\lib\\site-packages\\IPython\\core\\interactiveshell.py:2717: DtypeWarning: Columns (294,299,300,302,307,313,315,365,367,369) have mixed types. Specify dtype option on import or set low_memory=False.\n",
      "  interactivity=interactivity, compiler=compiler, result=result)\n"
     ]
    }
   ],
   "source": [
    "train = pd.read_csv('train.csv')"
   ]
  },
  {
   "cell_type": "code",
   "execution_count": 3,
   "metadata": {},
   "outputs": [
    {
     "name": "stderr",
     "output_type": "stream",
     "text": [
      "C:\\Continuum\\Anaconda2\\envs\\TFENV\\lib\\site-packages\\IPython\\core\\interactiveshell.py:2717: DtypeWarning: Columns (294,299,300,302,313,315,365,367,369) have mixed types. Specify dtype option on import or set low_memory=False.\n",
      "  interactivity=interactivity, compiler=compiler, result=result)\n"
     ]
    }
   ],
   "source": [
    "test = pd.read_csv('test.csv')"
   ]
  },
  {
   "cell_type": "code",
   "execution_count": 4,
   "metadata": {},
   "outputs": [
    {
     "data": {
      "text/plain": [
       "(300000, 377)"
      ]
     },
     "execution_count": 4,
     "metadata": {},
     "output_type": "execute_result"
    }
   ],
   "source": [
    "train.shape"
   ]
  },
  {
   "cell_type": "code",
   "execution_count": 5,
   "metadata": {},
   "outputs": [
    {
     "data": {
      "text/plain": [
       "0    248303\n",
       "1     51697\n",
       "Name: Responders, dtype: int64"
      ]
     },
     "execution_count": 5,
     "metadata": {},
     "output_type": "execute_result"
    }
   ],
   "source": [
    "train.Responders.value_counts()"
   ]
  },
  {
   "cell_type": "code",
   "execution_count": 39,
   "metadata": {
    "collapsed": true
   },
   "outputs": [],
   "source": [
    "def missing_values_table(df): \n",
    "        mis_val = df.isnull().sum()\n",
    "        mis_val_percent = 100 * df.isnull().sum()/len(df)\n",
    "        mis_val_table = pd.concat([mis_val, mis_val_percent], axis=1)\n",
    "        mis_val_table_ren_columns = mis_val_table.rename(\n",
    "        columns = {0 : 'Missing Values', 1 : '% of Total Values'})\n",
    "        return mis_val_table_ren_columns"
   ]
  },
  {
   "cell_type": "code",
   "execution_count": 40,
   "metadata": {
    "collapsed": true
   },
   "outputs": [],
   "source": [
    "mis_val_table_ren_columns = missing_values_table(train)"
   ]
  },
  {
   "cell_type": "code",
   "execution_count": 41,
   "metadata": {
    "collapsed": true
   },
   "outputs": [],
   "source": [
    "nan_col = list(mis_val_table_ren_columns[mis_val_table_ren_columns['% of Total Values']> 90].index)"
   ]
  },
  {
   "cell_type": "code",
   "execution_count": 42,
   "metadata": {},
   "outputs": [
    {
     "name": "stdout",
     "output_type": "stream",
     "text": [
      "91\n"
     ]
    }
   ],
   "source": [
    "print(len(nan_col))"
   ]
  },
  {
   "cell_type": "code",
   "execution_count": 43,
   "metadata": {
    "collapsed": true
   },
   "outputs": [],
   "source": [
    "train.drop(nan_col, inplace=True, axis=1)"
   ]
  },
  {
   "cell_type": "code",
   "execution_count": 12,
   "metadata": {
    "collapsed": true
   },
   "outputs": [],
   "source": [
    "test.drop(nan_col, inplace=True, axis=1)"
   ]
  },
  {
   "cell_type": "code",
   "execution_count": 45,
   "metadata": {},
   "outputs": [
    {
     "data": {
      "text/plain": [
       "(200000, 112)"
      ]
     },
     "execution_count": 45,
     "metadata": {},
     "output_type": "execute_result"
    }
   ],
   "source": [
    "test.shape"
   ]
  },
  {
   "cell_type": "code",
   "execution_count": 14,
   "metadata": {
    "collapsed": true
   },
   "outputs": [],
   "source": [
    "#ind=[]\n",
    "#for ix,row in train.iterrows():\n",
    "#    if row.isnull().sum() > 80 :\n",
    "#        #print (row.isnull().sum())\n",
    "#        ind.append(ix)"
   ]
  },
  {
   "cell_type": "code",
   "execution_count": 15,
   "metadata": {},
   "outputs": [],
   "source": [
    "#len(ind)"
   ]
  },
  {
   "cell_type": "code",
   "execution_count": 16,
   "metadata": {
    "collapsed": true
   },
   "outputs": [],
   "source": [
    "def confusion_mat(train,y_train,col,val): \n",
    "    m_y=[]\n",
    "    m_n=[]\n",
    "    for i in range(len(val)):\n",
    "        m_y.append(0)\n",
    "        m_n.append(0)\n",
    "    \n",
    "    for i in train.index.values:\n",
    "        for j in range(len(val)):\n",
    "            if( train.get_value(i,col) == val[j]) and (y_train.get_value(i) == 1):\n",
    "                m_y[j]+=1\n",
    "            elif( train.get_value(i,col) == val[j]) and (y_train.get_value(i) == 0):\n",
    "                m_n[j]+=1\n",
    "    print ('\\tchurned','\\tnot churned','\\t%churned in all churned','\\t%churned for this indivdual category','\\n')\n",
    "    for i in range(len(val)):\n",
    "        print (val[i],'\\t',m_y[i],'\\t',m_n[i],'\\t',round(100 * m_y[i]/sum(m_y),2),'%','\\t',round(100 * m_y[i]/(m_y[i]+m_n[i]),2),'%','\\n')"
   ]
  },
  {
   "cell_type": "code",
   "execution_count": 46,
   "metadata": {
    "collapsed": true
   },
   "outputs": [],
   "source": [
    "obj_cols = list(train.select_dtypes(include = ['O']).columns)"
   ]
  },
  {
   "cell_type": "code",
   "execution_count": 47,
   "metadata": {},
   "outputs": [
    {
     "name": "stdout",
     "output_type": "stream",
     "text": [
      "HNW_CATEGORY ['2_Preferred', '1_Imperia', '3_Classic']\n",
      "OCCUP_ALL_NEW ['HOUSEWIFE', 'SALARIED', 'SELF_EMPLOYED', 'INDIVIDUAL', 'RETIRED', 'STUDENT', 'NON_INDIVIDUA', 'MISSING', nan]\n",
      "FINAL_WORTH_prev1 ['HIGH', 'MEDIUM', 'LOW', nan]\n",
      "ENGAGEMENT_TAG_prev1 ['LOW', 'MEDIUM', 'HIGH', nan, 'NO']\n",
      "EFT_SELF_TRANSFER_PrevQ1 ['N', 'Y']\n",
      "CC_TAG_LIVE [nan, 'Y']\n",
      "DEMAT_TAG_LIVE [nan, 'Y']\n",
      "SEC_ACC_TAG_LIVE [nan, 'Y']\n",
      "INS_TAG_LIVE [nan, 'Y']\n",
      "FD_TAG_LIVE [nan, 'Y']\n",
      "Billpay_Active_PrevQ1_N ['A_MISSING', 'B_1']\n",
      "Billpay_Reg_ason_Prev1_N ['A_MISSING', 'B_1']\n",
      "Charges_cnt_PrevQ1_N ['A_MISSING', 'D_3', 'C_2', 'B_1']\n",
      "FRX_PrevQ1_N ['A_MISSING', 'B_1']\n",
      "RBI_Class_Audit ['SEMI-URBAN', 'METROPOLITAN', 'URBAN', 'RURAL']\n",
      "gender_bin ['Female', 'Male', 'Missin']\n"
     ]
    }
   ],
   "source": [
    "for col in obj_cols:\n",
    "    if col != 'city':\n",
    "        print(col , list(train[col].unique()))"
   ]
  },
  {
   "cell_type": "code",
   "execution_count": 49,
   "metadata": {},
   "outputs": [],
   "source": [
    "for col in obj_cols:\n",
    "    #print(col)\n",
    "    #train[col] = train[col].astype('category').cat.codes\n",
    "    train[col] = train[col].apply(lambda x: x if x not in ['MISSING','Missing','missing','Missin','missing'] else pd.np.nan)\n",
    "    #test[col] = test[col].apply(lambda x: x if x not in ['MISSING','Missing','missing','Missin','missing'] else pd.np.nan)"
   ]
  },
  {
   "cell_type": "code",
   "execution_count": 50,
   "metadata": {},
   "outputs": [
    {
     "data": {
      "text/plain": [
       "gender_bin  Responders\n",
       "Female      0              99588\n",
       "            1              19624\n",
       "Male        0             143919\n",
       "            1              30908\n",
       "Name: Responders, dtype: int64"
      ]
     },
     "execution_count": 50,
     "metadata": {},
     "output_type": "execute_result"
    }
   ],
   "source": [
    "train.groupby(['gender_bin','Responders'])['Responders'].count()"
   ]
  },
  {
   "cell_type": "code",
   "execution_count": 51,
   "metadata": {},
   "outputs": [
    {
     "data": {
      "text/plain": [
       "OCCUP_ALL_NEW  Responders\n",
       "HOUSEWIFE      0             47764\n",
       "               1              9745\n",
       "INDIVIDUAL     0             23659\n",
       "               1              4101\n",
       "NON_INDIVIDUA  0               387\n",
       "               1                60\n",
       "RETIRED        0             18143\n",
       "               1              2883\n",
       "SALARIED       0             59279\n",
       "               1             11290\n",
       "SELF_EMPLOYED  0             79767\n",
       "               1             20240\n",
       "STUDENT        0             18603\n",
       "               1              3238\n",
       "Name: Responders, dtype: int64"
      ]
     },
     "execution_count": 51,
     "metadata": {},
     "output_type": "execute_result"
    }
   ],
   "source": [
    "train.groupby(['OCCUP_ALL_NEW','Responders'])['Responders'].count()"
   ]
  },
  {
   "cell_type": "code",
   "execution_count": 52,
   "metadata": {},
   "outputs": [
    {
     "data": {
      "text/plain": [
       "gender_bin  OCCUP_ALL_NEW  Responders\n",
       "Female      HOUSEWIFE      0             47109\n",
       "                           1              9596\n",
       "            INDIVIDUAL     0              9564\n",
       "                           1              1675\n",
       "            NON_INDIVIDUA  0                90\n",
       "                           1                17\n",
       "            RETIRED        0              3705\n",
       "                           1               560\n",
       "            SALARIED       0             16399\n",
       "                           1              3012\n",
       "            SELF_EMPLOYED  0             13435\n",
       "                           1              3268\n",
       "            STUDENT        0              9084\n",
       "                           1              1452\n",
       "Male        HOUSEWIFE      0               655\n",
       "                           1               149\n",
       "            INDIVIDUAL     0             13866\n",
       "                           1              2386\n",
       "            NON_INDIVIDUA  0               255\n",
       "                           1                36\n",
       "            RETIRED        0             14435\n",
       "                           1              2321\n",
       "            SALARIED       0             42867\n",
       "                           1              8276\n",
       "            SELF_EMPLOYED  0             61880\n",
       "                           1             15867\n",
       "            STUDENT        0              9518\n",
       "                           1              1786\n",
       "Name: Responders, dtype: int64"
      ]
     },
     "execution_count": 52,
     "metadata": {},
     "output_type": "execute_result"
    }
   ],
   "source": [
    "train.groupby(['gender_bin','OCCUP_ALL_NEW','Responders'])['Responders'].count()"
   ]
  },
  {
   "cell_type": "code",
   "execution_count": null,
   "metadata": {},
   "outputs": [],
   "source": [
    "train.gender_bin[train['OCCUP_ALL_NEW'] == 'HOUSEWIFE'] = 'Female'\n",
    "test.gender_bin[test['OCCUP_ALL_NEW'] == 'HOUSEWIFE'] = 'Female'"
   ]
  },
  {
   "cell_type": "code",
   "execution_count": 53,
   "metadata": {
    "collapsed": true
   },
   "outputs": [],
   "source": [
    "y_train = train['Responders']\n",
    "train.drop(['Responders'],axis = 1,inplace=True)"
   ]
  },
  {
   "cell_type": "code",
   "execution_count": 22,
   "metadata": {},
   "outputs": [
    {
     "name": "stdout",
     "output_type": "stream",
     "text": [
      "\tchurned \tnot churned \t%churned in all churned \t%churned for this indivdual category \n",
      "\n",
      "N \t 50631 \t 246357 \t 97.94 % \t 17.05 % \n",
      "\n",
      "Y \t 1066 \t 1946 \t 2.06 % \t 35.39 % \n",
      "\n"
     ]
    }
   ],
   "source": [
    "confusion_mat(train,y_train,'EFT_SELF_TRANSFER_PrevQ1',list(train['EFT_SELF_TRANSFER_PrevQ1'].unique()))"
   ]
  },
  {
   "cell_type": "code",
   "execution_count": 23,
   "metadata": {},
   "outputs": [
    {
     "name": "stdout",
     "output_type": "stream",
     "text": [
      "\tchurned \tnot churned \t%churned in all churned \t%churned for this indivdual category \n",
      "\n",
      "Female \t 19624 \t 99588 \t 38.83 % \t 16.46 % \n",
      "\n",
      "Male \t 30908 \t 143919 \t 61.17 % \t 17.68 % \n",
      "\n"
     ]
    },
    {
     "ename": "ZeroDivisionError",
     "evalue": "division by zero",
     "output_type": "error",
     "traceback": [
      "\u001b[1;31m---------------------------------------------------------------------------\u001b[0m",
      "\u001b[1;31mZeroDivisionError\u001b[0m                         Traceback (most recent call last)",
      "\u001b[1;32m<ipython-input-23-a32243cd92f6>\u001b[0m in \u001b[0;36m<module>\u001b[1;34m()\u001b[0m\n\u001b[1;32m----> 1\u001b[1;33m \u001b[0mconfusion_mat\u001b[0m\u001b[1;33m(\u001b[0m\u001b[0mtrain\u001b[0m\u001b[1;33m,\u001b[0m\u001b[0my_train\u001b[0m\u001b[1;33m,\u001b[0m\u001b[1;34m'gender_bin'\u001b[0m\u001b[1;33m,\u001b[0m\u001b[0mlist\u001b[0m\u001b[1;33m(\u001b[0m\u001b[0mtrain\u001b[0m\u001b[1;33m[\u001b[0m\u001b[1;34m'gender_bin'\u001b[0m\u001b[1;33m]\u001b[0m\u001b[1;33m.\u001b[0m\u001b[0munique\u001b[0m\u001b[1;33m(\u001b[0m\u001b[1;33m)\u001b[0m\u001b[1;33m)\u001b[0m\u001b[1;33m)\u001b[0m\u001b[1;33m\u001b[0m\u001b[0m\n\u001b[0m",
      "\u001b[1;32m<ipython-input-17-2e9ce3fd9ee2>\u001b[0m in \u001b[0;36mconfusion_mat\u001b[1;34m(train, y_train, col, val)\u001b[0m\n\u001b[0;32m     14\u001b[0m     \u001b[0mprint\u001b[0m \u001b[1;33m(\u001b[0m\u001b[1;34m'\\tchurned'\u001b[0m\u001b[1;33m,\u001b[0m\u001b[1;34m'\\tnot churned'\u001b[0m\u001b[1;33m,\u001b[0m\u001b[1;34m'\\t%churned in all churned'\u001b[0m\u001b[1;33m,\u001b[0m\u001b[1;34m'\\t%churned for this indivdual category'\u001b[0m\u001b[1;33m,\u001b[0m\u001b[1;34m'\\n'\u001b[0m\u001b[1;33m)\u001b[0m\u001b[1;33m\u001b[0m\u001b[0m\n\u001b[0;32m     15\u001b[0m     \u001b[1;32mfor\u001b[0m \u001b[0mi\u001b[0m \u001b[1;32min\u001b[0m \u001b[0mrange\u001b[0m\u001b[1;33m(\u001b[0m\u001b[0mlen\u001b[0m\u001b[1;33m(\u001b[0m\u001b[0mval\u001b[0m\u001b[1;33m)\u001b[0m\u001b[1;33m)\u001b[0m\u001b[1;33m:\u001b[0m\u001b[1;33m\u001b[0m\u001b[0m\n\u001b[1;32m---> 16\u001b[1;33m         \u001b[0mprint\u001b[0m \u001b[1;33m(\u001b[0m\u001b[0mval\u001b[0m\u001b[1;33m[\u001b[0m\u001b[0mi\u001b[0m\u001b[1;33m]\u001b[0m\u001b[1;33m,\u001b[0m\u001b[1;34m'\\t'\u001b[0m\u001b[1;33m,\u001b[0m\u001b[0mm_y\u001b[0m\u001b[1;33m[\u001b[0m\u001b[0mi\u001b[0m\u001b[1;33m]\u001b[0m\u001b[1;33m,\u001b[0m\u001b[1;34m'\\t'\u001b[0m\u001b[1;33m,\u001b[0m\u001b[0mm_n\u001b[0m\u001b[1;33m[\u001b[0m\u001b[0mi\u001b[0m\u001b[1;33m]\u001b[0m\u001b[1;33m,\u001b[0m\u001b[1;34m'\\t'\u001b[0m\u001b[1;33m,\u001b[0m\u001b[0mround\u001b[0m\u001b[1;33m(\u001b[0m\u001b[1;36m100\u001b[0m \u001b[1;33m*\u001b[0m \u001b[0mm_y\u001b[0m\u001b[1;33m[\u001b[0m\u001b[0mi\u001b[0m\u001b[1;33m]\u001b[0m\u001b[1;33m/\u001b[0m\u001b[0msum\u001b[0m\u001b[1;33m(\u001b[0m\u001b[0mm_y\u001b[0m\u001b[1;33m)\u001b[0m\u001b[1;33m,\u001b[0m\u001b[1;36m2\u001b[0m\u001b[1;33m)\u001b[0m\u001b[1;33m,\u001b[0m\u001b[1;34m'%'\u001b[0m\u001b[1;33m,\u001b[0m\u001b[1;34m'\\t'\u001b[0m\u001b[1;33m,\u001b[0m\u001b[0mround\u001b[0m\u001b[1;33m(\u001b[0m\u001b[1;36m100\u001b[0m \u001b[1;33m*\u001b[0m \u001b[0mm_y\u001b[0m\u001b[1;33m[\u001b[0m\u001b[0mi\u001b[0m\u001b[1;33m]\u001b[0m\u001b[1;33m/\u001b[0m\u001b[1;33m(\u001b[0m\u001b[0mm_y\u001b[0m\u001b[1;33m[\u001b[0m\u001b[0mi\u001b[0m\u001b[1;33m]\u001b[0m\u001b[1;33m+\u001b[0m\u001b[0mm_n\u001b[0m\u001b[1;33m[\u001b[0m\u001b[0mi\u001b[0m\u001b[1;33m]\u001b[0m\u001b[1;33m)\u001b[0m\u001b[1;33m,\u001b[0m\u001b[1;36m2\u001b[0m\u001b[1;33m)\u001b[0m\u001b[1;33m,\u001b[0m\u001b[1;34m'%'\u001b[0m\u001b[1;33m,\u001b[0m\u001b[1;34m'\\n'\u001b[0m\u001b[1;33m)\u001b[0m\u001b[1;33m\u001b[0m\u001b[0m\n\u001b[0m",
      "\u001b[1;31mZeroDivisionError\u001b[0m: division by zero"
     ]
    }
   ],
   "source": [
    "confusion_mat(train,y_train,'gender_bin',list(train['gender_bin'].unique()))"
   ]
  },
  {
   "cell_type": "code",
   "execution_count": null,
   "metadata": {
    "collapsed": true
   },
   "outputs": [],
   "source": [
    "confusion_mat(train,y_train,'HNW_CATEGORY',list(train['HNW_CATEGORY'].unique()))"
   ]
  },
  {
   "cell_type": "code",
   "execution_count": null,
   "metadata": {
    "collapsed": true
   },
   "outputs": [],
   "source": [
    "confusion_mat(train,y_train,'OCCUP_ALL_NEW',list(train['OCCUP_ALL_NEW'].unique()))"
   ]
  },
  {
   "cell_type": "code",
   "execution_count": null,
   "metadata": {
    "collapsed": true
   },
   "outputs": [],
   "source": [
    "confusion_mat(train,y_train,'FINAL_WORTH_prev1',list(train['FINAL_WORTH_prev1'].unique()))"
   ]
  },
  {
   "cell_type": "code",
   "execution_count": null,
   "metadata": {},
   "outputs": [],
   "source": [
    "train.drop(['CC_TAG_LIVE','DEMAT_TAG_LIVE','SEC_ACC_TAG_LIVE','INS_TAG_LIVE','FD_TAG_LIVE'],axis=1,inplace=True)\n",
    "test.drop(['CC_TAG_LIVE','DEMAT_TAG_LIVE','SEC_ACC_TAG_LIVE','INS_TAG_LIVE','FD_TAG_LIVE'],axis=1,inplace=True)"
   ]
  },
  {
   "cell_type": "code",
   "execution_count": 57,
   "metadata": {
    "collapsed": true
   },
   "outputs": [],
   "source": [
    "obj_cols = list(train.select_dtypes(include = ['O']).columns)"
   ]
  },
  {
   "cell_type": "code",
   "execution_count": 58,
   "metadata": {
    "collapsed": true
   },
   "outputs": [],
   "source": [
    "for col in obj_cols:\n",
    "    #print(col)\n",
    "    train[col] = train[col].astype('category').cat.codes\n",
    "    test[col] = test[col].astype('category').cat.codes"
   ]
  },
  {
   "cell_type": "code",
   "execution_count": 60,
   "metadata": {},
   "outputs": [
    {
     "data": {
      "text/plain": [
       "array([dtype('int64'), dtype('int8'), dtype('int16'), dtype('float64')], dtype=object)"
      ]
     },
     "execution_count": 60,
     "metadata": {},
     "output_type": "execute_result"
    }
   ],
   "source": [
    "test.dtypes.unique()"
   ]
  },
  {
   "cell_type": "code",
   "execution_count": 61,
   "metadata": {
    "collapsed": true
   },
   "outputs": [],
   "source": [
    "cor = train.corr()"
   ]
  },
  {
   "cell_type": "code",
   "execution_count": 62,
   "metadata": {
    "collapsed": true
   },
   "outputs": [],
   "source": [
    "i=0\n",
    "cols = []\n",
    "for col in cor.columns.values:\n",
    "    for index in cor[col].index:\n",
    "        if(cor.get_value(index,col) > 0.80 or cor.get_value(index,col) < -0.80) and (index != col ) and sorted((index,col)) not in cols:\n",
    "            i+=1\n",
    "            tpl = (index,col)\n",
    "            cols.append(sorted(tpl))\n",
    "            #print ( i,sorted(tpl),'=> ',cor.get_value(index,col))"
   ]
  },
  {
   "cell_type": "code",
   "execution_count": 63,
   "metadata": {},
   "outputs": [
    {
     "name": "stdout",
     "output_type": "stream",
     "text": [
      "32 93\n"
     ]
    }
   ],
   "source": [
    "cols_0= [i[0] for i in cols]\n",
    "cols_1= [i[1] for i in cols]\n",
    "#cols_0 = list(set(cols_0))\n",
    "cols_0.sort()\n",
    "#cols_1 = list(set(cols_1))\n",
    "cols_1.sort()\n",
    "col_rem=[]\n",
    "for col in cols_0:\n",
    "    if col in cols_1:\n",
    "        col_rem.append(col)\n",
    "col_rem = list(set(col_rem))\n",
    "\n",
    "cols_0 = list(set(cols_0))\n",
    "for col in col_rem:\n",
    "    if col in cols_0:\n",
    "        cols_0.remove(col)\n",
    "print (len(cols_0),len(col_rem))"
   ]
  },
  {
   "cell_type": "code",
   "execution_count": null,
   "metadata": {},
   "outputs": [],
   "source": [
    "train.drop(col_rem, axis=1,inplace=True)\n",
    "test.drop(col_rem,axis=1,inplace=True)"
   ]
  },
  {
   "cell_type": "code",
   "execution_count": 66,
   "metadata": {
    "collapsed": true
   },
   "outputs": [],
   "source": [
    "train.drop(cols_0, axis=1,inplace=True)\n",
    "test.drop(cols_0,axis=1,inplace=True)"
   ]
  },
  {
   "cell_type": "code",
   "execution_count": 68,
   "metadata": {},
   "outputs": [],
   "source": [
    "for col in train.columns.values:\n",
    "    train[col] = train[col].apply(lambda x: x if str(x) != str(pd.np.nan) else -1)\n",
    "    test[col] = test[col].apply(lambda x: x if str(x) != str(pd.np.nan) else -1)"
   ]
  },
  {
   "cell_type": "code",
   "execution_count": 69,
   "metadata": {
    "collapsed": true
   },
   "outputs": [],
   "source": [
    "col_sing_val=[]\n",
    "for col in train.columns.values:\n",
    "    if len(train[col].unique()) == 1:\n",
    "        col_sing_val.append(col)"
   ]
  },
  {
   "cell_type": "code",
   "execution_count": 70,
   "metadata": {},
   "outputs": [
    {
     "data": {
      "text/plain": [
       "(300000, 113)"
      ]
     },
     "execution_count": 70,
     "metadata": {},
     "output_type": "execute_result"
    }
   ],
   "source": [
    "train.drop(col_sing_val,axis=1,inplace=True)\n",
    "#test.drop(col_sing_val,axis=1,inplace=True)\n",
    "train.shape"
   ]
  },
  {
   "cell_type": "code",
   "execution_count": 78,
   "metadata": {},
   "outputs": [
    {
     "data": {
      "text/plain": [
       "(300000, 112)"
      ]
     },
     "execution_count": 78,
     "metadata": {},
     "output_type": "execute_result"
    }
   ],
   "source": [
    "#pd.plotting.scatter_matrix(train)\n",
    "#plt.show()\n",
    "train.shape"
   ]
  },
  {
   "cell_type": "code",
   "execution_count": null,
   "metadata": {},
   "outputs": [],
   "source": [
    "train.index = train['UCIC_ID']\n",
    "train.drop(['UCIC_ID'],axis=1,inplace=True)"
   ]
  },
  {
   "cell_type": "code",
   "execution_count": 35,
   "metadata": {
    "collapsed": true
   },
   "outputs": [],
   "source": [
    "test.index = test['UCIC_ID']\n",
    "test.drop(['UCIC_ID'],axis=1,inplace=True)"
   ]
  },
  {
   "cell_type": "code",
   "execution_count": 79,
   "metadata": {},
   "outputs": [
    {
     "data": {
      "text/plain": [
       "'C:\\\\Continuum\\\\Anaconda2\\\\envs\\\\TFENV\\\\ChurnPrediction\\\\PrunedDS.zip'"
      ]
     },
     "execution_count": 79,
     "metadata": {},
     "output_type": "execute_result"
    }
   ],
   "source": [
    "import shutil\n",
    "train.to_csv('PrunedDS\\\\train_pruned.csv')\n",
    "test.to_csv('PrunedDS\\\\test_pruned.csv')\n",
    "y_train.to_csv('PrunedDS\\\\target.csv')\n",
    "shutil.make_archive(\"PrunedDS\", \"zip\", \"PrunedDS\")"
   ]
  },
  {
   "cell_type": "code",
   "execution_count": 80,
   "metadata": {
    "collapsed": true
   },
   "outputs": [],
   "source": [
    "from sklearn.decomposition import PCA\n",
    "from sklearn.linear_model import SGDClassifier, LogisticRegression, LogisticRegressionCV\n",
    "from sklearn.ensemble import RandomForestClassifier\n",
    "from sklearn.naive_bayes import MultinomialNB\n",
    "from sklearn.model_selection import train_test_split"
   ]
  },
  {
   "cell_type": "code",
   "execution_count": 81,
   "metadata": {},
   "outputs": [
    {
     "name": "stdout",
     "output_type": "stream",
     "text": [
      "[(0, 4674), (1, 4674), (2, 4674)]\n"
     ]
    }
   ],
   "source": [
    "from imblearn.over_sampling import RandomOverSampler\n",
    "from sklearn.datasets import make_classification\n",
    "from collections import Counter\n",
    "\n",
    "\n",
    "X, y = make_classification(n_samples=5000, n_features=2, n_informative=2,\n",
    "                            n_redundant=0, n_repeated=0, n_classes=3,\n",
    "                            n_clusters_per_class=1,\n",
    "                            weights=[0.01, 0.05, 0.94],\n",
    "                            class_sep=0.8, random_state=0)\n",
    "\n",
    "\n",
    "ros = RandomOverSampler(random_state=0)\n",
    "X_resampled, y_resampled = ros.fit_sample(X, y)\n",
    "print(sorted(Counter(y_resampled).items()))\n"
   ]
  },
  {
   "cell_type": "code",
   "execution_count": 82,
   "metadata": {},
   "outputs": [],
   "source": [
    "x_train = train.as_matrix()\n",
    "y_train = y_train.as_matrix()\n",
    "x_test = test.as_matrix()"
   ]
  },
  {
   "cell_type": "code",
   "execution_count": 90,
   "metadata": {},
   "outputs": [
    {
     "name": "stdout",
     "output_type": "stream",
     "text": [
      "[(0, 248303), (1, 248303)]\n"
     ]
    }
   ],
   "source": [
    "from imblearn.over_sampling import SMOTE\n",
    "smote= SMOTE()\n",
    "X_resampled_smt , y_resampled_smt = smote.fit_sample(x_train,y_train)\n",
    "print(sorted(Counter(y_resampled).items()))"
   ]
  },
  {
   "cell_type": "code",
   "execution_count": 84,
   "metadata": {},
   "outputs": [
    {
     "name": "stdout",
     "output_type": "stream",
     "text": [
      "[(0, 248303), (1, 51697)]\n",
      "[(0, 248303), (1, 248303)]\n"
     ]
    }
   ],
   "source": [
    "ros = RandomOverSampler(random_state=0)\n",
    "print(sorted(Counter(y_train).items()))\n",
    "X_resampled, y_resampled = ros.fit_sample(x_train, y_train)\n",
    "print(sorted(Counter(y_resampled).items()))"
   ]
  },
  {
   "cell_type": "code",
   "execution_count": 85,
   "metadata": {
    "collapsed": true
   },
   "outputs": [],
   "source": [
    "X_train, X_test, Y_train, Y_test = train_test_split(X_resampled, y_resampled, test_size=0.2)"
   ]
  },
  {
   "cell_type": "code",
   "execution_count": 45,
   "metadata": {},
   "outputs": [
    {
     "name": "stderr",
     "output_type": "stream",
     "text": [
      "C:\\Continuum\\Anaconda2\\envs\\TFENV\\lib\\site-packages\\sklearn\\cross_validation.py:41: DeprecationWarning: This module was deprecated in version 0.18 in favor of the model_selection module into which all the refactored classes and functions are moved. Also note that the interface of the new CV iterators are different from that of this module. This module will be removed in 0.20.\n",
      "  \"This module will be removed in 0.20.\", DeprecationWarning)\n"
     ]
    }
   ],
   "source": [
    "from sklearn.cross_validation import cross_val_score , LeaveOneOut, KFold\n",
    "from scipy.stats import sem"
   ]
  },
  {
   "cell_type": "code",
   "execution_count": 47,
   "metadata": {
    "collapsed": true
   },
   "outputs": [],
   "source": [
    "def cross_val(X_train,y_train,model,K):\n",
    "    #loo=LeaveOneOut(X_train[:].shape[0])\n",
    "    cv = KFold(len(y_train),K,shuffle=True,random_state=0)\n",
    "    scores = cross_val_score(model,X_train,y_train,cv=cv)\n",
    "    print (scores)\n",
    "    print (\"Mean score: {0:3f} (+/- {1:.3f})\".format(np.mean(scores),sem(scores)))"
   ]
  },
  {
   "cell_type": "code",
   "execution_count": 109,
   "metadata": {
    "collapsed": true
   },
   "outputs": [],
   "source": [
    "model = LogisticRegression()\n",
    "#model = SGDClassifier()\n",
    "#model = LogisticRegressionCV()\n",
    "#model = RandomForestClassifier( n_jobs=4)\n",
    "#model = XGBClassifier(n_jobs=2)\n",
    "#model = MultinomialNB()"
   ]
  },
  {
   "cell_type": "code",
   "execution_count": 49,
   "metadata": {},
   "outputs": [
    {
     "name": "stdout",
     "output_type": "stream",
     "text": [
      "[ 0.94183017  0.94303837  0.94096178  0.93952704  0.94111206]\n",
      "Mean score: 0.941294 (+/- 0.001)\n"
     ]
    }
   ],
   "source": [
    "cross_val(X_train,y_train,model,5)"
   ]
  },
  {
   "cell_type": "code",
   "execution_count": 110,
   "metadata": {},
   "outputs": [
    {
     "data": {
      "text/plain": [
       "RandomForestClassifier(bootstrap=True, class_weight=None, criterion='gini',\n",
       "            max_depth=None, max_features='auto', max_leaf_nodes=None,\n",
       "            min_impurity_decrease=0.0, min_impurity_split=None,\n",
       "            min_samples_leaf=1, min_samples_split=2,\n",
       "            min_weight_fraction_leaf=0.0, n_estimators=10, n_jobs=4,\n",
       "            oob_score=False, random_state=None, verbose=0,\n",
       "            warm_start=False)"
      ]
     },
     "execution_count": 110,
     "metadata": {},
     "output_type": "execute_result"
    }
   ],
   "source": [
    "model.fit(X_resampled,y_resampled)"
   ]
  },
  {
   "cell_type": "code",
   "execution_count": 111,
   "metadata": {
    "collapsed": true
   },
   "outputs": [],
   "source": [
    "y_pred=model.predict_proba(x_test)"
   ]
  },
  {
   "cell_type": "code",
   "execution_count": 106,
   "metadata": {
    "collapsed": true
   },
   "outputs": [],
   "source": [
    "y_pred = pd.DataFrame(y_pred,columns=['RESPONDERS_NO','RESPONDERS'])\n",
    "y_pred.index = test.index\n",
    "y_pred.drop(['RESPONDERS_NO'],axis=1 , inplace=True)"
   ]
  },
  {
   "cell_type": "code",
   "execution_count": 107,
   "metadata": {},
   "outputs": [
    {
     "data": {
      "text/plain": [
       "RESPONDERS    0.267222\n",
       "dtype: float64"
      ]
     },
     "execution_count": 107,
     "metadata": {},
     "output_type": "execute_result"
    }
   ],
   "source": [
    "y_pred.mean()"
   ]
  },
  {
   "cell_type": "code",
   "execution_count": 108,
   "metadata": {},
   "outputs": [
    {
     "data": {
      "text/plain": [
       "'C:\\\\Continuum\\\\Anaconda2\\\\envs\\\\TFENV\\\\ChurnPrediction\\\\submission.zip'"
      ]
     },
     "execution_count": 108,
     "metadata": {},
     "output_type": "execute_result"
    }
   ],
   "source": [
    "y_pred.to_csv('submission\\\\sample_submission.csv')\n",
    "shutil.make_archive(\"submission\", \"zip\", \"submission\")"
   ]
  },
  {
   "cell_type": "code",
   "execution_count": null,
   "metadata": {
    "collapsed": true
   },
   "outputs": [],
   "source": []
  }
 ],
 "metadata": {
  "kernelspec": {
   "display_name": "Python 3",
   "language": "python",
   "name": "python3"
  },
  "language_info": {
   "codemirror_mode": {
    "name": "ipython",
    "version": 3
   },
   "file_extension": ".py",
   "mimetype": "text/x-python",
   "name": "python",
   "nbconvert_exporter": "python",
   "pygments_lexer": "ipython3",
   "version": "3.5.3"
  }
 },
 "nbformat": 4,
 "nbformat_minor": 2
}
