{
 "cells": [
  {
   "cell_type": "code",
   "execution_count": 1,
   "metadata": {
    "collapsed": true
   },
   "outputs": [],
   "source": [
    "import pandas as pd\n",
    "import numpy as np\n",
    "import imblearn as imb\n",
    "pd.set_option('display.max_columns', None)"
   ]
  },
  {
   "cell_type": "code",
   "execution_count": 47,
   "metadata": {},
   "outputs": [
    {
     "name": "stderr",
     "output_type": "stream",
     "text": [
      "C:\\Continuum\\Anaconda2\\envs\\TFENV\\lib\\site-packages\\IPython\\core\\interactiveshell.py:2717: DtypeWarning: Columns (294,299,300,302,307,313,315,365,367,369) have mixed types. Specify dtype option on import or set low_memory=False.\n",
      "  interactivity=interactivity, compiler=compiler, result=result)\n",
      "C:\\Continuum\\Anaconda2\\envs\\TFENV\\lib\\site-packages\\IPython\\core\\interactiveshell.py:2717: DtypeWarning: Columns (294,299,300,302,313,315,365,367,369) have mixed types. Specify dtype option on import or set low_memory=False.\n",
      "  interactivity=interactivity, compiler=compiler, result=result)\n"
     ]
    }
   ],
   "source": [
    "train = pd.read_csv('train.csv')\n",
    "test = pd.read_csv('test.csv')"
   ]
  },
  {
   "cell_type": "code",
   "execution_count": 48,
   "metadata": {},
   "outputs": [
    {
     "data": {
      "text/plain": [
       "(300000, 377)"
      ]
     },
     "execution_count": 48,
     "metadata": {},
     "output_type": "execute_result"
    }
   ],
   "source": [
    "train.shape"
   ]
  },
  {
   "cell_type": "code",
   "execution_count": 49,
   "metadata": {},
   "outputs": [],
   "source": [
    "#train.head(5)"
   ]
  },
  {
   "cell_type": "code",
   "execution_count": 50,
   "metadata": {},
   "outputs": [
    {
     "data": {
      "text/plain": [
       "0    248303\n",
       "1     51697\n",
       "Name: Responders, dtype: int64"
      ]
     },
     "execution_count": 50,
     "metadata": {},
     "output_type": "execute_result"
    }
   ],
   "source": [
    "train.Responders.value_counts()"
   ]
  },
  {
   "cell_type": "code",
   "execution_count": 51,
   "metadata": {},
   "outputs": [
    {
     "data": {
      "text/plain": [
       "0"
      ]
     },
     "execution_count": 51,
     "metadata": {},
     "output_type": "execute_result"
    }
   ],
   "source": [
    "train.Responders.isnull().sum()"
   ]
  },
  {
   "cell_type": "code",
   "execution_count": 52,
   "metadata": {
    "collapsed": true
   },
   "outputs": [],
   "source": [
    "def missing_values_table(df): \n",
    "        mis_val = df.isnull().sum()\n",
    "        mis_val_percent = 100 * df.isnull().sum()/len(df)\n",
    "        mis_val_table = pd.concat([mis_val, mis_val_percent], axis=1)\n",
    "        mis_val_table_ren_columns = mis_val_table.rename(\n",
    "        columns = {0 : 'Missing Values', 1 : '% of Total Values'})\n",
    "        return mis_val_table_ren_columns"
   ]
  },
  {
   "cell_type": "code",
   "execution_count": 53,
   "metadata": {},
   "outputs": [],
   "source": [
    "mis_val_table_ren_columns = missing_values_table(train)"
   ]
  },
  {
   "cell_type": "code",
   "execution_count": 54,
   "metadata": {
    "collapsed": true
   },
   "outputs": [],
   "source": [
    "nan_col = list(mis_val_table_ren_columns[mis_val_table_ren_columns['% of Total Values']> 90].index)"
   ]
  },
  {
   "cell_type": "code",
   "execution_count": 55,
   "metadata": {},
   "outputs": [
    {
     "name": "stdout",
     "output_type": "stream",
     "text": [
      "91\n"
     ]
    }
   ],
   "source": [
    "print(len(nan_col))"
   ]
  },
  {
   "cell_type": "code",
   "execution_count": 56,
   "metadata": {},
   "outputs": [],
   "source": [
    "y_train = train['Responders']\n",
    "train.drop(['Responders'],axis = 1,inplace=True)"
   ]
  },
  {
   "cell_type": "code",
   "execution_count": 57,
   "metadata": {},
   "outputs": [],
   "source": [
    "train.drop(nan_col, inplace=True, axis=1)"
   ]
  },
  {
   "cell_type": "code",
   "execution_count": 58,
   "metadata": {
    "collapsed": true
   },
   "outputs": [],
   "source": [
    "test.drop(nan_col, inplace=True, axis=1)"
   ]
  },
  {
   "cell_type": "code",
   "execution_count": 59,
   "metadata": {},
   "outputs": [],
   "source": [
    "cor = train.corr()"
   ]
  },
  {
   "cell_type": "code",
   "execution_count": 60,
   "metadata": {},
   "outputs": [],
   "source": [
    "i=0\n",
    "cols = []\n",
    "for col in cor.columns.values:\n",
    "    for index in cor[col].index:\n",
    "        if(cor.get_value(index,col) > 0.80 or cor.get_value(index,col) < -0.80) and (index != col ) and sorted((index,col)) not in cols:\n",
    "            i+=1\n",
    "            tpl = (index,col)\n",
    "            cols.append(sorted(tpl))\n",
    "            #print ( i,sorted(tpl),'=> ',cor.get_value(index,col))"
   ]
  },
  {
   "cell_type": "code",
   "execution_count": 61,
   "metadata": {},
   "outputs": [
    {
     "data": {
      "text/plain": [
       "93"
      ]
     },
     "execution_count": 61,
     "metadata": {},
     "output_type": "execute_result"
    }
   ],
   "source": [
    "cols_0= [i[0] for i in cols]\n",
    "cols_1= [i[1] for i in cols]\n",
    "#cols_0 = list(set(cols_0))\n",
    "cols_0.sort()\n",
    "#cols_1 = list(set(cols_1))\n",
    "cols_1.sort()\n",
    "col_rem=[]\n",
    "for col in cols_0:\n",
    "    if col in cols_1:\n",
    "        col_rem.append(col)\n",
    "col_rem = list(set(col_rem))\n",
    "\n",
    "cols_0 = list(set(cols_0))\n",
    "for col in col_rem:\n",
    "    if col in cols_0:\n",
    "        cols_0.remove(col)\n",
    "len(col_rem)"
   ]
  },
  {
   "cell_type": "code",
   "execution_count": 62,
   "metadata": {},
   "outputs": [],
   "source": [
    "train.drop(col_rem, axis=1,inplace=True)\n",
    "test.drop(col_rem,axis=1,inplace=True)"
   ]
  },
  {
   "cell_type": "code",
   "execution_count": 63,
   "metadata": {},
   "outputs": [
    {
     "data": {
      "text/plain": [
       "31"
      ]
     },
     "execution_count": 63,
     "metadata": {},
     "output_type": "execute_result"
    }
   ],
   "source": [
    "len(cols_0)"
   ]
  },
  {
   "cell_type": "code",
   "execution_count": 64,
   "metadata": {},
   "outputs": [],
   "source": [
    "train.drop(cols_0, axis=1,inplace=True)\n",
    "test.drop(cols_0,axis=1,inplace=True)"
   ]
  },
  {
   "cell_type": "code",
   "execution_count": 65,
   "metadata": {},
   "outputs": [
    {
     "data": {
      "text/plain": [
       "(300000, 161)"
      ]
     },
     "execution_count": 65,
     "metadata": {},
     "output_type": "execute_result"
    }
   ],
   "source": [
    "train.shape"
   ]
  },
  {
   "cell_type": "code",
   "execution_count": 66,
   "metadata": {},
   "outputs": [],
   "source": [
    "obj_cols = list(train.select_dtypes(include = ['O']).columns)"
   ]
  },
  {
   "cell_type": "code",
   "execution_count": 67,
   "metadata": {},
   "outputs": [
    {
     "data": {
      "text/plain": [
       "['HNW_CATEGORY',\n",
       " 'OCCUP_ALL_NEW',\n",
       " 'city',\n",
       " 'FINAL_WORTH_prev1',\n",
       " 'ENGAGEMENT_TAG_prev1',\n",
       " 'EFT_SELF_TRANSFER_PrevQ1',\n",
       " 'CC_TAG_LIVE',\n",
       " 'DEMAT_TAG_LIVE',\n",
       " 'SEC_ACC_TAG_LIVE',\n",
       " 'INS_TAG_LIVE',\n",
       " 'FD_TAG_LIVE',\n",
       " 'Billpay_Active_PrevQ1_N',\n",
       " 'Billpay_Reg_ason_Prev1_N',\n",
       " 'Charges_cnt_PrevQ1_N',\n",
       " 'FRX_PrevQ1_N',\n",
       " 'RBI_Class_Audit',\n",
       " 'gender_bin']"
      ]
     },
     "execution_count": 67,
     "metadata": {},
     "output_type": "execute_result"
    }
   ],
   "source": [
    "obj_cols"
   ]
  },
  {
   "cell_type": "code",
   "execution_count": 39,
   "metadata": {},
   "outputs": [],
   "source": [
    "for col in obj_cols:\n",
    "    #print(col)\n",
    "    train[col] = train[col].astype('category').cat.codes"
   ]
  },
  {
   "cell_type": "code",
   "execution_count": 84,
   "metadata": {},
   "outputs": [],
   "source": [
    "def confusion_mat(train,y_train,col,val): \n",
    "    m_y=[]\n",
    "    m_n=[]\n",
    "    for i in range(len(val)):\n",
    "        m_y.append(0)\n",
    "        m_n.append(0)\n",
    "    \n",
    "    for i in train.index.values:\n",
    "        for j in range(len(val)):\n",
    "            if( train.get_value(i,col) == val[j]) and (y_train.get_value(i) == 1):\n",
    "                m_y[j]+=1\n",
    "            elif( train.get_value(i,col) == val[j]) and (y_train.get_value(i) == 0):\n",
    "                m_n[j]+=1\n",
    "    print ('\\tyes','\\tno','\\t%yes','\\t%no','\\n')\n",
    "    for i in range(len(val)):\n",
    "        print (val[i],'\\t',m_y[i],'\\t',m_n[i],'\\t',100 * m_y[i]/sum(m_y),'%','\\t',100 * m_n[i]/sum(m_n),'%','\\n')"
   ]
  },
  {
   "cell_type": "code",
   "execution_count": 76,
   "metadata": {},
   "outputs": [
    {
     "name": "stdout",
     "output_type": "stream",
     "text": [
      "HNW_CATEGORY ['2_Preferred', '1_Imperia', '3_Classic']\n",
      "OCCUP_ALL_NEW ['HOUSEWIFE', 'SALARIED', 'SELF_EMPLOYED', 'INDIVIDUAL', 'RETIRED', 'STUDENT', 'NON_INDIVIDUA', 'MISSING', nan]\n",
      "FINAL_WORTH_prev1 ['HIGH', 'MEDIUM', 'LOW', nan]\n",
      "ENGAGEMENT_TAG_prev1 ['LOW', 'MEDIUM', 'HIGH', nan, 'NO']\n",
      "EFT_SELF_TRANSFER_PrevQ1 ['N', 'Y']\n",
      "CC_TAG_LIVE [nan, 'Y']\n",
      "DEMAT_TAG_LIVE [nan, 'Y']\n",
      "SEC_ACC_TAG_LIVE [nan, 'Y']\n",
      "INS_TAG_LIVE [nan, 'Y']\n",
      "FD_TAG_LIVE [nan, 'Y']\n",
      "Billpay_Active_PrevQ1_N ['A_MISSING', 'B_1']\n",
      "Billpay_Reg_ason_Prev1_N ['A_MISSING', 'B_1']\n",
      "Charges_cnt_PrevQ1_N ['A_MISSING', 'D_3', 'C_2', 'B_1']\n",
      "FRX_PrevQ1_N ['A_MISSING', 'B_1']\n",
      "RBI_Class_Audit ['SEMI-URBAN', 'METROPOLITAN', 'URBAN', 'RURAL']\n",
      "gender_bin ['Female', 'Male', 'Missin']\n"
     ]
    }
   ],
   "source": [
    "for col in obj_cols:\n",
    "    if col != 'city':\n",
    "        print(col , list(train[col].unique()))"
   ]
  },
  {
   "cell_type": "code",
   "execution_count": 87,
   "metadata": {},
   "outputs": [
    {
     "name": "stdout",
     "output_type": "stream",
     "text": [
      "\tyes \tno \t%yes \t%no \n",
      "\n",
      "Female \t 19624 \t 99588 \t 37.95964949610229 % \t 40.10744936629843 % \n",
      "\n",
      "Male \t 30908 \t 143919 \t 59.786834826005375 % \t 57.9610395363729 % \n",
      "\n",
      "Missin \t 1165 \t 4796 \t 2.253515677892334 % \t 1.9315110973286669 % \n",
      "\n"
     ]
    }
   ],
   "source": [
    "confusion_mat(train,y_train,'gender_bin',list(train['gender_bin'].unique()))"
   ]
  },
  {
   "cell_type": "code",
   "execution_count": 86,
   "metadata": {},
   "outputs": [
    {
     "name": "stdout",
     "output_type": "stream",
     "text": [
      "\tyes \tno \t%yes \t%no \n",
      "\n",
      "2_Preferred \t 26073 \t 128476 \t 50.43426117569685 % \t 51.7416221310254 % \n",
      "\n",
      "1_Imperia \t 6545 \t 31828 \t 12.660309108845775 % \t 12.81821000954479 % \n",
      "\n",
      "3_Classic \t 19079 \t 87999 \t 36.90542971545737 % \t 35.440167859429806 % \n",
      "\n"
     ]
    }
   ],
   "source": [
    "confusion_mat(train,y_train,'HNW_CATEGORY',list(train['HNW_CATEGORY'].unique()))"
   ]
  },
  {
   "cell_type": "code",
   "execution_count": 85,
   "metadata": {},
   "outputs": [
    {
     "name": "stdout",
     "output_type": "stream",
     "text": [
      "\tyes \tno \t%yes \t%no \n",
      "\n",
      "HOUSEWIFE \t 9745 \t 47764 \t 18.856059286778507 % \t 19.242374800078963 % \n",
      "\n",
      "SALARIED \t 11290 \t 59279 \t 21.845552524138466 % \t 23.881348626033848 % \n",
      "\n",
      "SELF_EMPLOYED \t 20240 \t 79767 \t 39.16332888295505 % \t 32.13521712331251 % \n",
      "\n",
      "INDIVIDUAL \t 4101 \t 23659 \t 7.935217971788472 % \t 9.531348827465626 % \n",
      "\n",
      "RETIRED \t 2883 \t 18143 \t 5.578452429326058 % \t 7.30915346281368 % \n",
      "\n",
      "STUDENT \t 3238 \t 18603 \t 6.26535864244113 % \t 7.49447069771939 % \n",
      "\n",
      "NON_INDIVIDUA \t 60 \t 387 \t 0.11609682475184303 % \t 0.15590819545328194 % \n",
      "\n",
      "MISSING \t 124 \t 621 \t 0.2399334378204756 % \t 0.2501782671227082 % \n",
      "\n",
      "nan \t 0 \t 0 \t 0.0 % \t 0.0 % \n",
      "\n"
     ]
    }
   ],
   "source": [
    "confusion_mat(train,y_train,'OCCUP_ALL_NEW',list(train['OCCUP_ALL_NEW'].unique()))"
   ]
  },
  {
   "cell_type": "code",
   "execution_count": 88,
   "metadata": {
    "collapsed": true
   },
   "outputs": [],
   "source": [
    "for col in train.columns.values:\n",
    "    train[col] = train[col].apply(lambda x: x if str(x) != str(pd.np.nan) else -1)\n",
    "    test[col] = test[col].apply(lambda x: x if str(x) != str(pd.np.nan) else -1)"
   ]
  },
  {
   "cell_type": "code",
   "execution_count": null,
   "metadata": {
    "collapsed": true
   },
   "outputs": [],
   "source": []
  }
 ],
 "metadata": {
  "kernelspec": {
   "display_name": "Python 3",
   "language": "python",
   "name": "python3"
  },
  "language_info": {
   "codemirror_mode": {
    "name": "ipython",
    "version": 3
   },
   "file_extension": ".py",
   "mimetype": "text/x-python",
   "name": "python",
   "nbconvert_exporter": "python",
   "pygments_lexer": "ipython3",
   "version": "3.5.3"
  }
 },
 "nbformat": 4,
 "nbformat_minor": 2
}
