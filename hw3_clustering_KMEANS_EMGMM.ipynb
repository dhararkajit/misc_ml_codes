{
 "cells": [
  {
   "cell_type": "code",
   "execution_count": 49,
   "metadata": {
    "collapsed": true
   },
   "outputs": [],
   "source": [
    "import pandas as pd\n",
    "import numpy as np\n",
    "import random as r\n",
    "import math\n",
    "import os\n",
    "from __future__ import division"
   ]
  },
  {
   "cell_type": "code",
   "execution_count": 12,
   "metadata": {
    "collapsed": true
   },
   "outputs": [],
   "source": [
    "x_train = pd.read_csv('X.csv',header=None)"
   ]
  },
  {
   "cell_type": "code",
   "execution_count": 26,
   "metadata": {
    "collapsed": true
   },
   "outputs": [],
   "source": [
    "cen = []\n",
    "\n",
    "pi= [.2,.2,.2,.2,.2 ]\n",
    "\n",
    "mu = []\n",
    "\n",
    "sigma =[1,1,1,1,1]\n",
    "\n",
    "nk = [0.01,0.01,0.01,0.01,0.01]\n",
    "\n",
    "O=[]\n"
   ]
  },
  {
   "cell_type": "code",
   "execution_count": 36,
   "metadata": {
    "collapsed": true
   },
   "outputs": [],
   "source": [
    "def F_cen(c):\n",
    "    return c.mean()"
   ]
  },
  {
   "cell_type": "code",
   "execution_count": 37,
   "metadata": {
    "collapsed": true
   },
   "outputs": [],
   "source": [
    "def F_dist(x,m):\n",
    "    sum = 0\n",
    "    for i in range(len(x)):\n",
    "        sum = sum + math.pow(x[i]-m[i],2)\n",
    "    return math.sqrt(sum)\n"
   ]
  },
  {
   "cell_type": "code",
   "execution_count": 38,
   "metadata": {
    "collapsed": true
   },
   "outputs": [],
   "source": [
    "def F_std(c):\n",
    "    return c.std()"
   ]
  },
  {
   "cell_type": "code",
   "execution_count": 30,
   "metadata": {
    "collapsed": true
   },
   "outputs": [],
   "source": [
    "cen= [list(x_train.iloc[np.random.randint(len(x_train))].values) for i in range(5) ] "
   ]
  },
  {
   "cell_type": "code",
   "execution_count": 39,
   "metadata": {},
   "outputs": [],
   "source": [
    "for i in range(10):\n",
    "    cl_1 = pd.DataFrame()\n",
    "    cl_2 = pd.DataFrame()\n",
    "    cl_3 = pd.DataFrame()\n",
    "    cl_4 = pd.DataFrame()\n",
    "    cl_5 = pd.DataFrame()\n",
    "    for j in range(len(x_train)):\n",
    "        dist = {}\n",
    "        for k in range(5):\n",
    "            dist[k] = F_dist(x_train.iloc[j].values,cen[k])\n",
    "        value , key = min((v,k) for k,v in dist.items())\n",
    "       \n",
    "        if(key == 0):\n",
    "            cl_1 = cl_1.append(x_train.iloc[j])\n",
    "        elif(key == 1):\n",
    "            cl_2 = cl_2.append(x_train.iloc[j])\n",
    "        elif(key == 2):\n",
    "            cl_3 = cl_3.append(x_train.iloc[j])\n",
    "        elif(key == 3):\n",
    "            cl_4 = cl_4.append(x_train.iloc[j])\n",
    "        elif(key == 4):\n",
    "            cl_5 = cl_5.append(x_train.iloc[j])\n",
    "    if(len(cl_1)>0):\n",
    "        cen[0]=list(F_cen(cl_1))\n",
    "        sigma[0] = list(F_std(cl_1))\n",
    "    if(len(cl_2)>0):\n",
    "        cen[1]=list(F_cen(cl_2))\n",
    "        sigma[1] = list(F_std(cl_2))\n",
    "    if(len(cl_3)>0):\n",
    "        cen[2]=list(F_cen(cl_3))\n",
    "        sigma[2] = list(F_std(cl_3))\n",
    "    if(len(cl_4)>0):\n",
    "        cen[3]=list(F_cen(cl_4))\n",
    "        sigma[3] = list(F_std(cl_4))\n",
    "    if(len(cl_5)>0):\n",
    "        cen[4]=list(F_cen(cl_5))\n",
    "        sigma[4] = list(F_std(cl_5))\n",
    "    \n",
    "    pd.DataFrame(cen).to_csv('centroids-'+str(i+1)+'.csv',index=False,header=None)"
   ]
  },
  {
   "cell_type": "code",
   "execution_count": 44,
   "metadata": {
    "collapsed": true
   },
   "outputs": [],
   "source": [
    "mu= [list(x_train.iloc[np.random.randint(len(x_train))].values) for i in range(5) ] "
   ]
  },
  {
   "cell_type": "code",
   "execution_count": 45,
   "metadata": {
    "collapsed": true
   },
   "outputs": [],
   "source": [
    "mat = []\n",
    "for i in range(len(x_train.columns)):\n",
    "    mat.append([.2 for i in range(len(x_train.columns))])\n"
   ]
  },
  {
   "cell_type": "code",
   "execution_count": 46,
   "metadata": {
    "collapsed": true
   },
   "outputs": [],
   "source": [
    "O=[]\n",
    "for i in range(len(x_train)):\n",
    "    O.append([.2,.2,.2,.2,.2])\n"
   ]
  },
  {
   "cell_type": "code",
   "execution_count": 47,
   "metadata": {
    "collapsed": true
   },
   "outputs": [],
   "source": [
    "for itera in range(10):\n",
    "    for j in range(5):\n",
    "        row=[]\n",
    "        s = 0.0\n",
    "        for k in range (len(x_train)):\n",
    "            e=0.0\n",
    "            for i in range(len(x_train.columns)):\n",
    "                e =  float(math.pow((x_train.iloc[k].values[i] - mu[j][i]),2)) / math.pow(float(sigma[j][i]),2)\n",
    "                e = e * (-0.5)\n",
    "                e = float(math.exp(e))\n",
    "                e = float(e * pi[j] * (1 / float(sigma[j][i])))\n",
    "            \n",
    "            #row.append(round(e,2))\n",
    "            O[k][j] = round(e,2) \n",
    "        \n",
    "        for i in range(len(O)):\n",
    "            if sum(O[i]) == 0.0 :\n",
    "                O[i] = [.2,.2,.2,.2,.2]\n",
    "            else :\n",
    "                O[i]=[item/sum(O[i]) for item in O[i]]\n",
    "\n",
    "        pi[j]=sum([O[i][j] for i in range(len(x_train))])/len(x_train)\n",
    "        nk[j]=sum([O[i][j] for i in range(len(x_train))])\n",
    "        if nk[j] == 0.0:\n",
    "            nk[j]= 0.1\n",
    "        mu[j]= list((1/nk[j])* sum([O[i][j] * x_train.iloc[i].values for i in range(len(x_train))]))\n",
    "        for i in range(len(sigma[j])):\n",
    "            for k in range(len(sigma[j])):\n",
    "                if(i==k):\n",
    "                    mat[i][k] = sigma[j][k] * sigma[j][k]\n",
    "                else:\n",
    "                    mat[i][k] = sigma[j][k] * sigma[j][k]\n",
    "        pd.DataFrame(mat).to_csv('Sigma-'+str(j+1)+'-'+str(itera+1)+'.csv',index=False,header=None)\n",
    "    \n",
    "    pd.DataFrame(pi).to_csv('pi-'+str(itera+1)+'.csv',index=False,header=None)\n",
    "    pd.DataFrame(mu).to_csv('mu-'+str(itera+1)+'.csv',index=False,header=None)\n",
    "        #list((1/nk[j])* sum([O[i][j] * float(math.pow((x_train.iloc[i] - mu[j]),2)) for i in range(len(x_train))]))\n",
    "    "
   ]
  },
  {
   "cell_type": "code",
   "execution_count": 91,
   "metadata": {
    "collapsed": true
   },
   "outputs": [],
   "source": [
    "x_train.to_csv('X.csv')"
   ]
  },
  {
   "cell_type": "code",
   "execution_count": 42,
   "metadata": {},
   "outputs": [
    {
     "data": {
      "text/plain": [
       "[0.2, 0.2, 0.2, 0.2, 0.2]"
      ]
     },
     "execution_count": 42,
     "metadata": {},
     "output_type": "execute_result"
    }
   ],
   "source": [
    "[round(i,2)for i in pi]"
   ]
  },
  {
   "cell_type": "code",
   "execution_count": 48,
   "metadata": {},
   "outputs": [
    {
     "data": {
      "text/plain": [
       "[[12.969109132649287,\n",
       "  2.1899000254114034,\n",
       "  2.3586415992341716,\n",
       "  19.290387604671103,\n",
       "  99.458483884331926,\n",
       "  2.3866288247119205,\n",
       "  2.2017917020155657,\n",
       "  0.35212492426941205,\n",
       "  1.6636005768224793,\n",
       "  4.6949060638109952,\n",
       "  1.0037990035637645,\n",
       "  2.7381338345359776],\n",
       " [12.974137723082578,\n",
       "  2.2407139477647822,\n",
       "  2.3608254204550452,\n",
       "  19.369243786775137,\n",
       "  99.406313296427371,\n",
       "  2.3480503792550027,\n",
       "  2.1301600778896508,\n",
       "  0.35781465625157227,\n",
       "  1.6344815566419508,\n",
       "  4.8121332698341028,\n",
       "  0.98905790568936758,\n",
       "  2.6796483763027412],\n",
       " [12.957960921908917,\n",
       "  2.5554601545252544,\n",
       "  2.3646400829713508,\n",
       "  20.00526523298468,\n",
       "  99.024412468716434,\n",
       "  2.0409749600691951,\n",
       "  1.5711955467553977,\n",
       "  0.40136578105835269,\n",
       "  1.4197733118795988,\n",
       "  5.5837405704720391,\n",
       "  0.88949023505512181,\n",
       "  2.2054749085438434],\n",
       " [12.968585494412469,\n",
       "  2.1731507226963194,\n",
       "  2.3571773601580936,\n",
       "  19.246409349794725,\n",
       "  99.417402949793725,\n",
       "  2.4067871890537735,\n",
       "  2.2399471060183038,\n",
       "  0.34914471569052941,\n",
       "  1.6779562638569527,\n",
       "  4.6421351558302568,\n",
       "  1.0100250501472119,\n",
       "  2.7689028347465592],\n",
       " [13.012417463270195,\n",
       "  2.040012952547134,\n",
       "  2.3586186045236173,\n",
       "  18.896144474047222,\n",
       "  100.05922113091573,\n",
       "  2.5928139960549759,\n",
       "  2.5708368386240732,\n",
       "  0.3178730086263758,\n",
       "  1.8003337272311997,\n",
       "  4.3504083684373347,\n",
       "  1.0498263187056929,\n",
       "  3.0507855693578527]]"
      ]
     },
     "execution_count": 48,
     "metadata": {},
     "output_type": "execute_result"
    }
   ],
   "source": [
    "mu"
   ]
  },
  {
   "cell_type": "code",
   "execution_count": null,
   "metadata": {
    "collapsed": true
   },
   "outputs": [],
   "source": []
  },
  {
   "cell_type": "code",
   "execution_count": null,
   "metadata": {
    "collapsed": true
   },
   "outputs": [],
   "source": []
  },
  {
   "cell_type": "code",
   "execution_count": null,
   "metadata": {
    "collapsed": true
   },
   "outputs": [],
   "source": []
  }
 ],
 "metadata": {
  "kernelspec": {
   "display_name": "Python 2",
   "language": "python",
   "name": "python2"
  },
  "language_info": {
   "codemirror_mode": {
    "name": "ipython",
    "version": 2
   },
   "file_extension": ".py",
   "mimetype": "text/x-python",
   "name": "python",
   "nbconvert_exporter": "python",
   "pygments_lexer": "ipython2",
   "version": "2.7.13"
  }
 },
 "nbformat": 4,
 "nbformat_minor": 2
}
