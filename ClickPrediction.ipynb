{
 "cells": [
  {
   "cell_type": "code",
   "execution_count": 2,
   "metadata": {
    "collapsed": true
   },
   "outputs": [],
   "source": [
    "import pandas as pd\n",
    "import numpy as np\n",
    "import os\n",
    "import sqlite3 as s"
   ]
  },
  {
   "cell_type": "code",
   "execution_count": 3,
   "metadata": {
    "collapsed": true
   },
   "outputs": [],
   "source": [
    "#chunks = pd.read_csv('ClickPrediction\\\\train.csv',chunksize= 2000000, names=['ID', 'Country', 'Carrier',\n",
    "#                    'TrafficType', 'ClickDate', 'Device','Browser', 'OS', 'RefererUrl', 'UserIp', \n",
    "#                    'ConversionStatus','ConversionDate', 'ConversionPayOut', 'publisherId', \n",
    "#                    'subPublisherId','advertiserCampaignId', 'Fraud'])"
   ]
  },
  {
   "cell_type": "code",
   "execution_count": 4,
   "metadata": {
    "collapsed": true
   },
   "outputs": [],
   "source": [
    "#chunks_test = pd.read_csv('ClickPrediction\\\\test.csv',chunksize= 2000000, names=['ID', 'Country', 'Carrier',\n",
    "#                    'TrafficType', 'ClickDate', 'Device','Browser', 'OS', 'RefererUrl', 'UserIp', \n",
    "#                    'ConversionStatus','ConversionDate', 'ConversionPayOut', 'publisherId', \n",
    "#                    'subPublisherId','advertiserCampaignId', 'Fraud'])"
   ]
  },
  {
   "cell_type": "code",
   "execution_count": 5,
   "metadata": {
    "collapsed": true
   },
   "outputs": [],
   "source": [
    "conn = s.connect('CP.db')"
   ]
  },
  {
   "cell_type": "code",
   "execution_count": 6,
   "metadata": {
    "collapsed": true
   },
   "outputs": [],
   "source": [
    "#conn.execute('''drop table Train''')"
   ]
  },
  {
   "cell_type": "code",
   "execution_count": 7,
   "metadata": {
    "collapsed": true
   },
   "outputs": [],
   "source": [
    "#conn.execute('''drop table Test''')"
   ]
  },
  {
   "cell_type": "code",
   "execution_count": 8,
   "metadata": {
    "collapsed": true
   },
   "outputs": [],
   "source": [
    "#conn.execute('''create table Train (ID TEXT , Country TEXT, Carrier TEXT,\n",
    "#                    TrafficType TEXT, Device TEXT, Browser  TEXT, OS TEXT, RefererUrl TEXT, UserIp TEXT, \n",
    "#                    ConversionStatus TEXT, ConversionPayOut TEXT, publisherId TEXT, \n",
    "#                    subPublisherId TEXT, advertiserCampaignId TEXT, Fraud TEXT)''')"
   ]
  },
  {
   "cell_type": "code",
   "execution_count": 9,
   "metadata": {
    "collapsed": true
   },
   "outputs": [],
   "source": [
    "#conn.execute('''create table Test (ID TEXT , Country TEXT, Carrier TEXT,\n",
    "#                    TrafficType TEXT, Device TEXT, Browser  TEXT, OS TEXT, RefererUrl TEXT, UserIp TEXT, \n",
    "#                    ConversionStatus TEXT, ConversionPayOut TEXT, publisherId TEXT, \n",
    "#                    subPublisherId TEXT, advertiserCampaignId TEXT, Fraud TEXT)''')"
   ]
  },
  {
   "cell_type": "code",
   "execution_count": 10,
   "metadata": {
    "collapsed": true
   },
   "outputs": [],
   "source": [
    "def clean_df(df):\n",
    "    df.drop(['ClickDate','ConversionDate'], inplace=True,axis=1)\n",
    "    df['ConversionStatus'] = df.ConversionStatus.astype('str').astype('category').cat.codes\n",
    "    #df['OS'] = df.OS.astype('str').astype('category').cat.codes\n",
    "    #df['Browser'] = df.Browser.astype('str').astype('category').cat.codes\n",
    "    df['Carrier'] = df.Carrier.astype('float')\n",
    "    df['TrafficType'] = df['TrafficType'].astype('category').cat.codes\n",
    "    #df['publisherId'] = df['publisherId'].astype('str').astype('category').cat.codes\n",
    "    #df['subPublisherId'] = df['subPublisherId'].astype('str').astype('category').cat.codes\n",
    "    df['advertiserCampaignId'] = df['advertiserCampaignId'].astype('float')\n",
    "    #df['RefererUrl'] = df.RefererUrl.astype('str').astype('category').cat.codes\n",
    "    #df['UserIp'] = df.UserIp.astype('str').astype('category').cat.codes\n",
    "    #df['Country'] = df.Country.astype('str').astype('category').cat.codes\n",
    "    #df['Device'] = df.Device.astype('str').astype('category').cat.codes\n",
    "    df['Fraud'] = df.Fraud.astype('float')\n",
    "    #df['ConversionPayOut'] = df.ConversionPayOut.astype('float')\n",
    "    df.index = df.ID\n",
    "    df.drop(['ID'],axis=1,inplace=True)\n",
    "    return df"
   ]
  },
  {
   "cell_type": "code",
   "execution_count": 11,
   "metadata": {
    "collapsed": true
   },
   "outputs": [],
   "source": [
    "#conn.commit()"
   ]
  },
  {
   "cell_type": "code",
   "execution_count": 12,
   "metadata": {
    "collapsed": true
   },
   "outputs": [],
   "source": [
    "cur = conn.cursor()"
   ]
  },
  {
   "cell_type": "code",
   "execution_count": 13,
   "metadata": {
    "collapsed": true
   },
   "outputs": [],
   "source": [
    "#sql2 = \"CREATE INDEX id_idx ON Train (ID);\"\n",
    "#cur.execute(sql2)\n",
    "#conn.commit()"
   ]
  },
  {
   "cell_type": "code",
   "execution_count": 14,
   "metadata": {
    "collapsed": true
   },
   "outputs": [],
   "source": [
    "#sql2 = \"CREATE INDEX id_idx_test ON Test (ID);\"\n",
    "#cur.execute(sql2)\n",
    "#conn.commit()"
   ]
  },
  {
   "cell_type": "code",
   "execution_count": 15,
   "metadata": {
    "collapsed": true
   },
   "outputs": [],
   "source": [
    "sql = 'select ID,OS from Train;'"
   ]
  },
  {
   "cell_type": "code",
   "execution_count": 16,
   "metadata": {},
   "outputs": [
    {
     "data": {
      "text/plain": [
       "<sqlite3.Cursor at 0x92f19d0>"
      ]
     },
     "execution_count": 16,
     "metadata": {},
     "output_type": "execute_result"
    }
   ],
   "source": [
    "cur.execute(sql)"
   ]
  },
  {
   "cell_type": "code",
   "execution_count": 17,
   "metadata": {
    "collapsed": true
   },
   "outputs": [],
   "source": [
    "rows = cur.fetchall()"
   ]
  },
  {
   "cell_type": "code",
   "execution_count": 24,
   "metadata": {
    "collapsed": true
   },
   "outputs": [],
   "source": [
    "sql = 'select ID,OS from Train;'\n",
    "cur.execute(sql)\n",
    "OS = cur.fetchall()"
   ]
  },
  {
   "cell_type": "code",
   "execution_count": null,
   "metadata": {
    "collapsed": true
   },
   "outputs": [],
   "source": [
    "sql = 'select ID,Device from Train;'\n",
    "cur.execute(sql)\n",
    "Device = cur.fetchall()"
   ]
  },
  {
   "cell_type": "code",
   "execution_count": null,
   "metadata": {},
   "outputs": [],
   "source": [
    "sql = 'select ID,Browser from Train;'\n",
    "cur.execute(sql)\n",
    "Browser = cur.fetchall()"
   ]
  },
  {
   "cell_type": "code",
   "execution_count": 23,
   "metadata": {
    "collapsed": true
   },
   "outputs": [],
   "source": [
    "sql = 'select ID,Country from Train;'\n",
    "cur.execute(sql)\n",
    "Country = cur.fetchall()"
   ]
  },
  {
   "cell_type": "code",
   "execution_count": 27,
   "metadata": {
    "collapsed": true
   },
   "outputs": [],
   "source": [
    "sql = 'select distinct Country from Train;'\n",
    "cur.execute(sql)\n",
    "country_uniq = cur.fetchall()"
   ]
  },
  {
   "cell_type": "code",
   "execution_count": 28,
   "metadata": {
    "collapsed": true
   },
   "outputs": [],
   "source": [
    "sql = 'select distinct Device from Train;'\n",
    "cur.execute(sql)\n",
    "device_uniq = cur.fetchall()"
   ]
  },
  {
   "cell_type": "code",
   "execution_count": 29,
   "metadata": {
    "collapsed": true
   },
   "outputs": [],
   "source": [
    "sql = 'select distinct Browser from Train;'\n",
    "cur.execute(sql)\n",
    "browser_uniq = cur.fetchall()"
   ]
  },
  {
   "cell_type": "code",
   "execution_count": 30,
   "metadata": {
    "collapsed": true
   },
   "outputs": [],
   "source": [
    "sql = 'select distinct OS from Train;'\n",
    "cur.execute(sql)\n",
    "os_uniq = cur.fetchall()"
   ]
  },
  {
   "cell_type": "code",
   "execution_count": 22,
   "metadata": {},
   "outputs": [
    {
     "data": {
      "text/plain": [
       "[(21999999,)]"
      ]
     },
     "execution_count": 22,
     "metadata": {},
     "output_type": "execute_result"
    }
   ],
   "source": [
    "cur.fetchall()"
   ]
  },
  {
   "cell_type": "code",
   "execution_count": 23,
   "metadata": {
    "collapsed": true
   },
   "outputs": [],
   "source": [
    "#data1.tail(5)\n"
   ]
  },
  {
   "cell_type": "code",
   "execution_count": 10,
   "metadata": {
    "scrolled": true
   },
   "outputs": [
    {
     "name": "stderr",
     "output_type": "stream",
     "text": [
      "C:\\Continuum\\Anaconda2\\envs\\TFENV\\lib\\site-packages\\IPython\\core\\interactiveshell.py:2717: DtypeWarning: Columns (0,2,10,11,12,13,15,16) have mixed types. Specify dtype option on import or set low_memory=False.\n",
      "  interactivity=interactivity, compiler=compiler, result=result)\n"
     ]
    },
    {
     "name": "stdout",
     "output_type": "stream",
     "text": [
      "1\n"
     ]
    },
    {
     "name": "stderr",
     "output_type": "stream",
     "text": [
      "C:\\Continuum\\Anaconda2\\envs\\TFENV\\lib\\site-packages\\IPython\\core\\interactiveshell.py:2717: DtypeWarning: Columns (11,13) have mixed types. Specify dtype option on import or set low_memory=False.\n",
      "  interactivity=interactivity, compiler=compiler, result=result)\n"
     ]
    },
    {
     "name": "stdout",
     "output_type": "stream",
     "text": [
      "2\n",
      "3\n"
     ]
    },
    {
     "name": "stderr",
     "output_type": "stream",
     "text": [
      "C:\\Continuum\\Anaconda2\\envs\\TFENV\\lib\\site-packages\\IPython\\core\\interactiveshell.py:2717: DtypeWarning: Columns (13,14) have mixed types. Specify dtype option on import or set low_memory=False.\n",
      "  interactivity=interactivity, compiler=compiler, result=result)\n"
     ]
    },
    {
     "name": "stdout",
     "output_type": "stream",
     "text": [
      "4\n"
     ]
    },
    {
     "name": "stderr",
     "output_type": "stream",
     "text": [
      "C:\\Continuum\\Anaconda2\\envs\\TFENV\\lib\\site-packages\\IPython\\core\\interactiveshell.py:2717: DtypeWarning: Columns (13) have mixed types. Specify dtype option on import or set low_memory=False.\n",
      "  interactivity=interactivity, compiler=compiler, result=result)\n"
     ]
    },
    {
     "name": "stdout",
     "output_type": "stream",
     "text": [
      "5\n",
      "6\n",
      "7\n",
      "8\n",
      "9\n",
      "10\n",
      "11\n"
     ]
    }
   ],
   "source": [
    "i=0\n",
    "for chunk in chunks:\n",
    "    if(i < 11):\n",
    "        print(i+1)\n",
    "        i=i+1\n",
    "        if(i==1):\n",
    "            data1 = chunk\n",
    "            data1.drop([0],axis=0,inplace=True)\n",
    "            data1 = clean_df(data1)\n",
    "            data1.to_sql('Train', con=conn,if_exists = 'append',chunksize=500000)\n",
    "        else:\n",
    "            data1 = chunk\n",
    "            data1 = clean_df(data1)\n",
    "            data1.to_sql('Train', con=conn,if_exists = 'append',chunksize=500000)    \n",
    "    else:\n",
    "        break    "
   ]
  },
  {
   "cell_type": "code",
   "execution_count": null,
   "metadata": {
    "collapsed": true
   },
   "outputs": [],
   "source": [
    "i=0\n",
    "for chunk in chunks:\n",
    "    if( (i> 10) & (i < 21)):\n",
    "        print(i)\n",
    "        i=i+1\n",
    "        data1 = chunk\n",
    "        data1 = clean_df(data1)\n",
    "        data1.to_sql('Train', con=conn,if_exists = 'append',chunksize=500000)\n",
    "            \n",
    "    else:\n",
    "        break"
   ]
  },
  {
   "cell_type": "code",
   "execution_count": null,
   "metadata": {
    "collapsed": true
   },
   "outputs": [],
   "source": [
    "i=0\n",
    "for chunk in chunks:\n",
    "    if((i> 20) & (i < 33)):\n",
    "        print (i)\n",
    "        i=i+1\n",
    "        data1 = chunk\n",
    "        data1 = clean_df(data1)\n",
    "        data1.to_sql('Train', con=conn,if_exists = 'append',chunksize=500000)\n",
    "        \n",
    "    else:\n",
    "        break\n",
    "        "
   ]
  },
  {
   "cell_type": "code",
   "execution_count": 11,
   "metadata": {
    "scrolled": true
   },
   "outputs": [
    {
     "name": "stderr",
     "output_type": "stream",
     "text": [
      "C:\\Continuum\\Anaconda2\\envs\\TFENV\\lib\\site-packages\\IPython\\core\\interactiveshell.py:2717: DtypeWarning: Columns (0,2,10,12,13) have mixed types. Specify dtype option on import or set low_memory=False.\n",
      "  interactivity=interactivity, compiler=compiler, result=result)\n"
     ]
    },
    {
     "name": "stdout",
     "output_type": "stream",
     "text": [
      "1\n"
     ]
    },
    {
     "name": "stderr",
     "output_type": "stream",
     "text": [
      "C:\\Continuum\\Anaconda2\\envs\\TFENV\\lib\\site-packages\\IPython\\core\\interactiveshell.py:2717: DtypeWarning: Columns (10) have mixed types. Specify dtype option on import or set low_memory=False.\n",
      "  interactivity=interactivity, compiler=compiler, result=result)\n"
     ]
    },
    {
     "name": "stdout",
     "output_type": "stream",
     "text": [
      "2\n",
      "3\n",
      "4\n",
      "5\n",
      "6\n",
      "7\n",
      "8\n",
      "9\n",
      "10\n",
      "11\n",
      "12\n",
      "13\n"
     ]
    }
   ],
   "source": [
    "i=0\n",
    "for chunk in chunks_test:\n",
    "    print(i+1)\n",
    "    i=i+1\n",
    "    if(i==1):\n",
    "        data1 = chunk\n",
    "        data1.drop([0],axis=0,inplace=True)\n",
    "        data1 = clean_df(data1)\n",
    "        data1.to_sql('Test', con=conn,if_exists = 'append',chunksize=500000)\n",
    "    else:\n",
    "        data1 = chunk\n",
    "        data1 = clean_df(data1)\n",
    "        data1.to_sql('Test', con=conn,if_exists = 'append',chunksize=500000)    "
   ]
  },
  {
   "cell_type": "code",
   "execution_count": 18,
   "metadata": {
    "collapsed": true
   },
   "outputs": [],
   "source": [
    "device1 = data1.Device.astype('str').astype('category').cat.categories"
   ]
  },
  {
   "cell_type": "code",
   "execution_count": 103,
   "metadata": {
    "collapsed": true
   },
   "outputs": [],
   "source": [
    "device1.sort()"
   ]
  },
  {
   "cell_type": "code",
   "execution_count": 19,
   "metadata": {},
   "outputs": [
    {
     "data": {
      "text/plain": [
       "812"
      ]
     },
     "execution_count": 19,
     "metadata": {},
     "output_type": "execute_result"
    }
   ],
   "source": [
    "len(device1)"
   ]
  },
  {
   "cell_type": "code",
   "execution_count": 96,
   "metadata": {
    "collapsed": true
   },
   "outputs": [],
   "source": [
    "country1 = data1.Country.astype('str').factorize()[1].tolist()"
   ]
  },
  {
   "cell_type": "code",
   "execution_count": 97,
   "metadata": {},
   "outputs": [
    {
     "data": {
      "text/plain": [
       "201"
      ]
     },
     "execution_count": 97,
     "metadata": {},
     "output_type": "execute_result"
    }
   ],
   "source": [
    "len(country1)"
   ]
  },
  {
   "cell_type": "code",
   "execution_count": 94,
   "metadata": {
    "collapsed": true
   },
   "outputs": [],
   "source": [
    "browser1 = data1.Browser.astype('str').factorize()[1].tolist()"
   ]
  },
  {
   "cell_type": "code",
   "execution_count": 48,
   "metadata": {
    "collapsed": true
   },
   "outputs": [],
   "source": [
    "browser1.sort()"
   ]
  },
  {
   "cell_type": "code",
   "execution_count": 95,
   "metadata": {},
   "outputs": [
    {
     "data": {
      "text/plain": [
       "33"
      ]
     },
     "execution_count": 95,
     "metadata": {},
     "output_type": "execute_result"
    }
   ],
   "source": [
    "len(browser1)"
   ]
  },
  {
   "cell_type": "code",
   "execution_count": 49,
   "metadata": {
    "collapsed": true
   },
   "outputs": [],
   "source": [
    "os1 = data1.OS.factorize()[1].tolist()"
   ]
  },
  {
   "cell_type": "code",
   "execution_count": 51,
   "metadata": {
    "collapsed": true
   },
   "outputs": [],
   "source": [
    "os1.sort()"
   ]
  },
  {
   "cell_type": "code",
   "execution_count": 92,
   "metadata": {},
   "outputs": [
    {
     "data": {
      "text/plain": [
       "16"
      ]
     },
     "execution_count": 92,
     "metadata": {},
     "output_type": "execute_result"
    }
   ],
   "source": [
    "len(os1)"
   ]
  },
  {
   "cell_type": "code",
   "execution_count": 120,
   "metadata": {
    "collapsed": true
   },
   "outputs": [],
   "source": [
    "carrier1 = data1.Carrier.astype('float').astype('category').cat.categories"
   ]
  },
  {
   "cell_type": "code",
   "execution_count": 121,
   "metadata": {},
   "outputs": [
    {
     "data": {
      "text/plain": [
       "300"
      ]
     },
     "execution_count": 121,
     "metadata": {},
     "output_type": "execute_result"
    }
   ],
   "source": [
    "len(carrier1)"
   ]
  },
  {
   "cell_type": "code",
   "execution_count": 51,
   "metadata": {},
   "outputs": [
    {
     "data": {
      "text/plain": [
       "(19999999, 14)"
      ]
     },
     "execution_count": 51,
     "metadata": {},
     "output_type": "execute_result"
    }
   ],
   "source": [
    "data.shape"
   ]
  },
  {
   "cell_type": "code",
   "execution_count": 53,
   "metadata": {},
   "outputs": [
    {
     "data": {
      "text/plain": [
       "Int64Index([  0,   1,   2,   3,   4,   5,   6,   7,   8,   9,\n",
       "            ...\n",
       "            802, 803, 804, 805, 806, 807, 808, 809, 810, 811],\n",
       "           dtype='int64', length=812)"
      ]
     },
     "execution_count": 53,
     "metadata": {},
     "output_type": "execute_result"
    }
   ],
   "source": [
    "data.Device.astype('category').cat.categories"
   ]
  }
 ],
 "metadata": {
  "kernelspec": {
   "display_name": "Python 3",
   "language": "python",
   "name": "python3"
  },
  "language_info": {
   "codemirror_mode": {
    "name": "ipython",
    "version": 3
   },
   "file_extension": ".py",
   "mimetype": "text/x-python",
   "name": "python",
   "nbconvert_exporter": "python",
   "pygments_lexer": "ipython3",
   "version": "3.5.3"
  }
 },
 "nbformat": 4,
 "nbformat_minor": 2
}
