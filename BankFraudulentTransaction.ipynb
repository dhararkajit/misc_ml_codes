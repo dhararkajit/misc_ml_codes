{
 "cells": [
  {
   "cell_type": "code",
   "execution_count": 1,
   "metadata": {
    "collapsed": true
   },
   "outputs": [],
   "source": [
    "import pandas as pd\n",
    "import numpy as np"
   ]
  },
  {
   "cell_type": "code",
   "execution_count": 2,
   "metadata": {
    "collapsed": true
   },
   "outputs": [],
   "source": [
    "train = pd.read_csv('hackerearth_DL\\\\Problem2\\\\train.csv')\n",
    "test = pd.read_csv('hackerearth_DL\\\\Problem2\\\\test.csv')"
   ]
  },
  {
   "cell_type": "code",
   "execution_count": 3,
   "metadata": {
    "collapsed": true
   },
   "outputs": [],
   "source": [
    "train.index = train['transaction_id']\n",
    "test.index = test['transaction_id']"
   ]
  },
  {
   "cell_type": "code",
   "execution_count": 4,
   "metadata": {
    "collapsed": true
   },
   "outputs": [],
   "source": [
    "train.drop(['transaction_id'],axis=1 , inplace=True)\n",
    "test.drop(['transaction_id'],axis=1 , inplace=True)"
   ]
  },
  {
   "cell_type": "code",
   "execution_count": 5,
   "metadata": {
    "collapsed": true
   },
   "outputs": [],
   "source": [
    "y_train = train['target']\n",
    "train.drop(['target'],axis=1,inplace=True)"
   ]
  },
  {
   "cell_type": "code",
   "execution_count": 6,
   "metadata": {},
   "outputs": [
    {
     "data": {
      "text/plain": [
       "348978"
      ]
     },
     "execution_count": 6,
     "metadata": {},
     "output_type": "execute_result"
    }
   ],
   "source": [
    "len(train)"
   ]
  },
  {
   "cell_type": "code",
   "execution_count": 7,
   "metadata": {},
   "outputs": [
    {
     "data": {
      "text/plain": [
       "num_var_1          0\n",
       "num_var_2          0\n",
       "num_var_3          0\n",
       "num_var_4          0\n",
       "num_var_5          0\n",
       "num_var_6          0\n",
       "num_var_7          0\n",
       "cat_var_1      15782\n",
       "cat_var_2          0\n",
       "cat_var_3      43853\n",
       "cat_var_4          0\n",
       "cat_var_5          0\n",
       "cat_var_6          0\n",
       "cat_var_7          0\n",
       "cat_var_8     109738\n",
       "cat_var_9          0\n",
       "cat_var_10         0\n",
       "cat_var_11         0\n",
       "cat_var_12         0\n",
       "cat_var_13         0\n",
       "cat_var_14         0\n",
       "cat_var_15         0\n",
       "cat_var_16         0\n",
       "cat_var_17         0\n",
       "cat_var_18         0\n",
       "cat_var_19         0\n",
       "cat_var_20         0\n",
       "cat_var_21         0\n",
       "cat_var_22         0\n",
       "cat_var_23         0\n",
       "cat_var_24         0\n",
       "cat_var_25         0\n",
       "cat_var_26         0\n",
       "cat_var_27         0\n",
       "cat_var_28         0\n",
       "cat_var_29         0\n",
       "cat_var_30         0\n",
       "cat_var_31         0\n",
       "cat_var_32         0\n",
       "cat_var_33         0\n",
       "cat_var_34         0\n",
       "cat_var_35         0\n",
       "cat_var_36         0\n",
       "cat_var_37         0\n",
       "cat_var_38         0\n",
       "cat_var_39         0\n",
       "cat_var_40         0\n",
       "cat_var_41         0\n",
       "cat_var_42         0\n",
       "dtype: int64"
      ]
     },
     "execution_count": 7,
     "metadata": {},
     "output_type": "execute_result"
    }
   ],
   "source": [
    "train.isnull().sum()"
   ]
  },
  {
   "cell_type": "code",
   "execution_count": 12,
   "metadata": {},
   "outputs": [],
   "source": [
    "full = train['cat_var_42'].append(test['cat_var_42'])\n"
   ]
  },
  {
   "cell_type": "code",
   "execution_count": 14,
   "metadata": {
    "collapsed": true
   },
   "outputs": [],
   "source": [
    "from sklearn import preprocessing as pp"
   ]
  },
  {
   "cell_type": "code",
   "execution_count": 22,
   "metadata": {},
   "outputs": [],
   "source": [
    "for i in range(1,43):\n",
    "    full=train['cat_var_'+str(i)].append(test['cat_var_'+str(i)])\n",
    "    le = pp.LabelEncoder()\n",
    "    le.fit(full.astype('str'))\n",
    "    train['cat_var_'+str(i)] = le.transform(train['cat_var_'+str(i)].astype('str'))\n",
    "    test['cat_var_'+str(i)] = le.transform(test['cat_var_'+str(i)].astype('str'))"
   ]
  },
  {
   "cell_type": "code",
   "execution_count": 28,
   "metadata": {},
   "outputs": [],
   "source": [
    "from sklearn.decomposition import PCA\n",
    "from sklearn.linear_model import SGDClassifier, LogisticRegression, LogisticRegressionCV\n",
    "from sklearn.ensemble import RandomForestClassifier\n",
    "from sklearn.naive_bayes import MultinomialNB\n",
    "from sklearn.model_selection import train_test_split\n",
    "import os\n",
    "mingw_path = 'C:\\\\mingw-w64\\\\x86_64-5.3.0-posix-seh-rt_v4-rev0\\\\mingw64\\\\bin'\n",
    "\n",
    "os.environ['PATH'] = mingw_path + ';' + os.environ['PATH']\n",
    "from xgboost.sklearn import XGBClassifier"
   ]
  },
  {
   "cell_type": "code",
   "execution_count": 35,
   "metadata": {},
   "outputs": [
    {
     "name": "stdout",
     "output_type": "stream",
     "text": [
      "[(0, 311610), (1, 311610)]\n"
     ]
    }
   ],
   "source": [
    "from imblearn.over_sampling import SMOTE\n",
    "from collections import Counter\n",
    "smote= SMOTE()\n",
    "X_resampled_smt , y_resampled_smt = smote.fit_sample(train,y_train)\n",
    "print(sorted(Counter(y_resampled_smt).items()))"
   ]
  },
  {
   "cell_type": "code",
   "execution_count": 36,
   "metadata": {},
   "outputs": [
    {
     "name": "stderr",
     "output_type": "stream",
     "text": [
      "C:\\Users\\Arkajit\\Anaconda2\\envs\\TFENV\\lib\\site-packages\\sklearn\\cross_validation.py:41: DeprecationWarning: This module was deprecated in version 0.18 in favor of the model_selection module into which all the refactored classes and functions are moved. Also note that the interface of the new CV iterators are different from that of this module. This module will be removed in 0.20.\n",
      "  \"This module will be removed in 0.20.\", DeprecationWarning)\n",
      "C:\\Users\\Arkajit\\Anaconda2\\envs\\TFENV\\lib\\site-packages\\sklearn\\grid_search.py:42: DeprecationWarning: This module was deprecated in version 0.18 in favor of the model_selection module into which all the refactored classes and functions are moved. This module will be removed in 0.20.\n",
      "  DeprecationWarning)\n"
     ]
    }
   ],
   "source": [
    "from sklearn.cross_validation import cross_val_score , LeaveOneOut, KFold\n",
    "from scipy.stats import sem\n",
    "from sklearn.grid_search import GridSearchCV"
   ]
  },
  {
   "cell_type": "code",
   "execution_count": 37,
   "metadata": {
    "collapsed": true
   },
   "outputs": [],
   "source": [
    "model = XGBClassifier(n_jobs=2,max_depth=19, reg_alpha=0.01,colsample_bytree=0.85,subsample= 0.85,min_child_weight=1,gamma=0.3)"
   ]
  },
  {
   "cell_type": "code",
   "execution_count": 38,
   "metadata": {},
   "outputs": [
    {
     "data": {
      "text/plain": [
       "XGBClassifier(base_score=0.5, booster='gbtree', colsample_bylevel=1,\n",
       "       colsample_bytree=0.85, gamma=0.3, learning_rate=0.1,\n",
       "       max_delta_step=0, max_depth=19, min_child_weight=1, missing=None,\n",
       "       n_estimators=100, n_jobs=2, nthread=None,\n",
       "       objective='binary:logistic', random_state=0, reg_alpha=0.01,\n",
       "       reg_lambda=1, scale_pos_weight=1, seed=None, silent=True,\n",
       "       subsample=0.85)"
      ]
     },
     "execution_count": 38,
     "metadata": {},
     "output_type": "execute_result"
    }
   ],
   "source": [
    "model.fit(X_resampled_smt,y_resampled_smt)"
   ]
  },
  {
   "cell_type": "code",
   "execution_count": 46,
   "metadata": {},
   "outputs": [],
   "source": [
    "x_test = test.as_matrix()"
   ]
  },
  {
   "cell_type": "code",
   "execution_count": 48,
   "metadata": {},
   "outputs": [],
   "source": [
    "y_pred=model.predict_proba(x_test)"
   ]
  },
  {
   "cell_type": "code",
   "execution_count": 52,
   "metadata": {},
   "outputs": [],
   "source": [
    "y_pred = pd.DataFrame(y_pred,columns=['NO','target'])\n",
    "y_pred.index = test.index\n",
    "y_pred.drop(['NO'],axis=1 , inplace=True)"
   ]
  },
  {
   "cell_type": "code",
   "execution_count": 53,
   "metadata": {},
   "outputs": [],
   "source": [
    "y_pred.to_csv('hackerearth_DL\\\\Problem2\\\\submission1.csv')"
   ]
  },
  {
   "cell_type": "code",
   "execution_count": null,
   "metadata": {
    "collapsed": true
   },
   "outputs": [],
   "source": []
  }
 ],
 "metadata": {
  "kernelspec": {
   "display_name": "Python 2",
   "language": "python",
   "name": "python2"
  },
  "language_info": {
   "codemirror_mode": {
    "name": "ipython",
    "version": 2
   },
   "file_extension": ".py",
   "mimetype": "text/x-python",
   "name": "python",
   "nbconvert_exporter": "python",
   "pygments_lexer": "ipython2",
   "version": "2.7.13"
  }
 },
 "nbformat": 4,
 "nbformat_minor": 2
}
