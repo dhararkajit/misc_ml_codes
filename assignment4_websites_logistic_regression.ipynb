{
 "cells": [
  {
   "cell_type": "markdown",
   "metadata": {},
   "source": [
    "<center>\n",
    "<img src=\"../../img/ods_stickers.jpg\">\n",
    "## Open Machine Learning Course\n",
    "<center>Author: Yuriy Isakov\n",
    "\n",
    "All the materials are distributed under [Creative Commons CC BY-NC-SA 4.0](https://creativecommons.org/licenses/by-nc-sa/4.0/) license. You may use these materials for any non-commercial purposes with obligatory referencing to the original source and author. Any commercial usage (complete or partial) is prohibited."
   ]
  },
  {
   "cell_type": "markdown",
   "metadata": {},
   "source": [
    "# <center> Assignment #4\n",
    "## <center>  User Identification with Logistic Regression\n",
    "\n",
    "Today we are going to practice working with sparse matrices, training Logistic Regression models, and composing and sorting features. We will reproduce two baselines for the [\"Catch Me If You Can: Intruder Detection through Webpage Session Tracking\"](https://www.kaggle.com/c/catch-me-if-you-can-intruder-detection-through-webpage-session-tracking2)  Kaggle inclass competition. \n",
    "\n",
    "This assignment consists of nine tasks which you will need to perform. When you are finished, submit the [google-form](https://docs.google.com/forms/d/1dgk3zk-gjuJjazFZ3DTjMHvVhMbrzAuErufSpN6bxKA/edit) with your answers."
   ]
  },
  {
   "cell_type": "code",
   "execution_count": 2,
   "metadata": {},
   "outputs": [],
   "source": [
    "# we don't like warnings\n",
    "# you can comment the following 2 lines if you'd like to\n",
    "import warnings\n",
    "warnings.filterwarnings('ignore')\n",
    "\n",
    "# Import libraries \n",
    "%matplotlib inline\n",
    "from matplotlib import pyplot as plt\n",
    "import seaborn as sns\n",
    "\n",
    "import pickle\n",
    "import numpy as np\n",
    "import pandas as pd\n",
    "from scipy.sparse import csr_matrix\n",
    "from scipy.sparse import hstack\n",
    "from sklearn.preprocessing import StandardScaler\n",
    "from sklearn.metrics import roc_auc_score\n",
    "from sklearn.linear_model import LogisticRegression"
   ]
  },
  {
   "cell_type": "markdown",
   "metadata": {},
   "source": [
    "##### Approaching the Problem\n",
    "We will be solving the intruder detection problem by analyzing his behavior on the Internet. It is a complicated and interesting problem that combines data analysis and behavioral psychology.\n",
    "\n",
    "For example, Yandex solves the mailbox intruder detection problem based on the user's behavior patterns based on the notion that the intruder's behaviour pattern might differ from the owner's: \n",
    "- the intruder might not delete emails right after they are read like the mailbox owner would\n",
    "- the intruder might mark emails or move the cursor differently\n",
    "- and more\n",
    "\n",
    "Therefore, the intruder could be detected and thrown out from the mailbox, forcing the user to authenticate via SMS-code.\n",
    "This pilot project is described in the Habrahabr article.\n",
    "\n",
    "Similar things are being developed in Google Analytics and the research community. You can find more on this topic by searching for \"Traversal Pattern Mining\" and \"Sequential Pattern Mining\".\n",
    "\n",
    "In this competition, we are going to solve a similar problem. Our algorithm needs to analyze the sequence of websites consequently visited by a particular person and predict whether this person is Alice or an intruder (someone else). We will measure [ROC AUC](https://en.wikipedia.org/wiki/Receiver_operating_characteristic). Stay tuned until the end of the course to find out who Alice is."
   ]
  },
  {
   "cell_type": "markdown",
   "metadata": {},
   "source": [
    "### 1. Data Downloading and Transformation\n",
    "Register on [Kaggle](www.kaggle.com) if you have not done so before.\n",
    "Go to the competition [page](https://inclass.kaggle.com/c/catch-me-if-you-can-intruder-detection-through-webpage-session-tracking2) and download the data.\n",
    "\n",
    "First, read the training and test sets. Then, explore the data and perform a couple of simple exercises:"
   ]
  },
  {
   "cell_type": "code",
   "execution_count": 3,
   "metadata": {},
   "outputs": [
    {
     "data": {
      "text/html": [
       "<div>\n",
       "<style scoped>\n",
       "    .dataframe tbody tr th:only-of-type {\n",
       "        vertical-align: middle;\n",
       "    }\n",
       "\n",
       "    .dataframe tbody tr th {\n",
       "        vertical-align: top;\n",
       "    }\n",
       "\n",
       "    .dataframe thead th {\n",
       "        text-align: right;\n",
       "    }\n",
       "</style>\n",
       "<table border=\"1\" class=\"dataframe\">\n",
       "  <thead>\n",
       "    <tr style=\"text-align: right;\">\n",
       "      <th></th>\n",
       "      <th>site1</th>\n",
       "      <th>time1</th>\n",
       "      <th>site2</th>\n",
       "      <th>time2</th>\n",
       "      <th>site3</th>\n",
       "      <th>time3</th>\n",
       "      <th>site4</th>\n",
       "      <th>time4</th>\n",
       "      <th>site5</th>\n",
       "      <th>time5</th>\n",
       "      <th>...</th>\n",
       "      <th>time6</th>\n",
       "      <th>site7</th>\n",
       "      <th>time7</th>\n",
       "      <th>site8</th>\n",
       "      <th>time8</th>\n",
       "      <th>site9</th>\n",
       "      <th>time9</th>\n",
       "      <th>site10</th>\n",
       "      <th>time10</th>\n",
       "      <th>target</th>\n",
       "    </tr>\n",
       "    <tr>\n",
       "      <th>session_id</th>\n",
       "      <th></th>\n",
       "      <th></th>\n",
       "      <th></th>\n",
       "      <th></th>\n",
       "      <th></th>\n",
       "      <th></th>\n",
       "      <th></th>\n",
       "      <th></th>\n",
       "      <th></th>\n",
       "      <th></th>\n",
       "      <th></th>\n",
       "      <th></th>\n",
       "      <th></th>\n",
       "      <th></th>\n",
       "      <th></th>\n",
       "      <th></th>\n",
       "      <th></th>\n",
       "      <th></th>\n",
       "      <th></th>\n",
       "      <th></th>\n",
       "      <th></th>\n",
       "    </tr>\n",
       "  </thead>\n",
       "  <tbody>\n",
       "    <tr>\n",
       "      <th>21669</th>\n",
       "      <td>56</td>\n",
       "      <td>2013-01-12 08:05:57</td>\n",
       "      <td>55.0</td>\n",
       "      <td>2013-01-12 08:05:57</td>\n",
       "      <td>NaN</td>\n",
       "      <td>NaT</td>\n",
       "      <td>NaN</td>\n",
       "      <td>NaT</td>\n",
       "      <td>NaN</td>\n",
       "      <td>NaT</td>\n",
       "      <td>...</td>\n",
       "      <td>NaT</td>\n",
       "      <td>NaN</td>\n",
       "      <td>NaT</td>\n",
       "      <td>NaN</td>\n",
       "      <td>NaT</td>\n",
       "      <td>NaN</td>\n",
       "      <td>NaT</td>\n",
       "      <td>NaN</td>\n",
       "      <td>NaT</td>\n",
       "      <td>0</td>\n",
       "    </tr>\n",
       "    <tr>\n",
       "      <th>54843</th>\n",
       "      <td>56</td>\n",
       "      <td>2013-01-12 08:37:23</td>\n",
       "      <td>55.0</td>\n",
       "      <td>2013-01-12 08:37:23</td>\n",
       "      <td>56.0</td>\n",
       "      <td>2013-01-12 09:07:07</td>\n",
       "      <td>55.0</td>\n",
       "      <td>2013-01-12 09:07:09</td>\n",
       "      <td>NaN</td>\n",
       "      <td>NaT</td>\n",
       "      <td>...</td>\n",
       "      <td>NaT</td>\n",
       "      <td>NaN</td>\n",
       "      <td>NaT</td>\n",
       "      <td>NaN</td>\n",
       "      <td>NaT</td>\n",
       "      <td>NaN</td>\n",
       "      <td>NaT</td>\n",
       "      <td>NaN</td>\n",
       "      <td>NaT</td>\n",
       "      <td>0</td>\n",
       "    </tr>\n",
       "    <tr>\n",
       "      <th>77292</th>\n",
       "      <td>946</td>\n",
       "      <td>2013-01-12 08:50:13</td>\n",
       "      <td>946.0</td>\n",
       "      <td>2013-01-12 08:50:14</td>\n",
       "      <td>951.0</td>\n",
       "      <td>2013-01-12 08:50:15</td>\n",
       "      <td>946.0</td>\n",
       "      <td>2013-01-12 08:50:15</td>\n",
       "      <td>946.0</td>\n",
       "      <td>2013-01-12 08:50:16</td>\n",
       "      <td>...</td>\n",
       "      <td>2013-01-12 08:50:16</td>\n",
       "      <td>948.0</td>\n",
       "      <td>2013-01-12 08:50:16</td>\n",
       "      <td>784.0</td>\n",
       "      <td>2013-01-12 08:50:16</td>\n",
       "      <td>949.0</td>\n",
       "      <td>2013-01-12 08:50:17</td>\n",
       "      <td>946.0</td>\n",
       "      <td>2013-01-12 08:50:17</td>\n",
       "      <td>0</td>\n",
       "    </tr>\n",
       "    <tr>\n",
       "      <th>114021</th>\n",
       "      <td>945</td>\n",
       "      <td>2013-01-12 08:50:17</td>\n",
       "      <td>948.0</td>\n",
       "      <td>2013-01-12 08:50:17</td>\n",
       "      <td>949.0</td>\n",
       "      <td>2013-01-12 08:50:18</td>\n",
       "      <td>948.0</td>\n",
       "      <td>2013-01-12 08:50:18</td>\n",
       "      <td>945.0</td>\n",
       "      <td>2013-01-12 08:50:18</td>\n",
       "      <td>...</td>\n",
       "      <td>2013-01-12 08:50:18</td>\n",
       "      <td>947.0</td>\n",
       "      <td>2013-01-12 08:50:19</td>\n",
       "      <td>945.0</td>\n",
       "      <td>2013-01-12 08:50:19</td>\n",
       "      <td>946.0</td>\n",
       "      <td>2013-01-12 08:50:19</td>\n",
       "      <td>946.0</td>\n",
       "      <td>2013-01-12 08:50:20</td>\n",
       "      <td>0</td>\n",
       "    </tr>\n",
       "    <tr>\n",
       "      <th>146670</th>\n",
       "      <td>947</td>\n",
       "      <td>2013-01-12 08:50:20</td>\n",
       "      <td>950.0</td>\n",
       "      <td>2013-01-12 08:50:20</td>\n",
       "      <td>948.0</td>\n",
       "      <td>2013-01-12 08:50:20</td>\n",
       "      <td>947.0</td>\n",
       "      <td>2013-01-12 08:50:21</td>\n",
       "      <td>950.0</td>\n",
       "      <td>2013-01-12 08:50:21</td>\n",
       "      <td>...</td>\n",
       "      <td>2013-01-12 08:50:21</td>\n",
       "      <td>946.0</td>\n",
       "      <td>2013-01-12 08:50:21</td>\n",
       "      <td>951.0</td>\n",
       "      <td>2013-01-12 08:50:22</td>\n",
       "      <td>946.0</td>\n",
       "      <td>2013-01-12 08:50:22</td>\n",
       "      <td>947.0</td>\n",
       "      <td>2013-01-12 08:50:22</td>\n",
       "      <td>0</td>\n",
       "    </tr>\n",
       "  </tbody>\n",
       "</table>\n",
       "<p>5 rows × 21 columns</p>\n",
       "</div>"
      ],
      "text/plain": [
       "            site1               time1  site2               time2  site3  \\\n",
       "session_id                                                                \n",
       "21669          56 2013-01-12 08:05:57   55.0 2013-01-12 08:05:57    NaN   \n",
       "54843          56 2013-01-12 08:37:23   55.0 2013-01-12 08:37:23   56.0   \n",
       "77292         946 2013-01-12 08:50:13  946.0 2013-01-12 08:50:14  951.0   \n",
       "114021        945 2013-01-12 08:50:17  948.0 2013-01-12 08:50:17  949.0   \n",
       "146670        947 2013-01-12 08:50:20  950.0 2013-01-12 08:50:20  948.0   \n",
       "\n",
       "                         time3  site4               time4  site5  \\\n",
       "session_id                                                         \n",
       "21669                      NaT    NaN                 NaT    NaN   \n",
       "54843      2013-01-12 09:07:07   55.0 2013-01-12 09:07:09    NaN   \n",
       "77292      2013-01-12 08:50:15  946.0 2013-01-12 08:50:15  946.0   \n",
       "114021     2013-01-12 08:50:18  948.0 2013-01-12 08:50:18  945.0   \n",
       "146670     2013-01-12 08:50:20  947.0 2013-01-12 08:50:21  950.0   \n",
       "\n",
       "                         time5  ...                 time6  site7  \\\n",
       "session_id                      ...                                \n",
       "21669                      NaT  ...                   NaT    NaN   \n",
       "54843                      NaT  ...                   NaT    NaN   \n",
       "77292      2013-01-12 08:50:16  ...   2013-01-12 08:50:16  948.0   \n",
       "114021     2013-01-12 08:50:18  ...   2013-01-12 08:50:18  947.0   \n",
       "146670     2013-01-12 08:50:21  ...   2013-01-12 08:50:21  946.0   \n",
       "\n",
       "                         time7  site8               time8  site9  \\\n",
       "session_id                                                         \n",
       "21669                      NaT    NaN                 NaT    NaN   \n",
       "54843                      NaT    NaN                 NaT    NaN   \n",
       "77292      2013-01-12 08:50:16  784.0 2013-01-12 08:50:16  949.0   \n",
       "114021     2013-01-12 08:50:19  945.0 2013-01-12 08:50:19  946.0   \n",
       "146670     2013-01-12 08:50:21  951.0 2013-01-12 08:50:22  946.0   \n",
       "\n",
       "                         time9 site10              time10 target  \n",
       "session_id                                                        \n",
       "21669                      NaT    NaN                 NaT      0  \n",
       "54843                      NaT    NaN                 NaT      0  \n",
       "77292      2013-01-12 08:50:17  946.0 2013-01-12 08:50:17      0  \n",
       "114021     2013-01-12 08:50:19  946.0 2013-01-12 08:50:20      0  \n",
       "146670     2013-01-12 08:50:22  947.0 2013-01-12 08:50:22      0  \n",
       "\n",
       "[5 rows x 21 columns]"
      ]
     },
     "execution_count": 3,
     "metadata": {},
     "output_type": "execute_result"
    }
   ],
   "source": [
    "# Read the training and test data sets\n",
    "train_df = pd.read_csv('C:/Users/Arkajit/Anaconda2/envs/TFENV2/Kaggle_opends/train_sessions.csv',\n",
    "                       index_col='session_id')\n",
    "test_df = pd.read_csv('C:/Users/Arkajit/Anaconda2/envs/TFENV2/Kaggle_opends/test_sessions.csv',\n",
    "                      index_col='session_id')\n",
    "\n",
    "# Switch time1, ..., time10 columns to datetime type\n",
    "times = ['time%s' % i for i in range(1, 11)]\n",
    "train_df[times] = train_df[times].apply(pd.to_datetime)\n",
    "test_df[times] = test_df[times].apply(pd.to_datetime)\n",
    "\n",
    "# Sort the data by time\n",
    "train_df = train_df.sort_values(by='time1')\n",
    "\n",
    "# Look at the first rows of the training set\n",
    "train_df.head()"
   ]
  },
  {
   "cell_type": "markdown",
   "metadata": {},
   "source": [
    "The training dataset contains the following features:\n",
    "\n",
    "- **site1** – id of the first visited website in the session\n",
    "- **time1** – visiting time for the first website in the session\n",
    "- ...\n",
    "- **site10** – id of the tenth visited website in the session\n",
    "- **time10** – visiting time for the tenth website in the session\n",
    "- **target** – target variable, value 1 for Alice's sessions, and 0 otherwise\n",
    "    \n",
    "User sessions are chosen in such a way that they are no longer than half an hour and/or contain more than ten websites i.e. a session is considered ended if either a user has visited ten websites or a session has lasted for more than thirty minutes.\n",
    "\n",
    "There are some empty values in the table, which means that these sessions contain less than ten websites. Replace empty values with 0, and change the columns' types to integer. Load the website's dictionary and see what it looks like:"
   ]
  },
  {
   "cell_type": "code",
   "execution_count": 4,
   "metadata": {},
   "outputs": [
    {
     "name": "stdout",
     "output_type": "stream",
     "text": [
      "Websites total: 48371\n"
     ]
    },
    {
     "data": {
      "text/html": [
       "<div>\n",
       "<style scoped>\n",
       "    .dataframe tbody tr th:only-of-type {\n",
       "        vertical-align: middle;\n",
       "    }\n",
       "\n",
       "    .dataframe tbody tr th {\n",
       "        vertical-align: top;\n",
       "    }\n",
       "\n",
       "    .dataframe thead th {\n",
       "        text-align: right;\n",
       "    }\n",
       "</style>\n",
       "<table border=\"1\" class=\"dataframe\">\n",
       "  <thead>\n",
       "    <tr style=\"text-align: right;\">\n",
       "      <th></th>\n",
       "      <th>site</th>\n",
       "    </tr>\n",
       "  </thead>\n",
       "  <tbody>\n",
       "    <tr>\n",
       "      <th>25075</th>\n",
       "      <td>www.abmecatronique.com</td>\n",
       "    </tr>\n",
       "    <tr>\n",
       "      <th>13997</th>\n",
       "      <td>groups.live.com</td>\n",
       "    </tr>\n",
       "    <tr>\n",
       "      <th>42436</th>\n",
       "      <td>majeureliguefootball.wordpress.com</td>\n",
       "    </tr>\n",
       "    <tr>\n",
       "      <th>30911</th>\n",
       "      <td>cdt46.media.tourinsoft.eu</td>\n",
       "    </tr>\n",
       "    <tr>\n",
       "      <th>8104</th>\n",
       "      <td>www.hdwallpapers.eu</td>\n",
       "    </tr>\n",
       "  </tbody>\n",
       "</table>\n",
       "</div>"
      ],
      "text/plain": [
       "                                     site\n",
       "25075              www.abmecatronique.com\n",
       "13997                     groups.live.com\n",
       "42436  majeureliguefootball.wordpress.com\n",
       "30911           cdt46.media.tourinsoft.eu\n",
       "8104                  www.hdwallpapers.eu"
      ]
     },
     "execution_count": 4,
     "metadata": {},
     "output_type": "execute_result"
    }
   ],
   "source": [
    "# Change site1, ..., site10 columns type to integer and fill NA-values with zeros\n",
    "sites = ['site%s' % i for i in range(1, 11)]\n",
    "train_df[sites] = train_df[sites].fillna(0).astype('int')\n",
    "test_df[sites] = test_df[sites].fillna(0).astype('int')\n",
    "\n",
    "# Load websites dictionary\n",
    "with open(r\"C:/Users/Arkajit/Anaconda2/envs/TFENV2/Kaggle_opends/site_dic.pkl\", \"rb\") as input_file:\n",
    "    site_dict = pickle.load(input_file)\n",
    "\n",
    "# Create dataframe for the dictionary\n",
    "sites_dict = pd.DataFrame(list(site_dict.keys()), index=list(site_dict.values()), columns=['site'])\n",
    "print(u'Websites total:', sites_dict.shape[0])\n",
    "sites_dict.head()"
   ]
  },
  {
   "cell_type": "markdown",
   "metadata": {},
   "source": [
    "\n",
    "#### 4.1. What are the dimensions of the training and test sets (in exactly this order)?\n",
    "\n",
    "- (82797, 20) and (253561, 20)\n",
    "- (82797, 20) and (253561, 21)\n",
    "- (253561, 21) and (82797, 20)\n",
    "- (253561, 20) and (82797, 20)"
   ]
  },
  {
   "cell_type": "code",
   "execution_count": 5,
   "metadata": {},
   "outputs": [
    {
     "name": "stdout",
     "output_type": "stream",
     "text": [
      "(253561, 21) (82797, 20)\n"
     ]
    }
   ],
   "source": [
<<<<<<< HEAD
    "# Your code is here\n",
    "\n",
    "print (train_df.shape, test_df.shape)"
=======
    "# Your code is here"
>>>>>>> d76a3633c4e34d4cca9b3efb9855b91b151f92b6
   ]
  },
  {
   "cell_type": "markdown",
   "metadata": {},
   "source": [
    "### 2. Brief Exploratory Data Analysis"
   ]
  },
  {
   "cell_type": "markdown",
   "metadata": {},
   "source": [
    "Before we start training models, we have to perform Exploratory Data Analysis ([EDA](https://en.wikipedia.org/wiki/Exploratory_data_analysis)). Today, we are going to perform a shorter version, but we will use other techniques as we move forward. Let's check which websites in the training data set are the most visited. As you can see, they are Google services and a bioinformatics website (a website with 'zero'-index is our missed values, just ignore it):"
   ]
  },
  {
   "cell_type": "code",
   "execution_count": 6,
   "metadata": {},
   "outputs": [
    {
     "name": "stdout",
     "output_type": "stream",
     "text": [
      "21     123776\n",
      "0      122730\n",
      "23      87619\n",
      "782     77055\n",
      "22      58258\n",
      "dtype: int64\n"
     ]
    },
    {
     "data": {
      "text/html": [
       "<div>\n",
       "<style scoped>\n",
       "    .dataframe tbody tr th:only-of-type {\n",
       "        vertical-align: middle;\n",
       "    }\n",
       "\n",
       "    .dataframe tbody tr th {\n",
       "        vertical-align: top;\n",
       "    }\n",
       "\n",
       "    .dataframe thead th {\n",
       "        text-align: right;\n",
       "    }\n",
       "</style>\n",
       "<table border=\"1\" class=\"dataframe\">\n",
       "  <thead>\n",
       "    <tr style=\"text-align: right;\">\n",
       "      <th></th>\n",
       "      <th>site</th>\n",
       "    </tr>\n",
       "  </thead>\n",
       "  <tbody>\n",
       "    <tr>\n",
       "      <th>21</th>\n",
       "      <td>www.google.fr</td>\n",
       "    </tr>\n",
       "    <tr>\n",
       "      <th>0</th>\n",
       "      <td>NaN</td>\n",
       "    </tr>\n",
       "    <tr>\n",
       "      <th>23</th>\n",
       "      <td>www.google.com</td>\n",
       "    </tr>\n",
       "    <tr>\n",
       "      <th>782</th>\n",
       "      <td>annotathon.org</td>\n",
       "    </tr>\n",
       "    <tr>\n",
       "      <th>22</th>\n",
       "      <td>apis.google.com</td>\n",
       "    </tr>\n",
       "  </tbody>\n",
       "</table>\n",
       "</div>"
      ],
      "text/plain": [
       "                site\n",
       "21     www.google.fr\n",
       "0                NaN\n",
       "23    www.google.com\n",
       "782   annotathon.org\n",
       "22   apis.google.com"
      ]
     },
     "execution_count": 6,
     "metadata": {},
     "output_type": "execute_result"
    }
   ],
   "source": [
    "# Top websites in the training data set\n",
    "top_sites = pd.Series(train_df[sites].fillna(0).values.flatten()\n",
    "                     ).value_counts().sort_values(ascending=False).head(5)\n",
    "print(top_sites)\n",
    "sites_dict.loc[top_sites.index.tolist()]"
   ]
  },
  {
   "cell_type": "markdown",
   "metadata": {},
   "source": [
    "##### 4.2. What kind of websites does Alice visit the most?\n",
    "\n",
    "- videohostings\n",
    "- social networks\n",
    "- torrent trackers\n",
    "- news"
   ]
  },
  {
   "cell_type": "code",
   "execution_count": 7,
   "metadata": {},
   "outputs": [
    {
     "name": "stdout",
     "output_type": "stream",
     "text": [
      "77    1382\n",
      "80    1354\n",
      "76    1307\n",
      "29     897\n",
      "21     857\n",
      "dtype: int64\n"
     ]
    },
    {
     "data": {
      "text/html": [
       "<div>\n",
       "<style scoped>\n",
       "    .dataframe tbody tr th:only-of-type {\n",
       "        vertical-align: middle;\n",
       "    }\n",
       "\n",
       "    .dataframe tbody tr th {\n",
       "        vertical-align: top;\n",
       "    }\n",
       "\n",
       "    .dataframe thead th {\n",
       "        text-align: right;\n",
       "    }\n",
       "</style>\n",
       "<table border=\"1\" class=\"dataframe\">\n",
       "  <thead>\n",
       "    <tr style=\"text-align: right;\">\n",
       "      <th></th>\n",
       "      <th>site</th>\n",
       "    </tr>\n",
       "  </thead>\n",
       "  <tbody>\n",
       "    <tr>\n",
       "      <th>77</th>\n",
       "      <td>i1.ytimg.com</td>\n",
       "    </tr>\n",
       "    <tr>\n",
       "      <th>80</th>\n",
       "      <td>s.youtube.com</td>\n",
       "    </tr>\n",
       "    <tr>\n",
       "      <th>76</th>\n",
       "      <td>www.youtube.com</td>\n",
       "    </tr>\n",
       "    <tr>\n",
       "      <th>29</th>\n",
       "      <td>www.facebook.com</td>\n",
       "    </tr>\n",
       "    <tr>\n",
       "      <th>21</th>\n",
       "      <td>www.google.fr</td>\n",
       "    </tr>\n",
       "  </tbody>\n",
       "</table>\n",
       "</div>"
      ],
      "text/plain": [
       "                site\n",
       "77      i1.ytimg.com\n",
       "80     s.youtube.com\n",
       "76   www.youtube.com\n",
       "29  www.facebook.com\n",
       "21     www.google.fr"
      ]
     },
     "execution_count": 7,
     "metadata": {},
     "output_type": "execute_result"
    }
   ],
   "source": [
<<<<<<< HEAD
    "# Your code is here\n",
    "top_sites_alice = pd.Series(train_df[train_df['target'] == 1][sites].fillna(0).values.flatten()\n",
    "                     ).value_counts().sort_values(ascending=False).head(5)\n",
    "print(top_sites_alice)\n",
    "sites_dict.loc[top_sites_alice.index.tolist()]"
=======
    "# Your code is here"
>>>>>>> d76a3633c4e34d4cca9b3efb9855b91b151f92b6
   ]
  },
  {
   "cell_type": "markdown",
   "metadata": {},
   "source": [
    "Now, let us look at the timestamps and try to characterize sessions by timeframes:"
   ]
  },
  {
   "cell_type": "code",
   "execution_count": 8,
   "metadata": {},
   "outputs": [
    {
     "data": {
      "text/html": [
       "<div>\n",
       "<style scoped>\n",
       "    .dataframe tbody tr th:only-of-type {\n",
       "        vertical-align: middle;\n",
       "    }\n",
       "\n",
       "    .dataframe tbody tr th {\n",
       "        vertical-align: top;\n",
       "    }\n",
       "\n",
       "    .dataframe thead th {\n",
       "        text-align: right;\n",
       "    }\n",
       "</style>\n",
       "<table border=\"1\" class=\"dataframe\">\n",
       "  <thead>\n",
       "    <tr style=\"text-align: right;\">\n",
       "      <th></th>\n",
       "      <th>target</th>\n",
       "      <th>min</th>\n",
       "      <th>max</th>\n",
       "      <th>seconds</th>\n",
       "    </tr>\n",
       "    <tr>\n",
       "      <th>session_id</th>\n",
       "      <th></th>\n",
       "      <th></th>\n",
       "      <th></th>\n",
       "      <th></th>\n",
       "    </tr>\n",
       "  </thead>\n",
       "  <tbody>\n",
       "    <tr>\n",
       "      <th>21669</th>\n",
       "      <td>0</td>\n",
       "      <td>2013-01-12 08:05:57</td>\n",
       "      <td>2013-01-12 08:05:57</td>\n",
       "      <td>0.0</td>\n",
       "    </tr>\n",
       "    <tr>\n",
       "      <th>54843</th>\n",
       "      <td>0</td>\n",
       "      <td>2013-01-12 08:37:23</td>\n",
       "      <td>2013-01-12 09:07:09</td>\n",
       "      <td>1786.0</td>\n",
       "    </tr>\n",
       "    <tr>\n",
       "      <th>77292</th>\n",
       "      <td>0</td>\n",
       "      <td>2013-01-12 08:50:13</td>\n",
       "      <td>2013-01-12 08:50:17</td>\n",
       "      <td>4.0</td>\n",
       "    </tr>\n",
       "    <tr>\n",
       "      <th>114021</th>\n",
       "      <td>0</td>\n",
       "      <td>2013-01-12 08:50:17</td>\n",
       "      <td>2013-01-12 08:50:20</td>\n",
       "      <td>3.0</td>\n",
       "    </tr>\n",
       "    <tr>\n",
       "      <th>146670</th>\n",
       "      <td>0</td>\n",
       "      <td>2013-01-12 08:50:20</td>\n",
       "      <td>2013-01-12 08:50:22</td>\n",
       "      <td>2.0</td>\n",
       "    </tr>\n",
       "  </tbody>\n",
       "</table>\n",
       "</div>"
      ],
      "text/plain": [
       "            target                 min                 max  seconds\n",
       "session_id                                                         \n",
       "21669            0 2013-01-12 08:05:57 2013-01-12 08:05:57      0.0\n",
       "54843            0 2013-01-12 08:37:23 2013-01-12 09:07:09   1786.0\n",
       "77292            0 2013-01-12 08:50:13 2013-01-12 08:50:17      4.0\n",
       "114021           0 2013-01-12 08:50:17 2013-01-12 08:50:20      3.0\n",
       "146670           0 2013-01-12 08:50:20 2013-01-12 08:50:22      2.0"
      ]
     },
     "execution_count": 8,
     "metadata": {},
     "output_type": "execute_result"
    }
   ],
   "source": [
    "# Create a separate dataframe where we will work with timestamps\n",
    "time_df = pd.DataFrame(index=train_df.index)\n",
    "time_df['target'] = train_df['target']\n",
    "\n",
    "# Find sessions' starting and ending\n",
    "time_df['min'] = train_df[times].min(axis=1)\n",
    "time_df['max'] = train_df[times].max(axis=1)\n",
    "\n",
    "# Calculate sessions' duration in seconds\n",
    "time_df['seconds'] = (time_df['max'] - time_df['min']) / np.timedelta64(1, 's')\n",
    "\n",
    "time_df.head()"
   ]
  },
  {
   "cell_type": "markdown",
   "metadata": {},
   "source": [
    "In order to perform the next task, generate descriptive statistics as you did for the first homework in the first week.\n",
    "\n",
    "##### 4.3. Select the correct statements (there can be none, one,.., all correct statements):\n",
    "\n",
    "- on average, Alice's session is shorter than that of other users\n",
    "- more than 1% of all sessions in the dataset belong to Alice\n",
    "- minimum and maximum durations of Alice's and other users' sessions are approximately the same\n",
    "- variation about the mean session duration for all users (including Alice) is approximately the same\n",
    "- less than a quarter of Alice's sessions are greater than or equal to 40 seconds"
   ]
  },
  {
   "cell_type": "code",
   "execution_count": 9,
   "metadata": {},
   "outputs": [
    {
     "data": {
      "text/plain": [
       "target\n",
       "0    139.282372\n",
       "1     52.296474\n",
       "Name: seconds, dtype: float64"
      ]
     },
     "execution_count": 9,
     "metadata": {},
     "output_type": "execute_result"
    }
   ],
   "source": [
    "time_df.groupby(['target'])['seconds'].mean()"
   ]
  },
  {
   "cell_type": "code",
   "execution_count": 10,
   "metadata": {},
   "outputs": [
    {
     "data": {
      "text/plain": [
       "0    99.094104\n",
       "1     0.905896\n",
       "Name: target, dtype: float64"
      ]
     },
     "execution_count": 10,
     "metadata": {},
     "output_type": "execute_result"
    }
   ],
   "source": [
    "# Your code is here\n",
    "\n",
    "time_df['target'].value_counts() * 100 /time_df.shape[0]"
   ]
  },
  {
   "cell_type": "code",
   "execution_count": 11,
   "metadata": {},
   "outputs": [
    {
     "name": "stdout",
     "output_type": "stream",
     "text": [
      "target\n",
      "0    1800.0\n",
      "1    1763.0\n",
      "Name: seconds, dtype: float64 target\n",
      "0    0.0\n",
      "1    0.0\n",
      "Name: seconds, dtype: float64\n"
     ]
    }
   ],
   "source": [
    "print (time_df.groupby(['target'])['seconds'].max(), time_df.groupby(['target'])['seconds'].min())"
   ]
  },
  {
   "cell_type": "code",
   "execution_count": 12,
   "metadata": {},
   "outputs": [
    {
     "data": {
      "text/plain": [
       "target\n",
       "0    88003.309575\n",
       "1    23503.653790\n",
       "Name: seconds, dtype: float64"
      ]
     },
     "execution_count": 12,
     "metadata": {},
     "output_type": "execute_result"
    }
   ],
   "source": [
    "time_df.groupby(['target'])['seconds'].var()"
   ]
  },
  {
   "cell_type": "code",
   "execution_count": 13,
   "metadata": {},
   "outputs": [
    {
     "data": {
      "text/plain": [
       "count    2297.000000\n",
       "mean       52.296474\n",
       "std       153.309014\n",
       "min         0.000000\n",
       "25%         4.000000\n",
       "50%        11.000000\n",
       "75%        38.000000\n",
       "max      1763.000000\n",
       "Name: seconds, dtype: float64"
      ]
     },
     "execution_count": 13,
     "metadata": {},
     "output_type": "execute_result"
    }
   ],
   "source": [
    "time_df[train_df['target'] == 1 ]['seconds'].describe()"
   ]
  },
  {
   "cell_type": "markdown",
   "metadata": {},
   "source": [
    "In order to train our first model, we need to prepare the data. First, exclude the target variable from the training set. Both training and test sets now have the same number of columns, and we can aggregate them into a single dataframe.  All transformations will therefore be performed simultaneously on both training and test data sets. \n",
    "\n",
    "On the one hand, this will lead to the fact that both data sets have one feature space (you don't have to worry that you forgot to transform a feature in some data sets). On the other hand, processing time will increase. \n",
    "For enormously large sets, it might be impossible to transform both data sets simultaneously, and you willhave to split your transformations into several stages across the train/test data set).\n",
    "For this dataset, we are going to perform all the transformations for the whole combined dataframe at once and will filter the appropriate part before training the model or making predictions."
   ]
  },
  {
   "cell_type": "code",
   "execution_count": 14,
   "metadata": {},
   "outputs": [],
   "source": [
    "# Our target variable\n",
    "y_train = train_df['target']\n",
    "\n",
    "# United dataframe of the initial data \n",
    "full_df = pd.concat([train_df.drop('target', axis=1), test_df])\n",
    "\n",
    "# Index to split the training and test data sets\n",
    "idx_split = train_df.shape[0]"
   ]
  },
  {
   "cell_type": "code",
   "execution_count": 32,
   "metadata": {},
   "outputs": [
    {
     "data": {
      "text/plain": [
       "253561"
      ]
     },
     "execution_count": 32,
     "metadata": {},
     "output_type": "execute_result"
    }
   ],
   "source": [
    "idx_split"
   ]
  },
  {
   "cell_type": "markdown",
   "metadata": {},
   "source": [
    "For the basic model, we will use only the visited websites in the session (but will not take into account the timestamp features). The point behind this data selection is: *Alice has her favorite sites. The more often you see these sites in the session, the higher the probability that this is Alice and vice versa.*\n",
    "\n",
    "Now we'll prepare the data, taking only features `site1, site2, ... , site10` from the whole dataframe. Keep in mind that the missing values have been replaced with zero. Here is how the first rows of the dataframe should look:"
   ]
  },
  {
   "cell_type": "code",
   "execution_count": 16,
   "metadata": {},
   "outputs": [
    {
     "data": {
      "text/html": [
       "<div>\n",
       "<style scoped>\n",
       "    .dataframe tbody tr th:only-of-type {\n",
       "        vertical-align: middle;\n",
       "    }\n",
       "\n",
       "    .dataframe tbody tr th {\n",
       "        vertical-align: top;\n",
       "    }\n",
       "\n",
       "    .dataframe thead th {\n",
       "        text-align: right;\n",
       "    }\n",
       "</style>\n",
       "<table border=\"1\" class=\"dataframe\">\n",
       "  <thead>\n",
       "    <tr style=\"text-align: right;\">\n",
       "      <th></th>\n",
       "      <th>site1</th>\n",
       "      <th>site2</th>\n",
       "      <th>site3</th>\n",
       "      <th>site4</th>\n",
       "      <th>site5</th>\n",
       "      <th>site6</th>\n",
       "      <th>site7</th>\n",
       "      <th>site8</th>\n",
       "      <th>site9</th>\n",
       "      <th>site10</th>\n",
       "    </tr>\n",
       "    <tr>\n",
       "      <th>session_id</th>\n",
       "      <th></th>\n",
       "      <th></th>\n",
       "      <th></th>\n",
       "      <th></th>\n",
       "      <th></th>\n",
       "      <th></th>\n",
       "      <th></th>\n",
       "      <th></th>\n",
       "      <th></th>\n",
       "      <th></th>\n",
       "    </tr>\n",
       "  </thead>\n",
       "  <tbody>\n",
       "    <tr>\n",
       "      <th>21669</th>\n",
       "      <td>56</td>\n",
       "      <td>55</td>\n",
       "      <td>0</td>\n",
       "      <td>0</td>\n",
       "      <td>0</td>\n",
       "      <td>0</td>\n",
       "      <td>0</td>\n",
       "      <td>0</td>\n",
       "      <td>0</td>\n",
       "      <td>0</td>\n",
       "    </tr>\n",
       "    <tr>\n",
       "      <th>54843</th>\n",
       "      <td>56</td>\n",
       "      <td>55</td>\n",
       "      <td>56</td>\n",
       "      <td>55</td>\n",
       "      <td>0</td>\n",
       "      <td>0</td>\n",
       "      <td>0</td>\n",
       "      <td>0</td>\n",
       "      <td>0</td>\n",
       "      <td>0</td>\n",
       "    </tr>\n",
       "    <tr>\n",
       "      <th>77292</th>\n",
       "      <td>946</td>\n",
       "      <td>946</td>\n",
       "      <td>951</td>\n",
       "      <td>946</td>\n",
       "      <td>946</td>\n",
       "      <td>945</td>\n",
       "      <td>948</td>\n",
       "      <td>784</td>\n",
       "      <td>949</td>\n",
       "      <td>946</td>\n",
       "    </tr>\n",
       "    <tr>\n",
       "      <th>114021</th>\n",
       "      <td>945</td>\n",
       "      <td>948</td>\n",
       "      <td>949</td>\n",
       "      <td>948</td>\n",
       "      <td>945</td>\n",
       "      <td>946</td>\n",
       "      <td>947</td>\n",
       "      <td>945</td>\n",
       "      <td>946</td>\n",
       "      <td>946</td>\n",
       "    </tr>\n",
       "    <tr>\n",
       "      <th>146670</th>\n",
       "      <td>947</td>\n",
       "      <td>950</td>\n",
       "      <td>948</td>\n",
       "      <td>947</td>\n",
       "      <td>950</td>\n",
       "      <td>952</td>\n",
       "      <td>946</td>\n",
       "      <td>951</td>\n",
       "      <td>946</td>\n",
       "      <td>947</td>\n",
       "    </tr>\n",
       "  </tbody>\n",
       "</table>\n",
       "</div>"
      ],
      "text/plain": [
       "            site1  site2  site3  site4  site5  site6  site7  site8  site9  \\\n",
       "session_id                                                                  \n",
       "21669          56     55      0      0      0      0      0      0      0   \n",
       "54843          56     55     56     55      0      0      0      0      0   \n",
       "77292         946    946    951    946    946    945    948    784    949   \n",
       "114021        945    948    949    948    945    946    947    945    946   \n",
       "146670        947    950    948    947    950    952    946    951    946   \n",
       "\n",
       "            site10  \n",
       "session_id          \n",
       "21669            0  \n",
       "54843            0  \n",
       "77292          946  \n",
       "114021         946  \n",
       "146670         947  "
      ]
     },
     "execution_count": 16,
     "metadata": {},
     "output_type": "execute_result"
    }
   ],
   "source": [
    "# Dataframe with indices of visited websites in session\n",
    "full_sites = full_df[sites]\n",
    "full_sites.head()"
   ]
  },
  {
   "cell_type": "markdown",
   "metadata": {},
   "source": [
    "Sessions are the sequences of website indices. This representation is inconvenient for linear methods. According to our hypothesis (Alice has favorite websites), we need to transform this dataframe so that each website has its corresponding feature (column) and that its value is equal to number of visits in the session. It can be accomplished with two lines of code:"
   ]
  },
  {
   "cell_type": "code",
   "execution_count": 17,
   "metadata": {},
   "outputs": [],
   "source": [
    "# sequence of indices\n",
    "sites_flatten = full_sites.values.flatten()\n",
    "\n",
    "# and the matrix we are looking for\n",
    "full_sites_sparse = csr_matrix(([1] * sites_flatten.shape[0],\n",
    "                                sites_flatten,\n",
    "                                range(0, sites_flatten.shape[0]  + 10, 10)))[:, 1:]"
   ]
  },
  {
   "cell_type": "markdown",
   "metadata": {},
   "source": [
    "If you understand what just happened here, then feel free to skip the next passage. If not, then let us figure it out.\n",
    "\n",
    "### Lyrical Digression 1: Sparse Matrices\n",
    "\n",
    "Let us estimate how much memory it will require to store our data from the example above. Our united dataframe contains 336k samples with 48k integer features each. We can roughly calculate the required amount of memory as follows:\n",
    "\n",
    "$$336K * 48K * 8 bytes = 16M * 8 bytes = 128 GB,$$\n",
    "\n",
    "(that's an [exact](http://www.wolframalpha.com/input/?i=336358*48371*8+bytes) value). Obviously, ordinary mortals do not have such volumes. (Python may allow you to create such a matrix, but it will not be easy to do anything with it.) However, recall that most of the elements in our matrix are zeros. If we count non-zero elements, then it will be only about 1.8 million, slightly more than 10% of the elements in the matrix. Such a matrix, where most elements are zeros, is considered sparse. The ratio between the number of zero elements and the total number of elements is called the sparseness of the matrix.\n",
    "\n",
    "For working with such matrices, you can use the `scipy.sparse` library. Check [documentation](https://docs.scipy.org/doc/scipy-0.18.1/reference/sparse.html) to understand what possible types of sparse matrices there are, how to work with them, and in which cases their usage is most effective. You can learn how they are arranged, for example, in Wikipedia [article](https://en.wikipedia.org/wiki/Sparse_matrix).\n",
    "Note that a sparse matrix stores only the non-zero elements, and you can get the allocated memory size by doing this (significant memory savings are obvious):"
   ]
  },
  {
   "cell_type": "code",
   "execution_count": 18,
   "metadata": {},
   "outputs": [
    {
     "name": "stdout",
     "output_type": "stream",
     "text": [
      "1866898 elements * 8 bytes = 14935184 bytes\n",
      "sparse_matrix_size = 7467592 bytes\n"
     ]
    }
   ],
   "source": [
    "# How much memory does a sparse matrix occupy?\n",
    "print('{0} elements * {1} bytes = {2} bytes'.format(full_sites_sparse.count_nonzero(), 8, \n",
    "                                                    full_sites_sparse.count_nonzero() * 8))\n",
    "# Or just like this:\n",
    "print('sparse_matrix_size = {0} bytes'.format(full_sites_sparse.data.nbytes))"
   ]
  },
  {
   "cell_type": "markdown",
   "metadata": {},
   "source": [
    "Let us explore how the matrix with the websites was formed using a small example. Suppose we have the following table with user sessions:\n",
    "\n",
    "| id | site1 | site2 | site3 |\n",
    "|---|---|---|---|\n",
    "| 1 | 1 | 0 | 0 |\n",
    "| 2 | 1 | 3 | 1 |\n",
    "| 3 | 2 | 3 | 4 |\n",
    "\n",
    "There are 3 sessions with no more than 3 websites each. Users only visited four different sites in total (indexed as 1 to 4 in the table cells):\n",
    "\n",
    " 1. vk.com\n",
    " 2. habrahabr.ru \n",
    " 3. yandex.ru\n",
    " 4. ods.ai\n",
    "\n",
    "If the user has visited fewer than 3 websites during the session, the last few values will be zero. We want to convert the original dataframe in a way that each session has a corresponding row which shows the number of visits to each particular site i.e. we want to transform the previous table into the following form:\n",
    "\n",
    "| id | vk.com | habrahabr.ru | yandex.ru | ods.ai |\n",
    "|---|---|---|---|---|\n",
    "| 1 | 1 | 0 | 0 | 0 |\n",
    "| 2 | 2 | 0 | 1 | 0 |\n",
    "| 3 | 0 | 1 | 1 | 1 |\n",
    "\n",
    "\n",
    "To do this, use the constructor: `csr_matrix ((data, indices, indptr))` and create a frequency table (see examples, code, and comments in the links above to see how this works). Here we set all the parameters explicitly for greater clarity:"
   ]
  },
  {
   "cell_type": "code",
   "execution_count": 19,
   "metadata": {
    "scrolled": true
   },
   "outputs": [
    {
     "data": {
      "text/plain": [
       "matrix([[2, 1, 0, 0, 0],\n",
       "        [0, 2, 0, 1, 0],\n",
       "        [0, 0, 1, 1, 1]])"
      ]
     },
     "execution_count": 19,
     "metadata": {},
     "output_type": "execute_result"
    }
   ],
   "source": [
    "# data, create the list of ones, length of which equal to the number of elements in the initial dataframe (9)\n",
    "# By summing the number of ones in the cell, we get the frequency,\n",
    "# number of visits to a particular site per session\n",
    "data = [1] * 9\n",
    "\n",
    "# To do this, you need to correctly distribute the ones in cells\n",
    "# Indices - website ids, i.e. columns of a new matrix. We will sum ones up grouping them by sessions (ids)\n",
    "indices = [1, 0, 0, 1, 3, 1, 2, 3, 4]\n",
    "\n",
    "# Indices for the division into rows (sessions)\n",
    "# For example, line 0 is the elements between the indices [0; 3) - the rightmost value is not included\n",
    "# Line 1 is the elements between the indices [3; 6)\n",
    "# Line 2 is the elements between the indices [6; 9) \n",
    "indptr = [0, 3, 6, 9]\n",
    "\n",
    "# Aggregate these three variables into a tuple and compose a matrix\n",
    "# To display this matrix on the screen transform it into the usual \"dense\" matrix\n",
    "csr_matrix((data, indices, indptr)).todense()"
   ]
  },
  {
   "cell_type": "code",
   "execution_count": 24,
   "metadata": {},
   "outputs": [
    {
     "data": {
      "text/plain": [
       "array([[1, 0, 0, 0],\n",
       "       [2, 0, 1, 0],\n",
       "       [0, 1, 1, 1]])"
      ]
     },
     "execution_count": 24,
     "metadata": {},
     "output_type": "execute_result"
    }
   ],
   "source": [
    "csr_matrix((data, indices,indptr)).toarray()[:,1:]"
   ]
  },
  {
   "cell_type": "markdown",
   "metadata": {},
   "source": [
    "As you might have noticed, there are not four columns in the resulting matrix (corresponding to number of different websites) but five. A zero column has been added, which indicates if the session was shorter (in our mini example we took sessions of three). This column is excessive and should be removed from the dataframe (do that yourself).\n",
    "\n",
    "##### 4.4. What is the sparseness of the matrix in our small example?\n",
    "\n",
    "- 42%\n",
    "- 47%\n",
    "- 50%\n",
    "- 53%\n",
    "\n"
   ]
  },
  {
   "cell_type": "code",
   "execution_count": 30,
   "metadata": {},
   "outputs": [
    {
     "data": {
      "text/plain": [
       "50.0"
      ]
     },
     "execution_count": 30,
     "metadata": {},
     "output_type": "execute_result"
    }
   ],
   "source": [
    "# Your code is here\n",
    "csr_matrix((data, indices,indptr))[:,1:].count_nonzero() * 100 / len(csr_matrix((data, indices,indptr)).toarray()[:,1:].flatten())"
   ]
  },
  {
   "cell_type": "markdown",
   "metadata": {},
   "source": [
    "Another benefit of using sparse matrices is that there are special implementations of both matrix operations and machine learning algorithms for them, which sometimes allows significantly faster operations due to the data structure. This applies to logistic regression as well. Now everything is ready to build our first model.\n",
    "\n",
    "### 3. Training the first model\n",
    "\n",
    "We have an algorithm and data for it. Let's build our first model using the [logistic regression](http://scikit-learn.org/stable/modules/generated/sklearn.linear_model.LogisticRegression.html) implementation from ` sklearn` with default parameters. We will use the first 90% of the data for training (sorted by time) and the remaining 10% for validation. Let's write a simple function that returns the quality of the model and then train our first classifier:"
   ]
  },
  {
   "cell_type": "code",
   "execution_count": 31,
   "metadata": {},
   "outputs": [],
   "source": [
    "def get_auc_lr_valid(X, y, C=1.0, seed=17, ratio = 0.9):\n",
    "    # Split the data into the training and validation sets\n",
    "    idx = int(round(X.shape[0] * ratio))\n",
    "    # Classifier training\n",
    "    lr = LogisticRegression(C=C, random_state=seed).fit(X[:idx, :], y[:idx])\n",
    "    # Prediction for validation set\n",
    "    y_pred = lr.predict_proba(X[idx:, :])[:, 1]\n",
    "    # Calculate the quality\n",
    "    score = roc_auc_score(y[idx:], y_pred)\n",
    "    \n",
    "    return score"
   ]
  },
  {
   "cell_type": "code",
   "execution_count": 33,
   "metadata": {},
   "outputs": [
    {
     "name": "stdout",
     "output_type": "stream",
     "text": [
<<<<<<< HEAD
      "0.919524256796\n",
      "Wall time: 16.4 s\n"
=======
      "0.9195241058359781\n",
      "CPU times: user 3.22 s, sys: 57.3 ms, total: 3.28 s\n",
      "Wall time: 3.29 s\n"
>>>>>>> d76a3633c4e34d4cca9b3efb9855b91b151f92b6
     ]
    }
   ],
   "source": [
    "%%time\n",
    "# Select the training set from the united dataframe (where we have the answers)\n",
    "X_train = full_sites_sparse[:idx_split, :]\n",
    "\n",
    "# Calculate metric on the validation set\n",
    "print(get_auc_lr_valid(X_train, y_train))"
   ]
  },
  {
   "cell_type": "markdown",
   "metadata": {},
   "source": [
    "The first model achieved an accuracy of 0.91952 on the validation set. The will be the first baseline and starting point. To make a prediction on the test data set, ** we need to train the model again on the entire training dataset ** Up until now, our model used only part of the data for training; this will now increase its generalizing ability:"
   ]
  },
  {
   "cell_type": "code",
   "execution_count": 34,
   "metadata": {},
   "outputs": [],
   "source": [
    "# Function for writing predictions to a file\n",
    "def write_to_submission_file(predicted_labels, out_file,\n",
    "                             target='target', index_label=\"session_id\"):\n",
    "    predicted_df = pd.DataFrame(predicted_labels,\n",
    "                                index = np.arange(1, predicted_labels.shape[0] + 1),\n",
    "                                columns=[target])\n",
    "    predicted_df.to_csv(out_file, index_label=index_label)"
   ]
  },
  {
   "cell_type": "code",
   "execution_count": 35,
   "metadata": {},
   "outputs": [],
   "source": [
    "# Train the model on the whole training data set\n",
    "# Use random_state=17 for repeatability\n",
    "# Parameter C=1 by default, but here we set it explicitly\n",
    "lr = LogisticRegression(C=1.0, random_state=17).fit(X_train, y_train)\n",
    "\n",
    "# Make a prediction for test data set\n",
    "X_test = full_sites_sparse[idx_split:,:]\n",
    "y_test = lr.predict_proba(X_test)[:, 1]\n",
    "\n",
    "# Write it to the file which could be submitted\n",
    "write_to_submission_file(y_test, 'baseline_1.csv')"
   ]
  },
  {
   "cell_type": "markdown",
   "metadata": {},
   "source": [
    "If you follow these steps and upload the answer to the competition [page](https://inclass.kaggle.com/c/catch-me-if-you-can-intruder-detection-through-webpage-session-tracking2), you will get `ROC AUC = 0.90812` on the public leaderboard.\n",
    "\n",
    "### 4. Model Improvement: New Features Engineering\n",
    "\n",
    "Now we are going to try to improve the quality of our model by adding new features to the data. But first, answer the following question:\n",
    "\n",
    "##### 4.5. What years are present in the training and test datasets, respectively?\n",
    "\n",
    "- 13 and 14\n",
    "- 2012 and 2013\n",
    "- 2013 and 2014\n",
    "- 2014 and 2015"
   ]
  },
  {
   "cell_type": "code",
   "execution_count": 38,
   "metadata": {},
   "outputs": [
    {
     "data": {
      "text/plain": [
       "session_id\n",
       "1   2014-10-04 11:19:53\n",
       "2   2014-07-03 11:00:28\n",
       "3   2014-12-05 15:55:12\n",
       "4   2014-11-04 10:03:19\n",
       "5   2014-05-16 15:05:31\n",
       "Name: time1, dtype: datetime64[ns]"
      ]
     },
     "execution_count": 38,
     "metadata": {},
     "output_type": "execute_result"
    }
   ],
   "source": [
    "# Your code is here\n",
    "\n",
    "test_df['time1'].head().ipynb_checkpoints/"
   ]
  },
  {
   "cell_type": "markdown",
   "metadata": {},
   "source": [
    "Create a feature that will be a number in YYYYMM format for the date when the session was held, for example 201407 -- year 2014 and 7th month. We will take into account the monthly [linear trend](http://people.duke.edu/~rnau/411trend.htm) for the entire period of the data provided."
   ]
  },
  {
   "cell_type": "code",
   "execution_count": 39,
   "metadata": {},
   "outputs": [],
   "source": [
    "# Dataframe for new features\n",
    "full_new_feat = pd.DataFrame(index=full_df.index)\n",
    "\n",
    "# Add start_month feature\n",
    "full_new_feat['start_month'] = full_df['time1'].apply(lambda ts: 100 * ts.year + ts.month)"
   ]
  },
  {
   "cell_type": "markdown",
   "metadata": {},
   "source": [
    "##### 4.6. Plot the graph of the number of Alice sessions versus the new feature, start_month. Choose the correct statement:\n",
    "\n",
    "- Alice wasn't online at all for the entire period\n",
    "- From the beginning of 2013 to mid-2014, the number of Alice's sessions per month decreased\n",
    "- The number of Alice's sessions per month is generally constant for the entire period\n",
    "- From the beginning of 2013 to mid-2014, the number of Alice's sessions per month increased\n",
    "\n",
    "*Hint: the graph will be more explicit if you treat `start_month` as a categorical ordinal variable *."
   ]
  },
  {
   "cell_type": "code",
   "execution_count": 71,
   "metadata": {},
   "outputs": [
    {
     "data": {
      "text/plain": [
       "<matplotlib.axes._subplots.AxesSubplot at 0x28ba3574f28>"
      ]
     },
     "execution_count": 71,
     "metadata": {},
     "output_type": "execute_result"
    },
    {
     "data": {
      "image/png": "iVBORw0KGgoAAAANSUhEUgAAA30AAAFCCAYAAABFObToAAAABHNCSVQICAgIfAhkiAAAAAlwSFlzAAALEgAACxIB0t1+/AAAADl0RVh0U29mdHdhcmUAbWF0cGxvdGxpYiB2ZXJzaW9uIDIuMS4xLCBodHRwOi8vbWF0cGxvdGxpYi5vcmcvAOZPmwAAFCRJREFUeJzt3X+wpXddH/D3J2yCQrsTaIJlZWqwjlLBWGMTEkhISHYqo0JpC51pp9hO7S8Vh/FHahUH10yZkWkhTQVnqk6VX3GKIILSgl1KwoYkTbLRKuigw7TAsEOLYJLWEiHsp3+cs3q599zdm815ztnzva/XzJl9nu95nud8zicnz73v+z3POdXdAQAAYEznrbsAAAAApiP0AQAADEzoAwAAGJjQBwAAMDChDwAAYGBCHwAAwMCEPgAAgIEJfQAAAAMT+gAAAAYm9AEAAAzswLoLOFsXXXRRX3LJJesuAwAAYC2OHz/+h9198Zm229jQd8kll+S+++5bdxkAAABrUVUf38t23t4JAAAwMKEPAABgYEIfAADAwIQ+AACAgQl9AAAAAxP6AAAABib0AQAADEzoAwAAGJjQBwAAMDChDwAAYGAH1l0AwKa5/XnXrruEjXHtB29fdwkAsO+Z6QMAABiY0AcAADAwoQ8AAGBgQh8AAMDAhD4AAICBCX0AAAADE/oAAAAGJvQBAAAMTOgDAAAYmNAHAAAwMKEPAABgYEIfAADAwIQ+AACAgQl9AAAAAxP6AAAABib0AQAADEzoAwAAGJjQBwAAMDChDwAAYGBCHwAAwMAOrLsAAACS33v1f113CRvjr7zy+nWXABvFTB8AAMDAhD4AAICBTRr6quoHq+qO+fLNVXWsqm7Zcv+OMQAAAJZnstBXVY9P8s3z5cuSPLG7r0lyQVVdvmhsqloAAAD2qyln+v5xkjfOl69KcnS+fDTJlbuMAQAAsESTfHpnVZ2f5NrufkNV3ZTkwiQfm9/9YJJnJvnSgrEzHfdIkp9Ikqc+9alLrhoAgP3kyJEj6y5hY+jVZptqpu9lSW7dsv5AkoPz5YPz9UVjp9XdR7q7ursOHTq0xHIBAADGNFXo+4Yk31NV781sBu+iJDfM7zuc5O4kdy0YAwAAYIkmCX3d/SPd/W3d/YIkH+nun0zycFUdS3Kyu+/p7vu3j01RCwAAwH42yTV9W3X31fN/X7Hgvh1jAAAALI8vZwcAABiY0AcAADAwoQ8AAGBgQh8AAMDAhD4AAICBCX0AAAADE/oAAAAGJvQBAAAMbPIvZwem9dyffu66S9gYH/r+D627BACAlTPTBwAAMDChDwAAYGBCHwAAwMCEPgAAgIEJfQAAAAMT+gAAAAYm9AEAAAxM6AMAABiY0AcAADAwoQ8AAGBgQh8AAMDAhD4AAICBCX0AAAADE/oAAAAGJvQBAAAMTOgDAAAYmNAHAAAwMKEPAABgYEIfAADAwIQ+AACAgQl9AAAAAxP6AAAABib0AQAADEzoAwAAGJjQBwAAMDChDwAAYGBCHwAAwMCEPgAAgIEJfQAAAAMT+gAAAAYm9AEAAAxM6AMAABiY0AcAADAwoQ8AAGBgQh8AAMDAhD4AAICBCX0AAAADE/oAAAAGJvQBAAAMTOgDAAAYmNAHAAAwsElCX1U9q6rurKpjVfULNXPzfP2WLdvtGAMAAGB5pprp+2h3P6e7r5mvX5HkifP1C6rq8qq6bPvYRLUAAADsWwemOGh3f3HL6p8kOZzk6Hz9aJIrk5xcMHbvFPUAAADr97ZfvmLdJWyMv/PSe5Z2rMmu6auqF1XVh5M8JbNw+dD8rgeTPCnJhQvGznTMI1XVVdUnTpyYoGoAAICxTBb6uvvd3f2sJJ9K8kiSg/O7DiZ5YH7bPnamYx7p7uruOnTo0ARVAwAAjGWqD3J5/JbVh5J0khvm64eT3J3krgVjAAAALNFUM30vqKrbq+r2JF+V5KeSPFxVx5Kc7O57uvv+7WMT1QIAALBvTfVBLu9K8q5tw69YsN2OMQAAAJbHl7MDAAAMTOgDAAAYmNAHAAAwMKEPAABgYEIfAADAwIQ+AACAgQl9AAAAAxP6AAAABib0AQAADEzoAwAAGJjQBwAAMDChDwAAYGBCHwAAwMCEPgAAgIEJfQAAAAMT+gAAAAYm9AEAAAxM6AMAABiY0AcAADAwoQ8AAGBgQh8AAMDAhD4AAICBCX0AAAAD21Poq6pf3LZ+8yTVAAAAsFQHTndnVf3FJF+d5JlVddl8+Pwk3zJ1YQAAADx2pw19SZ6d5MVJnpbk++djX0hipg8AAGADnDb0dfe7kryrqr6+u39/RTUBAACwJGea6Tvlwqr6hSRPTlJJ0t0vmqwqAAAAlmKvoe/nkrw8yScmrAUAAIAl22vo+1h3H5u0EgAAAJZur6Hv81V1a5LjSTpJuvt1k1UFAADAUuw19P3GpFUAAAAwib2Gvl+btAoAAAAmsdfQ947M3tZ5XpJnJPlkksunKgoAAIDl2FPo6+7nn1quqj+X5JbJKgIAAGBpzjuLfT6f5NJlFwIAAMDy7Wmmr6p+J7O3d1aS85P8/JRFAQAAsBx7fXvnN01dCAAAAMu3p7d3VtXFVfXaqvr1qnpdVT1l6sIAAAB47PZ6Td8bk9yd5J/N/33TZBUBAACwNHsNfU/o7l/u7k9199uSfOWURQEAALAce/2evs9W1Q9kNst3VZLPTVcSAAAAy7LXmb7XZvbJnS/L7FM8/81kFQEAALA0e53pe/W2L2h/f5IbpikJAACAZdnrTN/529a/YtmFAAAAsHx7nem7q6p+PskHklyX2bV9AAAAnOP2+uXsN1bVdyT5xiTv7O7/NG1ZAAAALMNeZ/rS3e9J8p4JawEAAGDJ9npNHwAAABtI6AMAABjYJKGvqp5dVXdW1bGqunk+dmNV3VFVb62q83cbAwAAYHmmmun7eJLru/uaJE+pqmuSPL+7r07y20leXFUXbx+bqBYAAIB9a5LQ192f7u6H56uPJLk0yW3z9aNJrkxyxYIxAAAAlmjSa/qq6tIkFyV5IMlD8+EHkzwpyYULxs50vCNV1VXVJ06cmKBiAACAsUwW+qrqyUlen+S7Mwt9B+d3HZyvLxo7re4+0t3V3XXo0KHlFw0AADCYqT7I5UCStyS5sbs/neTeJNfO7z6c5O5dxgAAAFiiqWb6Xprk8iSvqarbkvzlJB+sqjuS/NUkv9rd/3v72ES1AAAA7FsHpjhod/9Skl/aNnxXktds2+4128cAAABYHl/ODgAAMDChDwAAYGBCHwAAwMCEPgAAgIEJfQAAAAMT+gAAAAYm9AEAAAxM6AMAABiY0AcAADAwoQ8AAGBgQh8AAMDAhD4AAICBCX0AAAADE/oAAAAGJvQBAAAMTOgDAAAYmNAHAAAwMKEPAABgYEIfAADAwIQ+AACAgQl9AAAAAxP6AAAABib0AQAADEzoAwAAGJjQBwAAMDChDwAAYGBCHwAAwMCEPgAAgIEJfQAAAAMT+gAAAAYm9AEAAAxM6AMAABiY0AcAADAwoQ8AAGBgB9ZdAACcyet/6NfWXcLGePlrX7juEgA4x5jpAwAAGJiZPgBgh1f//Zesu4SN8cq3vH3dJQCclpk+AACAgQl9AAAAAxP6AAAABib0AQAADEzoAwAAGJjQBwAAMDChDwAAYGBCHwAAwMCEPgAAgIEJfQAAAAMT+gAAAAYm9AEAAAxM6AMAABjYJKGvqg5V1f1V9XBVHZiP3VxVx6rqli3b7RgDAABgeaaa6ftckhuS3J0kVXVZkid29zVJLqiqyxeNTVQLAADAvnVgioN298NJHq6qU0NXJTk6Xz6a5MokJxeM3TtFPQAAAPvVqq7puzDJQ/PlB5M8aZex06qqI1XVVdUnTpyYpFAAAICRrCr0PZDk4Hz54Hx90dhpdfeR7q7urkOHDk1SKAAAwEhWFfruyuwavyQ5nNm1fovGAAAAWKKpPr3z/Ko6muSbk7wvyfmZXeN3LMnJ7r6nu+/fPjZFLQAAAPvZVB/k8sXMZu+2+m8LtnvFFI8PAADAjC9nBwAAGJjQBwAAMDChDwAAYGBCHwAAwMCEPgAAgIEJfQAAAAMT+gAAAAYm9AEAAAxM6AMAABiY0AcAADAwoQ8AAGBgQh8AAMDAhD4AAICBCX0AAAADE/oAAAAGJvQBAAAMTOgDAAAYmNAHAAAwsAPrLmBK33rjm9ZdwsY4/q+/a90lAAAAEzDTBwAAMDChDwAAYGBCHwAAwMCEPgAAgIEJfQAAAAMT+gAAAAYm9AEAAAxM6AMAABiY0AcAADAwoQ8AAGBgQh8AAMDAhD4AAICBHVh3AYzlEzd907pL2Bh/6VW/s+4SAADYB8z0AQAADEzoAwAAGJjQBwAAMDChDwAAYGBCHwAAwMCEPgAAgIEJfQAAAAMT+gAAAAYm9AEAAAxM6AMAABiY0AcAADAwoQ8AAGBgQh8AAMDAhD4AAICBCX0AAAADE/oAAAAGJvQBAAAMTOgDAAAY2NpDX1XdXFXHquqWddcCAAAwmrWGvqq6LMkTu/uaJBdU1eXrrAcAAGA0657puyrJ0fny0SRXrrEWAACA4VR3r+/Bq16Z5Hh3v7eqDid5TnffdJrtjyT5ifnq/0vye9NXuXSHkpxYdxH7jJ6vnp6vnp6vnp6vnp6vnp6vnp6v3ib3/Gu6++IzbbTu0Pd9ST7T3W+rqr+V5Gnd/e/WVtAKVFV3d627jv1Ez1dPz1dPz1dPz1dPz1dPz1dPz1dvP/R83W/vvCvJDfPlw0nuXmMtAAAAw1lr6Ovu+5M8XFXHkpzs7nvWWQ8AAMBoDqy7gO5+xbprWLGfXHcB+5Cer56er56er56er56er56er56er97wPV/rNX0AAABMa93X9AEAADAhoQ8AAGBgQh8AAMDAhD4AAICBCX0AAAADE/rOUlU9u6rurKpjVXXzfOzGqrqjqt5aVefPb3dV1f+tqq+bb3PRfL/bq+rdVfWVu+z79PmxP1hVt1bV49b5fM8FU/d8y+P87ar65Hqe5bllFT2vqp+uqtuq6j94nS+357tst2Nsv1tBz53Ptznbnm/Z/8vO049m3/1qBT33Ot9mBT1f+LN2P5u657tttwmEvrP38STXd/c1SZ5SVdckeX53X53kt5O8OMkj83/fvmW/P0pydXdfm+R4ku+sqosX7PtAkhd29/OS/I8k376i53Uum7rnp7wkyUb9jzyhSXteVZcnuaC7r0vykSTfuaLndS5bWs932W7R2H43dc+dz3c6256f8qfn6V3O517nO03dc6/znabu+aJz0H43dc93bLcphL6z1N2f7u6H56uPJLk0yW3z9aNJruyZ/7Vtvy9198n56uOS/EGSKxbs+0fd/cCW439pkieyQabueZJU1Xck+S9JToZV9PxrMzuRJslvJblqgqexUZbZ81222zG2362g587n25xtz5OF5+lFP0O9zrdZQc+9zrdZQc8X/azd16bu+S7bbQSh7zGqqkuTXJTZX7gemg8/mORJp9nniqq6L8n1mf017MLd9q2qQ0kOJ/mNpRe/oSbu+T9I8pYJyt5oE/b8o0munY9df7rj7TdL6jmPwtQ9dz7f6Wx6np3n6V1/hrLT1D33Ot9pyp477y828et8I39XFPoeg6p6cpLXJ/nuzF5UB+d3HZyvL9Td93T3X0vyziT/aLd9q+rxSd6Y5J909yNTPIdNM2XPq+r6JHd29xcmKn8jTdnz7v6tJB+uqg/Mx/xlPkvtOXs0dc+dz3c6m57vcp7e83+v/W7qnnud7zR1z533d5qy55v8u6LQd5aq6kBmKf/G7v50knvzZzMWh5Pcvct+F2xZfSjJ50+z788m+Znu/t3lVr+ZVtDzZyV5UVW9N8kzq+pfLf1JbJhVvM67+6bufn6SzyZ5z7Kfw6ZZcs/ZgxX13Pl8i7PteRafp/e67762op57nW8xdc+d93dawet8c39X7G63s7gl+btJPpPZe31vy+xapB9JckeSWzP7cIokeVuSE0k+lORvZPb+4NuTfCDJO5I8Yb7dl+07P97/2XL8v7nu57zu29Q93/ZYd6z7+Z4LtxW8zs+bH/f9SX5s3c/3XLhN0PMv2263sf18m7rnzufL6/m2Y9yxZflR7bsfb1P33Ot8LT1feA7az7dVnFsWbbcJt5oXDQAAwIC8vRMAAGBgQh8AAMDAhD4AAICBCX0AAAADE/oAAAAGJvQBAAAMTOgDYGhVdV1VfeOj3Od7p6pnwWP9aX1VdUlV/fqqHhuA/UHoA2B01yXZU+iruSQrC315FPUBwNnw5ewADKWqvjbJm5N8MUkneXqSP07yqe7+61X1n5N8xfz2D7v7o1V1W5L7knxLkg8m+RdJ7k3ys91967bjX5fkx+bHfEaSH03yXUm+PsmruvtXquoZSf59kkry0ST/NMm1SX4oyeczC3k/nuQDSf77qfrm2701yceSXJrk57r7DcvtEAD7zYF1FwAAS3Zdknd09+uq6rwkr0ry4e5++/z+l3T3H1fVtyX5gST/fD5+rLt/OEmq6qXdfd1pHuPPJ3lBkucmeVOSb0jyVUnekuRXkrwmyQ929/Gq+pkkL0ryYJK/kOTqJE9L8ubu/tWq+sVT9VXVJUm+Osn1SR6XWRAV+gB4TIQ+AEbzH5P8eFW9OcmHt95RVU9I8ob5bOAFST6z5e67H8Vj3N/dJ6vqk0l+t7u/kOSTVfXk+f1P7+7j8+U7MwuF9yT5ze4+meQTW7bd7iPd/Sfzek8+ipoAYCHX9AEwmpPd/aPd/bIkh5OczJ/9kfMFST7X3c9LclNmb7885Utbls907UPvsnzqeP+zqr51vvycJL9/mm2/kC//I6zrLgBYKqEPgNG8sKpur6rbk3w2yfuSvLyqbs1sNu95VfW+zALhbn6zqt5ZVS8+yxr+ZZJ/W1XHMrt28N2n2fb9W+oDgKXzQS4AAAADc00fAOyiqv5eZp+oudVLu/szi7YHgHORmT4AAICBuaYPAABgYEIfAADAwIQ+AACAgQl9AAAAAxP6AAAABvb/Ad+mGlFhFKxAAAAAAElFTkSuQmCC\n",
      "text/plain": [
       "<matplotlib.figure.Figure at 0x28ba54ce860>"
      ]
     },
     "metadata": {},
     "output_type": "display_data"
    }
   ],
   "source": [
    "# Your code is here\n",
    "full_new_feat['target'] = 999\n",
    "full_new_feat['target'].iloc[:idx_split] = y_train\n",
    "fig, ax = plt.subplots(figsize=(15,5))\n",
    "\n",
    "sns.countplot(data= full_new_feat[full_new_feat['target'] == 1].iloc[:idx_split] , x='start_month')"
   ]
  },
  {
   "cell_type": "markdown",
   "metadata": {},
   "source": [
    "Now we have an illustration and some intuition about the usefulness of this new feature. Add it to the training sample, and check the quality of the new model:"
   ]
  },
  {
   "cell_type": "code",
   "execution_count": 22,
   "metadata": {},
   "outputs": [
    {
     "name": "stdout",
     "output_type": "stream",
     "text": [
      "0.7508354860175162\n"
     ]
    }
   ],
   "source": [
    "# Add the new feature to the sparse matrix\n",
    "tmp = full_new_feat[['start_month']].as_matrix()\n",
    "X_train = csr_matrix(hstack([full_sites_sparse[:idx_split,:], tmp[:idx_split,:]]))\n",
    "\n",
    "# Compute the metric on the validation set\n",
    "print(get_auc_lr_valid(X_train, y_train))"
   ]
  },
  {
   "cell_type": "markdown",
   "metadata": {},
   "source": [
    "The quality of the model has decreased significantly. We added a feature that definitely seemed useful to us, but it only made the model worse. Why did that happen?\n",
    "\n",
    "### Lyrical Digression 2: is it necessary to scale the features?\n",
    "\n",
    "Here we will use intuitive reasoning (you can easily find a rigorous mathematical justification for linear models on the internet). Consider the features more closely: those that correspond to the number of visits to a particular web-site per session vary from 0 to 10. The feature `start_month` has a completely different range, 201301 to 201412; this means the contribution from this variable is significantly greater than the others. It would seem that problem can be avoided if we put less weight on a linear combination of attributes in this case, but we are using logistic regression with regularization (by default, this parameter is `C = 1`), which penalizes the model the stronger its weights are. Therefore, for linear methods with regularization, it is recommended to convert features to the same scale (you can read more about regularization [here](https://habrahabr.ru/company/ods/blog/322076/)).\n",
    "\n",
    "One way to do this is with standardization: for each observation you need to subtract the average value of the feature and divide the difference by the standard deviation:\n",
    "\n",
    "$$ x^{*}_{i} = \\dfrac{x_{i} - \\mu_x}{\\sigma_x}$$\n",
    "\n",
    "Here are some practical tips:\n",
    "- It is recommended to scale features if they have essentially different ranges or different units of measurement (for example, the country's population is in millions, and the country's GNP is in trillions)\n",
    "- Scale features if you do not have a reason or opinion to give a greater weight to any of them\n",
    "- Scaling can be excessive if the ranges of some of your features differ from each other but have the same units (for example, the proportion of middle-aged people and the proportion of people over 80)\n",
    "- If you want to get an interpretable model, then build a model without regularization and scaling (most likely, its quality will be worse)\n",
    "- Binary features (which take only values of 0 or 1) are usually left without conversion, but...\n",
    "- If the quality of the model is crucial, try different options and select the one where the performance is better\n",
    "\n",
    "Keeping this in mind, let's return to `start_month` and rescale the feature to train the model again. This time, we see that the quality has increased:"
   ]
  },
  {
   "cell_type": "code",
   "execution_count": 23,
   "metadata": {},
   "outputs": [
    {
     "name": "stdout",
     "output_type": "stream",
     "text": [
      "0.9196984641972088\n"
     ]
    }
   ],
   "source": [
    "# Add the new standardized feature to the sparse matrix\n",
    "tmp = StandardScaler().fit_transform(full_new_feat[['start_month']])\n",
    "X_train = csr_matrix(hstack([full_sites_sparse[:idx_split,:], tmp[:idx_split,:]]))\n",
    "\n",
    "# Compute metric on the validation set\n",
    "print(get_auc_lr_valid(X_train, y_train))"
   ]
  },
  {
   "cell_type": "markdown",
   "metadata": {},
   "source": [
    "##### 4.7. Add to the training set a new feature \"n_unique_sites\" – the number of the unique web-sites in a session. Calculate how the quality on the validation set has changed\n",
    "\n",
    "- It has decreased. It is better not to add a new feature.\n",
    "- It has not changed\n",
    "- It has decreased. The new feature should be scaled.\n",
    "- I am confused, and I do not know if it's necessary to scale a new feature.\n",
    "\n",
    "*Tips: use the nunique() function from `pandas`. Do not forget to include the start_month in the set. Will you scale a new feature? Why?*"
   ]
  },
  {
   "cell_type": "code",
   "execution_count": 77,
   "metadata": {},
   "outputs": [],
   "source": [
    "# Your code is here\n",
    "full_new_feat['n_unique_sites'] = full_df[sites].nunique(axis=1)\n",
    "#full_df[sites].nunique(axis=1)"
   ]
  },
  {
   "cell_type": "code",
   "execution_count": 106,
   "metadata": {},
   "outputs": [
    {
     "name": "stdout",
     "output_type": "stream",
     "text": [
      "0.437092031627\n"
     ]
    }
   ],
   "source": [
    "tmp = full_new_feat[['start_month','n_unique_sites']].as_matrix()\n",
    "X_train = csr_matrix(hstack([full_sites_sparse[:idx_split,:], tmp[:idx_split,:]]))\n",
    "\n",
    "print(get_auc_lr_valid(X_train, y_train))"
   ]
  },
  {
   "cell_type": "code",
   "execution_count": 79,
   "metadata": {},
   "outputs": [
    {
     "name": "stdout",
     "output_type": "stream",
     "text": [
      "0.915685882015\n"
     ]
    }
   ],
   "source": [
    "tmp = StandardScaler().fit_transform(full_new_feat[['start_month','n_unique_sites']])\n",
    "X_train = csr_matrix(hstack([full_sites_sparse[:idx_split,:], tmp[:idx_split,:]]))\n",
    "\n",
    "print(get_auc_lr_valid(X_train, y_train))"
   ]
  },
  {
   "cell_type": "markdown",
   "metadata": {},
   "source": [
    "So, the new feature has slightly decreased the quality, so we will not use it. Nevertheless, do not rush to throw features out because they haven't performed well. They can be useful in a combination with other features (for example, when a new feature is a ratio or a product of two others).\n",
    "\n",
    "#####  4.8. Add two new features: start_hour and morning. Calculate the metric. Which of these features gives an improvement?\n",
    "\n",
    "The `start_hour` feature is the hour at which the session started (from 0 to 23), and the binary feature `morning` is equal to 1 if the session started in the morning and 0 if the session started later (we assume that morning means `start_hour` is equal to 11 or less).\n",
    "\n",
    "Will you scale the new features? Make your assumptions and test them in practice.\n",
    "\n",
    "- None of the features gave an improvement :(\n",
    "- `start_hour` feature gave an improvement, and `morning` did not\n",
    "- `morning` feature gave an improvement, and `start_hour` did not\n",
    "- Both features gave an improvement\n",
    "\n",
    "*Tip: find suitable functions for working with time series data in [documentation](http://pandas.pydata.org/pandas-docs/stable/api.html). Do not forget to include the `start_month` feature.*"
   ]
  },
  {
   "cell_type": "code",
   "execution_count": 93,
   "metadata": {},
   "outputs": [],
   "source": [
    "# Your code is here\n",
    "full_new_feat['start_hour'] = full_df['time1'].apply( lambda x : x.hour)\n",
    "full_new_feat['morning'] = (full_new_feat['start_hour'] <= 11).astype('int')"
   ]
  },
  {
   "cell_type": "code",
   "execution_count": 95,
   "metadata": {},
   "outputs": [
    {
     "name": "stdout",
     "output_type": "stream",
     "text": [
      "0.957925214\n"
     ]
    }
   ],
   "source": [
    "tmp = StandardScaler().fit_transform(full_new_feat[['start_month','start_hour']])\n",
    "X_train = csr_matrix(hstack([full_sites_sparse[:idx_split,:], tmp[:idx_split,:]]))\n",
    "\n",
    "print(get_auc_lr_valid(X_train, y_train))"
   ]
  },
  {
   "cell_type": "code",
   "execution_count": 97,
   "metadata": {},
   "outputs": [
    {
     "name": "stdout",
     "output_type": "stream",
     "text": [
      "0.948775702385\n"
     ]
    }
   ],
   "source": [
    "tmp = StandardScaler().fit_transform(full_new_feat[['start_month','morning']])\n",
    "X_train = csr_matrix(hstack([full_sites_sparse[:idx_split,:], tmp[:idx_split,:]]))\n",
    "\n",
    "print(get_auc_lr_valid(X_train, y_train))"
   ]
  },
  {
   "cell_type": "code",
   "execution_count": 96,
   "metadata": {},
   "outputs": [
    {
     "name": "stdout",
     "output_type": "stream",
     "text": [
      "0.959150251318\n"
     ]
    }
   ],
   "source": [
    "tmp = StandardScaler().fit_transform(full_new_feat[['start_month','start_hour','morning']])\n",
    "X_train = csr_matrix(hstack([full_sites_sparse[:idx_split,:], tmp[:idx_split,:]]))\n",
    "\n",
    "print(get_auc_lr_valid(X_train, y_train))"
   ]
  },
  {
   "cell_type": "markdown",
   "metadata": {},
   "source": [
    "### 5. Regularization and Parameter Tuning\n",
    "\n",
    "We have introduced features that improve the quality of our model in comparison with the first baseline. Can we do even better? After we have changed the training and test sets, it almost always makes sense to search for the optimal hyperparameters - the parameters of the model that do not change during training.\n",
    "\n",
    "For example, in week 3, you learned that, in decision trees, the depth of the tree is a hyperparameter, but the feature by which splitting occurs and its threshold is not. \n",
    "\n",
    "In the logistic regression taht we use, the weights of each feature are changing, and we find their optimal values during training; meanwhile, the regularization parameter remains constant. This is the hyperparameter that we are going to optimize now.\n",
    "\n",
    "Calculate the quality on a validation set with a regularization parameter, which is equal to 1 by default:"
   ]
  },
  {
   "cell_type": "code",
   "execution_count": 98,
   "metadata": {},
   "outputs": [
    {
     "name": "stdout",
     "output_type": "stream",
     "text": [
      "0.959150251318\n"
     ]
    }
   ],
   "source": [
    "# Compose the training set\n",
    "tmp_scaled = StandardScaler().fit_transform(full_new_feat[['start_month', 'start_hour', \n",
    "                                                           'morning']])\n",
    "X_train = csr_matrix(hstack([full_sites_sparse[:idx_split,:], \n",
    "                             tmp_scaled[:idx_split,:]]))\n",
    "\n",
    "# Capture the quality with default parameters\n",
    "score_C_1 = get_auc_lr_valid(X_train, y_train)\n",
    "print(score_C_1)"
   ]
  },
  {
   "cell_type": "markdown",
   "metadata": {},
   "source": [
    "We will try to beat this result by optimizing the regularization parameter. We will take a list of possible values of $C$ and calculate the quality metric on the validation set for each of $C$-values:"
   ]
  },
  {
   "cell_type": "code",
   "execution_count": 103,
   "metadata": {},
   "outputs": [
    {
     "name": "stdout",
     "output_type": "stream",
     "text": [
      "0.001 0.822964445386\n",
      "0.00278255940221 0.896535371047\n",
      "0.00774263682681 0.93904167512\n",
      "0.0215443469003 0.956360517538\n",
      "0.0599484250319 0.960692152877\n",
      "0.16681005372 0.961212510688\n",
      "0.464158883361 0.960324717162\n",
      "1.29154966501 0.958670803564\n",
      "3.5938136638 0.955757886734\n",
      "10.0 0.951322995015\n",
      "Wall time: 4min 33s\n"
     ]
    }
   ],
   "source": [
    "from tqdm import tqdm\n",
    "\n",
    "# List of possible C-values\n",
    "Cs = np.logspace(-3, 1, 10)\n",
    "scores = []\n",
<<<<<<< HEAD
    "    \n",
    "for C in Cs:\n",
    "    scores.append(get_auc_lr_valid(X_train, y_train, C=C))\n",
    "    print ( C , get_auc_lr_valid(X_train, y_train, C=C))\n",
    "\n",
    "\n",
    "\n",
    "# Install and import this module to track the number of iterations performed \n",
    "\n",
    "# from tqdm import tqdm\n",
    "# for C in tqdm(Cs):\n",
    "#     scores.append(get_auc_lr_valid(X_train, y_train, C=C))"
=======
    "for C in tqdm(Cs):\n",
    "    scores.append(get_auc_lr_valid(X_train, y_train, C=C))"
>>>>>>> d76a3633c4e34d4cca9b3efb9855b91b151f92b6
   ]
  },
  {
   "cell_type": "markdown",
   "metadata": {},
   "source": [
    "Plot the graph of the quality metric (AUC-ROC) versus the value of the regularization parameter. The value of quality metric corresponding to the default value of C=1 is represented by a horizontal dotted line:"
   ]
  },
  {
   "cell_type": "code",
   "execution_count": 100,
   "metadata": {},
   "outputs": [
    {
     "data": {
      "image/png": "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\n",
      "text/plain": [
       "<matplotlib.figure.Figure at 0x28ba169ba58>"
      ]
     },
     "metadata": {},
     "output_type": "display_data"
    }
   ],
   "source": [
    "plt.plot(Cs, scores, 'ro-')\n",
    "plt.xscale('log')\n",
    "plt.xlabel('C')\n",
    "plt.ylabel('AUC-ROC')\n",
    "plt.title('Regularization Parameter Tuning')\n",
    "# horizontal line -- model quality with default C value\n",
    "plt.axhline(y=score_C_1, linewidth=.5, color = 'b', linestyle='dashed') \n",
    "plt.show()"
   ]
  },
  {
   "cell_type": "markdown",
   "metadata": {},
   "source": [
    "##### 4.9. What is the value of parameter C that corresponds to the highest model quality?\n",
    "\n",
    "- 0.17\n",
    "- 0.46\n",
    "- 1.29\n",
    "- 3.14"
   ]
  },
  {
   "cell_type": "code",
   "execution_count": 104,
   "metadata": {},
   "outputs": [],
   "source": [
    "# Your code is here\n",
    "\n",
    "C = 0.17"
   ]
  },
  {
   "cell_type": "markdown",
   "metadata": {},
   "source": [
    "For the last task in this assignment: train the model using the optimal regularization parameter you found (do not round up to two digits like in the last question). If you do everything correctly and submit your solution, you should see 0.92784 on the public leaderboard:"
   ]
  },
  {
   "cell_type": "code",
   "execution_count": 105,
   "metadata": {},
   "outputs": [],
   "source": [
    "# Prepare the training and test data\n",
    "tmp_scaled = StandardScaler().fit_transform(full_new_feat[['start_month', 'start_hour', 'morning']])\n",
    "X_train = csr_matrix(hstack([full_sites_sparse[:idx_split,:], \n",
    "                             tmp_scaled[:idx_split,:]]))\n",
    "X_test = csr_matrix(hstack([full_sites_sparse[idx_split:,:], \n",
    "                            tmp_scaled[idx_split:,:]]))\n",
    "\n",
    "# Train the model on the whole training data set using optimal regularization parameter\n",
    "lr = LogisticRegression(C=C, random_state=17).fit(X_train, y_train)\n",
    "\n",
    "# Make a prediction for the test set\n",
    "y_test = lr.predict_proba(X_test)[:, 1]\n",
    "\n",
    "# Write it to the submission file\n",
    "write_to_submission_file(y_test, 'baseline_2.csv')"
   ]
  },
  {
   "cell_type": "markdown",
   "metadata": {},
   "source": [
    "### Conclusion\n",
    "\n",
    "In this assignment, you have learned how to use sparse matrices, train logistic regression models, create new features and selected the best ones, learned why you need to scale features, and how to select hyperparameters. (That's a lot!)\n",
    "\n",
    "Here are a few tips for finding new features: think about what you can come up with using existing features, try multiplying or dividing two of them, justify or decline your hypotheses with graphs, extract useful information from time series data (time1 ... time10), do not hesitate to convert an existing feature (for example, take a logarithm), etc. We encourage you to try new ideas and models throughout the course and participate in the competitions - it's fun!"
   ]
  }
 ],
 "metadata": {
  "kernelspec": {
   "display_name": "Python 3",
   "language": "python",
   "name": "python3"
  },
  "language_info": {
   "codemirror_mode": {
    "name": "ipython",
    "version": 3
   },
   "file_extension": ".py",
   "mimetype": "text/x-python",
   "name": "python",
   "nbconvert_exporter": "python",
   "pygments_lexer": "ipython3",
   "version": "3.6.3"
  }
 },
 "nbformat": 4,
 "nbformat_minor": 2
}
